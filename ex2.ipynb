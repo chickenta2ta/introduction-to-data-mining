{
  "nbformat": 4,
  "nbformat_minor": 0,
  "metadata": {
    "colab": {
      "name": "ex2.ipynb",
      "provenance": [],
      "collapsed_sections": []
    },
    "kernelspec": {
      "name": "python3",
      "display_name": "Python 3"
    },
    "language_info": {
      "name": "python"
    }
  },
  "cells": [
    {
      "cell_type": "markdown",
      "metadata": {
        "id": "HY_7tUgrzasL"
      },
      "source": [
        "# 課題2 データの整理\n",
        "\n",
        "配点\n",
        "- Q1 4P\n",
        "- Q2-1 1P\n",
        "- Q2-2 2P\n",
        "- Q2-3 1P\n",
        "- Q2-4 2P\n"
      ]
    },
    {
      "cell_type": "markdown",
      "metadata": {
        "id": "gaePYiuK0Dmd"
      },
      "source": [
        "## Q1\n",
        "### 中央値\n",
        "中央値はデータの中心傾向を観察するための記述統計の指標です。同じくデータの中心傾向の指標である平均値と比べると、データの外れ値の影響を受けにくという特徴があります。1変数の$n$個のデータを考えた時、中央値を求めるにはまず、データの値の大きさの順に並び替えます。\n",
        "\n",
        "次に、データの数が奇数個の場合は、大きさの順に並び替えた$(n+1)/2$番目の値、データの数が偶数個の場合は、大きさの順に並び替えた$n/2$番目と$n/2+1$の値の平均の値、をそれぞれデータの中央値とします。\n",
        "\n",
        "### （標本）分散\n",
        "分散はデータのばらつきを観察するための記述統計の指標です。個々のデータがデータ全体の平均からどらぐらいばらついているかを表します。以下の通り、個々のデータの値$x_{i}$とデータ全体の平均の値$\\overline{x}$の差の2乗和をデータ数$n$で割ったものが分散になります。\n",
        "\n",
        "$\\frac{1}{n}\\Sigma^{n}_{i=1}(x_{i}-\\overline{x})^{2}$\n",
        "\n",
        "0から100までの整数を要素とする任意の長さのリストを引数で入力として受け取り、以下を要素とするリストを返す`avg_med_var()`関数を完成させてください。\n",
        "- 入力リストの全ての要素の平均値\n",
        "- 入力リストの全ての要素の中央値\n",
        "- 入力リストの全ての要素の分散"
      ]
    },
    {
      "cell_type": "code",
      "metadata": {
        "id": "PBXUEkWjzWbZ",
        "exercise_id": "q1",
        "inlinetests": {
          "InlineTest_1": "\nassert 'avg_med_var' in globals(), f\"Have you defined the function 'avg_med_var'?\"\nassert str(avg_med_var.__class__) == \"<class 'function'>\", f\"Have you defined a function 'avg_med_var'? Found a {avg_med_var.__class__} instead\"\ntry:\n  import random\n  import numpy as np\n  #lst = [random.randint(0, 20) for i in range(10)]\n  lst = [1,4,3,2,5,6,8,7,9,10]\n  ans = [np.mean(lst), np.median(lst), np.var(lst)]\n  assert avg_med_var(lst) == ans, f\"Your function 'avg_med_var' returns {avg_med_var(lst)}, while the expected answer is {ans}\"\n  lst = [1,4,3,2,5,6,8,7,9,10,11]\n  ans = [np.mean(lst), np.median(lst), np.var(lst)]\n  assert avg_med_var(lst) == ans, f\"Your function 'avg_med_var' returns {avg_med_var(lst)}, while the expected answer is {ans}\"\nexcept AssertionError as e:\n    raise e\nexcept Exception as e:\n    assert False, f\"Your function raises an exception: {e}.\""
        }
      },
      "source": [
        "def avg_med_var(nonnegative_int_list):\n",
        "  list_length = len(nonnegative_int_list)\n",
        "\n",
        "  average = sum(nonnegative_int_list) / list_length\n",
        "\n",
        "  median = 0\n",
        "  nonnegative_int_list.sort()\n",
        "  mid_index = list_length // 2\n",
        "  is_even_length = list_length % 2 == 0\n",
        "  if is_even_length:\n",
        "    median = (nonnegative_int_list[mid_index - 1] + nonnegative_int_list[mid_index]) / 2\n",
        "  else:\n",
        "    median = nonnegative_int_list[mid_index]\n",
        "\n",
        "  squared_error_sum = 0\n",
        "  for nonnegative_int in nonnegative_int_list:\n",
        "    squared_error_sum += (nonnegative_int - average) ** 2\n",
        "  variance = squared_error_sum / list_length\n",
        "\n",
        "  return [average, median, variance]"
      ],
      "execution_count": 19,
      "outputs": []
    },
    {
      "cell_type": "markdown",
      "metadata": {
        "id": "89Tw1UuQ1izK"
      },
      "source": [
        "`avg_med_var()`関数が完成したら、以下のセルを実行して動作を確認してください。"
      ]
    },
    {
      "cell_type": "code",
      "metadata": {
        "id": "QuuDCRFf1jRo",
        "colab": {
          "base_uri": "https://localhost:8080/"
        },
        "outputId": "71f08014-dfbc-4a80-a991-36121ac8d3d7"
      },
      "source": [
        "print(avg_med_var([1,4,3,2,5,6,8,7,9,10]))\n",
        "print(avg_med_var([1,4,3,2,5,6,8,7,9,10,11]))"
      ],
      "execution_count": 20,
      "outputs": [
        {
          "output_type": "stream",
          "name": "stdout",
          "text": [
            "[5.5, 5.5, 8.25]\n",
            "[6.0, 6, 10.0]\n"
          ]
        }
      ]
    },
    {
      "cell_type": "markdown",
      "metadata": {
        "id": "PlYmaunz14pT"
      },
      "source": [
        "結果はそれぞれ、`[5.5, 5.5, 8.25]`、`[6.0, 6.0, 10.0]`、となります。結果が異なる場合は、作成した`avg_max_min`関数に誤りがないか確認してください。"
      ]
    },
    {
      "cell_type": "markdown",
      "metadata": {
        "id": "gMTTIHWW4Lm9"
      },
      "source": [
        "# Q2\n",
        "以下のような形式の\"user_score.csv\"ファイルを読み込み、データフレーム`score`を作成します。\n",
        "```Python\n",
        "## user_score.csvファイル\n",
        "user, kokugo, shakai, sugaku, rika\n",
        "1, 30, 43, 51, 63\n",
        "2, 39, 21, 49, 56\n",
        "...\n",
        "```"
      ]
    },
    {
      "cell_type": "code",
      "metadata": {
        "id": "UbQTRbRm4Sm2",
        "colab": {
          "base_uri": "https://localhost:8080/"
        },
        "outputId": "3137c6ec-4bb0-4396-89dc-edd95560e5aa"
      },
      "source": [
        "# Colaboratoryでは以下を実行して必要なファイルをダウンロード\n",
        "!wget https://raw.githubusercontent.com/UTDataMining/2020A/master/ex2/user_score.csv"
      ],
      "execution_count": 11,
      "outputs": [
        {
          "output_type": "stream",
          "name": "stdout",
          "text": [
            "--2021-10-22 14:20:12--  https://raw.githubusercontent.com/UTDataMining/2020A/master/ex2/user_score.csv\n",
            "Resolving raw.githubusercontent.com (raw.githubusercontent.com)... 185.199.108.133, 185.199.109.133, 185.199.110.133, ...\n",
            "Connecting to raw.githubusercontent.com (raw.githubusercontent.com)|185.199.108.133|:443... connected.\n",
            "HTTP request sent, awaiting response... 200 OK\n",
            "Length: 2552 (2.5K) [text/plain]\n",
            "Saving to: ‘user_score.csv’\n",
            "\n",
            "\ruser_score.csv        0%[                    ]       0  --.-KB/s               \ruser_score.csv      100%[===================>]   2.49K  --.-KB/s    in 0s      \n",
            "\n",
            "2021-10-22 14:20:12 (43.0 MB/s) - ‘user_score.csv’ saved [2552/2552]\n",
            "\n"
          ]
        }
      ]
    },
    {
      "cell_type": "code",
      "metadata": {
        "id": "urTOeAV34aW5",
        "colab": {
          "base_uri": "https://localhost:8080/",
          "height": 206
        },
        "outputId": "678dc58c-7774-4a2a-bcbd-0d996f204058"
      },
      "source": [
        "import pandas as pd\n",
        "score = pd.read_csv('user_score.csv')\n",
        "score.head()"
      ],
      "execution_count": 12,
      "outputs": [
        {
          "output_type": "execute_result",
          "data": {
            "text/html": [
              "<div>\n",
              "<style scoped>\n",
              "    .dataframe tbody tr th:only-of-type {\n",
              "        vertical-align: middle;\n",
              "    }\n",
              "\n",
              "    .dataframe tbody tr th {\n",
              "        vertical-align: top;\n",
              "    }\n",
              "\n",
              "    .dataframe thead th {\n",
              "        text-align: right;\n",
              "    }\n",
              "</style>\n",
              "<table border=\"1\" class=\"dataframe\">\n",
              "  <thead>\n",
              "    <tr style=\"text-align: right;\">\n",
              "      <th></th>\n",
              "      <th>user</th>\n",
              "      <th>kokugo</th>\n",
              "      <th>shakai</th>\n",
              "      <th>sugaku</th>\n",
              "      <th>rika</th>\n",
              "    </tr>\n",
              "  </thead>\n",
              "  <tbody>\n",
              "    <tr>\n",
              "      <th>0</th>\n",
              "      <td>1</td>\n",
              "      <td>30</td>\n",
              "      <td>43</td>\n",
              "      <td>51</td>\n",
              "      <td>63</td>\n",
              "    </tr>\n",
              "    <tr>\n",
              "      <th>1</th>\n",
              "      <td>2</td>\n",
              "      <td>39</td>\n",
              "      <td>21</td>\n",
              "      <td>49</td>\n",
              "      <td>56</td>\n",
              "    </tr>\n",
              "    <tr>\n",
              "      <th>2</th>\n",
              "      <td>3</td>\n",
              "      <td>29</td>\n",
              "      <td>30</td>\n",
              "      <td>23</td>\n",
              "      <td>57</td>\n",
              "    </tr>\n",
              "    <tr>\n",
              "      <th>3</th>\n",
              "      <td>4</td>\n",
              "      <td>95</td>\n",
              "      <td>87</td>\n",
              "      <td>77</td>\n",
              "      <td>100</td>\n",
              "    </tr>\n",
              "    <tr>\n",
              "      <th>4</th>\n",
              "      <td>5</td>\n",
              "      <td>70</td>\n",
              "      <td>71</td>\n",
              "      <td>78</td>\n",
              "      <td>67</td>\n",
              "    </tr>\n",
              "  </tbody>\n",
              "</table>\n",
              "</div>"
            ],
            "text/plain": [
              "   user  kokugo  shakai  sugaku  rika\n",
              "0     1      30      43      51    63\n",
              "1     2      39      21      49    56\n",
              "2     3      29      30      23    57\n",
              "3     4      95      87      77   100\n",
              "4     5      70      71      78    67"
            ]
          },
          "metadata": {},
          "execution_count": 12
        }
      ]
    },
    {
      "cell_type": "markdown",
      "metadata": {
        "id": "DoexDTJH489m"
      },
      "source": [
        "データフレームの`desribe()`メソッドを使って、各教科ごとの記述統計を確認してください\n",
        "\n",
        "[pandas.DataFrame.describe](https://pandas.pydata.org/pandas-docs/stable/reference/api/pandas.DataFrame.describe.html?highlight=describe#pandas.DataFrame.describe)"
      ]
    },
    {
      "cell_type": "code",
      "metadata": {
        "id": "yfDVrnL749hc",
        "colab": {
          "base_uri": "https://localhost:8080/",
          "height": 300
        },
        "outputId": "33bbb01f-6428-4276-a277-e9658c0b02df"
      },
      "source": [
        "score.describe()"
      ],
      "execution_count": 13,
      "outputs": [
        {
          "output_type": "execute_result",
          "data": {
            "text/html": [
              "<div>\n",
              "<style scoped>\n",
              "    .dataframe tbody tr th:only-of-type {\n",
              "        vertical-align: middle;\n",
              "    }\n",
              "\n",
              "    .dataframe tbody tr th {\n",
              "        vertical-align: top;\n",
              "    }\n",
              "\n",
              "    .dataframe thead th {\n",
              "        text-align: right;\n",
              "    }\n",
              "</style>\n",
              "<table border=\"1\" class=\"dataframe\">\n",
              "  <thead>\n",
              "    <tr style=\"text-align: right;\">\n",
              "      <th></th>\n",
              "      <th>user</th>\n",
              "      <th>kokugo</th>\n",
              "      <th>shakai</th>\n",
              "      <th>sugaku</th>\n",
              "      <th>rika</th>\n",
              "    </tr>\n",
              "  </thead>\n",
              "  <tbody>\n",
              "    <tr>\n",
              "      <th>count</th>\n",
              "      <td>166.000000</td>\n",
              "      <td>166.000000</td>\n",
              "      <td>166.000000</td>\n",
              "      <td>166.000000</td>\n",
              "      <td>166.000000</td>\n",
              "    </tr>\n",
              "    <tr>\n",
              "      <th>mean</th>\n",
              "      <td>83.500000</td>\n",
              "      <td>52.331325</td>\n",
              "      <td>39.602410</td>\n",
              "      <td>45.614458</td>\n",
              "      <td>49.885542</td>\n",
              "    </tr>\n",
              "    <tr>\n",
              "      <th>std</th>\n",
              "      <td>48.064193</td>\n",
              "      <td>21.835858</td>\n",
              "      <td>21.456335</td>\n",
              "      <td>24.236127</td>\n",
              "      <td>21.408130</td>\n",
              "    </tr>\n",
              "    <tr>\n",
              "      <th>min</th>\n",
              "      <td>1.000000</td>\n",
              "      <td>0.000000</td>\n",
              "      <td>4.000000</td>\n",
              "      <td>0.000000</td>\n",
              "      <td>9.000000</td>\n",
              "    </tr>\n",
              "    <tr>\n",
              "      <th>25%</th>\n",
              "      <td>42.250000</td>\n",
              "      <td>35.000000</td>\n",
              "      <td>23.000000</td>\n",
              "      <td>28.000000</td>\n",
              "      <td>31.000000</td>\n",
              "    </tr>\n",
              "    <tr>\n",
              "      <th>50%</th>\n",
              "      <td>83.500000</td>\n",
              "      <td>53.000000</td>\n",
              "      <td>35.000000</td>\n",
              "      <td>43.000000</td>\n",
              "      <td>49.000000</td>\n",
              "    </tr>\n",
              "    <tr>\n",
              "      <th>75%</th>\n",
              "      <td>124.750000</td>\n",
              "      <td>70.000000</td>\n",
              "      <td>53.750000</td>\n",
              "      <td>63.750000</td>\n",
              "      <td>65.750000</td>\n",
              "    </tr>\n",
              "    <tr>\n",
              "      <th>max</th>\n",
              "      <td>166.000000</td>\n",
              "      <td>96.000000</td>\n",
              "      <td>90.000000</td>\n",
              "      <td>100.000000</td>\n",
              "      <td>100.000000</td>\n",
              "    </tr>\n",
              "  </tbody>\n",
              "</table>\n",
              "</div>"
            ],
            "text/plain": [
              "             user      kokugo      shakai      sugaku        rika\n",
              "count  166.000000  166.000000  166.000000  166.000000  166.000000\n",
              "mean    83.500000   52.331325   39.602410   45.614458   49.885542\n",
              "std     48.064193   21.835858   21.456335   24.236127   21.408130\n",
              "min      1.000000    0.000000    4.000000    0.000000    9.000000\n",
              "25%     42.250000   35.000000   23.000000   28.000000   31.000000\n",
              "50%     83.500000   53.000000   35.000000   43.000000   49.000000\n",
              "75%    124.750000   70.000000   53.750000   63.750000   65.750000\n",
              "max    166.000000   96.000000   90.000000  100.000000  100.000000"
            ]
          },
          "metadata": {},
          "execution_count": 13
        }
      ]
    },
    {
      "cell_type": "code",
      "metadata": {
        "colab": {
          "base_uri": "https://localhost:8080/"
        },
        "id": "aIpJBc8kcVym",
        "outputId": "29f87647-3a8c-4a36-c6de-21f369d1e810"
      },
      "source": [
        "score['sugaku']"
      ],
      "execution_count": 22,
      "outputs": [
        {
          "output_type": "execute_result",
          "data": {
            "text/plain": [
              "0      51\n",
              "1      49\n",
              "2      23\n",
              "3      77\n",
              "4      78\n",
              "       ..\n",
              "161    80\n",
              "162     2\n",
              "163    29\n",
              "164    43\n",
              "165    89\n",
              "Name: sugaku, Length: 166, dtype: int64"
            ]
          },
          "metadata": {},
          "execution_count": 22
        }
      ]
    },
    {
      "cell_type": "markdown",
      "metadata": {
        "id": "CGkqdvxR5MkP"
      },
      "source": [
        "### Q2-1\n",
        "データフレーム`score`から指定された科目`subject`の得点が平均点以上の`user`の数を返す`above_mean()`関数を作成してください。"
      ]
    },
    {
      "cell_type": "code",
      "metadata": {
        "id": "U4fXMocB5Lpw",
        "exercise_id": "q2_1",
        "inlinetests": {
          "InlineTest_2_1": "\nassert 'above_mean' in globals(), f\"Have you defined the function 'above_mean'?\"\nassert str(above_mean.__class__) == \"<class 'function'>\", f\"Have you defined a function 'avg_med_var'? Found a {above_mean.__class__} instead\"\ntry:\n  assert above_mean(score, 'kokugo') == len(score[(score['kokugo']>=score['kokugo'].mean())]), f\"Your function 'above_mean' returns {above_mean(score, 'kokugo')}, while the expected answer is {len(score[(score['kokugo']>=score['kokugo'].mean())])}\"\n  assert above_mean(score, 'sugaku') == len(score[(score['sugaku']>=score['sugaku'].mean())]), f\"Your function 'above_mean' returns {above_mean(score, 'sugaku')}, while the expected answer is {len(score[(score['sugaku']>=score['sugaku'].mean())])}\"\nexcept AssertionError as e:\n    raise e\nexcept Exception as e:\n    assert False, f\"Your function raises an exception: {e}.\""
        }
      },
      "source": [
        "def above_mean(df, subject):\n",
        "  # subjectは'kokugo','shakai','sugaku','rika'のいずれか\n",
        "  subject_mean = df[subject].mean()\n",
        "  return len(df[df[subject] > subject_mean])"
      ],
      "execution_count": 23,
      "outputs": []
    },
    {
      "cell_type": "markdown",
      "metadata": {
        "id": "U70gq8sp6YtU"
      },
      "source": [
        "`above_mean()`関数が完成したら、以下のセルを実行して動作を確認してください。"
      ]
    },
    {
      "cell_type": "code",
      "metadata": {
        "id": "rNtw_xWx6ijA",
        "colab": {
          "base_uri": "https://localhost:8080/"
        },
        "outputId": "9eb71ab6-9a1a-4b75-f1d2-53d954c42f31"
      },
      "source": [
        "above_mean(score, 'kokugo')"
      ],
      "execution_count": 24,
      "outputs": [
        {
          "output_type": "execute_result",
          "data": {
            "text/plain": [
              "84"
            ]
          },
          "metadata": {},
          "execution_count": 24
        }
      ]
    },
    {
      "cell_type": "markdown",
      "metadata": {
        "id": "GbQO4GBj6phS"
      },
      "source": [
        "結果は、`84`、となります。結果が異なる場合は、作成した`above_mean`関数に誤りがないか確認してください。"
      ]
    },
    {
      "cell_type": "markdown",
      "metadata": {
        "id": "C_l5CPKW9Fvs"
      },
      "source": [
        "### Q2-2\n",
        "ユーザごとの全教科の得点の総和の値を表す'sum'列をデータフレーム`df`に新たに追加したデータフレームを返す`score_sum()`関数を作成してください。\n",
        "\n",
        "以下のようにして、データフレームの指定した列の行方向の値の和を持つシリーズオブジェクト作ることができます。ユーザごとの全教科の得点の総和の値を表す'sum'列をデータフレーム`df`に新たに追加してください。\n",
        "\n",
        "```Python\n",
        "データフレーム[[列1,列2,...,]].sum(axis=1)\n",
        "```\n",
        "[pandas.DataFrame.sum](https://pandas.pydata.org/pandas-docs/stable/reference/api/pandas.DataFrame.sum.html)"
      ]
    },
    {
      "cell_type": "code",
      "metadata": {
        "id": "GtgbOc_W_6W8"
      },
      "source": [
        "def score_sum(df):\n",
        "  # 教科名は決め打ちでok\n",
        "  df['sum'] = df[['kokugo', 'shakai', 'sugaku', 'rika']].sum(axis=1)\n",
        "  return df"
      ],
      "execution_count": 25,
      "outputs": []
    },
    {
      "cell_type": "markdown",
      "metadata": {
        "id": "_qI_GAMx_-ox"
      },
      "source": [
        "`score_sum()`関数が完成したら、以下のセルを実行して動作を確認してください。'sum'列が追加されていることを確認してください。"
      ]
    },
    {
      "cell_type": "code",
      "metadata": {
        "id": "aQCIPx7pAE_A",
        "colab": {
          "base_uri": "https://localhost:8080/",
          "height": 206
        },
        "outputId": "d9e1ff03-31b6-46b2-f13c-16338234a40d"
      },
      "source": [
        "score = score_sum(score)\n",
        "score.head()"
      ],
      "execution_count": 26,
      "outputs": [
        {
          "output_type": "execute_result",
          "data": {
            "text/html": [
              "<div>\n",
              "<style scoped>\n",
              "    .dataframe tbody tr th:only-of-type {\n",
              "        vertical-align: middle;\n",
              "    }\n",
              "\n",
              "    .dataframe tbody tr th {\n",
              "        vertical-align: top;\n",
              "    }\n",
              "\n",
              "    .dataframe thead th {\n",
              "        text-align: right;\n",
              "    }\n",
              "</style>\n",
              "<table border=\"1\" class=\"dataframe\">\n",
              "  <thead>\n",
              "    <tr style=\"text-align: right;\">\n",
              "      <th></th>\n",
              "      <th>user</th>\n",
              "      <th>kokugo</th>\n",
              "      <th>shakai</th>\n",
              "      <th>sugaku</th>\n",
              "      <th>rika</th>\n",
              "      <th>sum</th>\n",
              "    </tr>\n",
              "  </thead>\n",
              "  <tbody>\n",
              "    <tr>\n",
              "      <th>0</th>\n",
              "      <td>1</td>\n",
              "      <td>30</td>\n",
              "      <td>43</td>\n",
              "      <td>51</td>\n",
              "      <td>63</td>\n",
              "      <td>187</td>\n",
              "    </tr>\n",
              "    <tr>\n",
              "      <th>1</th>\n",
              "      <td>2</td>\n",
              "      <td>39</td>\n",
              "      <td>21</td>\n",
              "      <td>49</td>\n",
              "      <td>56</td>\n",
              "      <td>165</td>\n",
              "    </tr>\n",
              "    <tr>\n",
              "      <th>2</th>\n",
              "      <td>3</td>\n",
              "      <td>29</td>\n",
              "      <td>30</td>\n",
              "      <td>23</td>\n",
              "      <td>57</td>\n",
              "      <td>139</td>\n",
              "    </tr>\n",
              "    <tr>\n",
              "      <th>3</th>\n",
              "      <td>4</td>\n",
              "      <td>95</td>\n",
              "      <td>87</td>\n",
              "      <td>77</td>\n",
              "      <td>100</td>\n",
              "      <td>359</td>\n",
              "    </tr>\n",
              "    <tr>\n",
              "      <th>4</th>\n",
              "      <td>5</td>\n",
              "      <td>70</td>\n",
              "      <td>71</td>\n",
              "      <td>78</td>\n",
              "      <td>67</td>\n",
              "      <td>286</td>\n",
              "    </tr>\n",
              "  </tbody>\n",
              "</table>\n",
              "</div>"
            ],
            "text/plain": [
              "   user  kokugo  shakai  sugaku  rika  sum\n",
              "0     1      30      43      51    63  187\n",
              "1     2      39      21      49    56  165\n",
              "2     3      29      30      23    57  139\n",
              "3     4      95      87      77   100  359\n",
              "4     5      70      71      78    67  286"
            ]
          },
          "metadata": {},
          "execution_count": 26
        }
      ]
    },
    {
      "cell_type": "markdown",
      "metadata": {
        "id": "erqWC7mQAd6x"
      },
      "source": [
        "上記で作成したデータフレーム`df`の'sum'列を元に、全教科の合計得点の上位3人の'user'を1位、2位、3位の順に要素として持つリストを返す`score_top3()`関数を作成させてください。なお、合計得点は全て異なるものとし、同一順位はないと仮定してください。"
      ]
    },
    {
      "cell_type": "code",
      "metadata": {
        "id": "zgYvXeI-9J5J",
        "exercise_id": "q2_2",
        "inlinetests": {
          "InlineTest_2_2": "\nassert 'score_top3' in globals(), f\"Have you defined the function 'score_top3'?\"\nassert str(score_top3.__class__) == \"<class 'function'>\", f\"Have you defined a function 'score_top3'? Found a {score_top3.__class__} instead\"\ntry:\n  assert score_top3(score) == [39,4,50], f\"Your function 'score_top3' returns {score_top3(score)}, while the expected answer is {[39,4,50]}\"\nexcept AssertionError as e:\n    raise e\nexcept Exception as e:\n    assert False, f\"Your function raises an exception: {e}.\""
        }
      },
      "source": [
        "def score_top3(df):\n",
        "  sorted_df = df.sort_values('sum', ascending=False)\n",
        "  return [\n",
        "    sorted_df.iloc[0, 0],\n",
        "    sorted_df.iloc[1, 0],\n",
        "    sorted_df.iloc[2, 0],\n",
        "  ]"
      ],
      "execution_count": 58,
      "outputs": []
    },
    {
      "cell_type": "markdown",
      "metadata": {
        "id": "mFKDPh0jA7JT"
      },
      "source": [
        "`score_top3()`関数が完成したら、以下のセルを実行して動作を確認してください。"
      ]
    },
    {
      "cell_type": "code",
      "metadata": {
        "id": "hAsHBYweA9lD",
        "colab": {
          "base_uri": "https://localhost:8080/"
        },
        "outputId": "954df450-7657-4089-faaf-455dc5e7c660"
      },
      "source": [
        "score_top3(score)"
      ],
      "execution_count": 60,
      "outputs": [
        {
          "output_type": "execute_result",
          "data": {
            "text/plain": [
              "[39, 4, 50]"
            ]
          },
          "metadata": {},
          "execution_count": 60
        }
      ]
    },
    {
      "cell_type": "markdown",
      "metadata": {
        "id": "GuAJPZEvA9x3"
      },
      "source": [
        "結果は、`[39, 4, 50]`、となります。結果が異なる場合は、作成した`score_top3`関数に誤りがないか確認してください。"
      ]
    },
    {
      "cell_type": "markdown",
      "metadata": {
        "id": "d64XIy9iBswp"
      },
      "source": [
        "### Q2-3\n",
        "データフレーム`score`の'sum'列を対象に、以下を階級幅として各階級の度数を要素として持つリストを返す`score_hist()`関数を完成させてください。\n",
        "- 0以上、50以下\n",
        "- 51以上、100以下\n",
        "- 101以上、150以下\n",
        "- 151以上、200以下\n",
        "- 201以上、250以下\n",
        "- 251以上、300以下\n",
        "- 301以上、350以下\n",
        "- 351以上、400以下"
      ]
    },
    {
      "cell_type": "code",
      "metadata": {
        "id": "i3S2vE4bBw12",
        "exercise_id": "q2_3",
        "inlinetests": {
          "InlineTest_2_3": "\nassert 'score_hist' in globals(), f\"Have you defined the function 'score_hist'?\"\nassert str(score_hist.__class__) == \"<class 'function'>\", f\"Have you defined a function 'score_hist'? Found a {score_hist.__class__} instead\"\ntry:\n  ans = [4, 20, 39, 35, 29, 24, 13, 2]\n  assert score_hist(score) == ans, f\"Your function 'score_hist' returns {score_hist(score)}, while the expected answer is {ans}\"\nexcept AssertionError as e:\n    raise e\nexcept Exception as e:\n    assert False, f\"Your function raises an exception: {e}.\""
        }
      },
      "source": [
        "def score_hist(df):\n",
        "  frequency_list = []\n",
        "  interval_min = 0\n",
        "  interval_max = 50\n",
        "\n",
        "  # 0以上、50以下の場合だけ階級幅が異なるため個別に処理\n",
        "  frequency = len(df[df['sum'].between(interval_min, interval_max)])\n",
        "  frequency_list.append(frequency)\n",
        "\n",
        "  for i in range(0, 7):\n",
        "    interval_min = 51 + i * 50\n",
        "    interval_max = 100 + i * 50\n",
        "    frequency = len(df[df['sum'].between(interval_min, interval_max)])\n",
        "    frequency_list.append(frequency)\n",
        " \n",
        "  return frequency_list"
      ],
      "execution_count": 65,
      "outputs": []
    },
    {
      "cell_type": "markdown",
      "metadata": {
        "id": "r4wU0iH8Ee_m"
      },
      "source": [
        "`score_hist()`関数が完成したら、以下のセルを実行して動作を確認してください。"
      ]
    },
    {
      "cell_type": "code",
      "metadata": {
        "id": "8WvkWUA_EgrS",
        "colab": {
          "base_uri": "https://localhost:8080/"
        },
        "outputId": "dd09cb68-6a80-450f-fcf0-9ad64cc91a0c"
      },
      "source": [
        "score_hist(score)"
      ],
      "execution_count": 66,
      "outputs": [
        {
          "output_type": "execute_result",
          "data": {
            "text/plain": [
              "[4, 20, 39, 35, 29, 24, 13, 2]"
            ]
          },
          "metadata": {},
          "execution_count": 66
        }
      ]
    },
    {
      "cell_type": "markdown",
      "metadata": {
        "id": "j3-mLOn5EhQ8"
      },
      "source": [
        "結果は、`[4, 20, 39, 35, 29, 24, 13, 2]`、となります。結果が異なる場合は、作成した`score_hist`関数に誤りがないか確認してください。"
      ]
    },
    {
      "cell_type": "markdown",
      "metadata": {
        "id": "k18pw5IVEx9_"
      },
      "source": [
        "### Q2-4\n",
        "以下のような形式の\"user_class.csv\"ファイルを読み込み、データフレーム`user_class`を作成します。\n",
        "```Python\n",
        "## user_class.csvファイル\n",
        "'user', 'class'\n",
        "1, 'C'\n",
        "2, 'C'\n",
        "3, 'B'\n",
        "...\n",
        "```"
      ]
    },
    {
      "cell_type": "code",
      "metadata": {
        "id": "tlq5fwWeE2nh",
        "colab": {
          "base_uri": "https://localhost:8080/"
        },
        "outputId": "11804f9e-ee86-4890-a40b-5f36b7bfcef5"
      },
      "source": [
        "# Colaboratoryでは以下を実行して必要なファイルをダウンロード\n",
        "!wget https://raw.githubusercontent.com/UTDataMining/2020A/master/ex2/user_class.csv"
      ],
      "execution_count": 67,
      "outputs": [
        {
          "output_type": "stream",
          "name": "stdout",
          "text": [
            "--2021-10-22 16:01:43--  https://raw.githubusercontent.com/UTDataMining/2020A/master/ex2/user_class.csv\n",
            "Resolving raw.githubusercontent.com (raw.githubusercontent.com)... 185.199.110.133, 185.199.111.133, 185.199.109.133, ...\n",
            "Connecting to raw.githubusercontent.com (raw.githubusercontent.com)|185.199.110.133|:443... connected.\n",
            "HTTP request sent, awaiting response... 200 OK\n",
            "Length: 898 [text/plain]\n",
            "Saving to: ‘user_class.csv’\n",
            "\n",
            "\ruser_class.csv        0%[                    ]       0  --.-KB/s               \ruser_class.csv      100%[===================>]     898  --.-KB/s    in 0s      \n",
            "\n",
            "2021-10-22 16:01:43 (30.5 MB/s) - ‘user_class.csv’ saved [898/898]\n",
            "\n"
          ]
        }
      ]
    },
    {
      "cell_type": "code",
      "metadata": {
        "id": "-yVd8d1NFwGI",
        "colab": {
          "base_uri": "https://localhost:8080/",
          "height": 206
        },
        "outputId": "25da7bb9-2870-4797-9aa7-6e95df380131"
      },
      "source": [
        "user_class = pd.read_csv('user_class.csv')\n",
        "user_class.head()"
      ],
      "execution_count": 68,
      "outputs": [
        {
          "output_type": "execute_result",
          "data": {
            "text/html": [
              "<div>\n",
              "<style scoped>\n",
              "    .dataframe tbody tr th:only-of-type {\n",
              "        vertical-align: middle;\n",
              "    }\n",
              "\n",
              "    .dataframe tbody tr th {\n",
              "        vertical-align: top;\n",
              "    }\n",
              "\n",
              "    .dataframe thead th {\n",
              "        text-align: right;\n",
              "    }\n",
              "</style>\n",
              "<table border=\"1\" class=\"dataframe\">\n",
              "  <thead>\n",
              "    <tr style=\"text-align: right;\">\n",
              "      <th></th>\n",
              "      <th>user</th>\n",
              "      <th>class</th>\n",
              "    </tr>\n",
              "  </thead>\n",
              "  <tbody>\n",
              "    <tr>\n",
              "      <th>0</th>\n",
              "      <td>1</td>\n",
              "      <td>C</td>\n",
              "    </tr>\n",
              "    <tr>\n",
              "      <th>1</th>\n",
              "      <td>2</td>\n",
              "      <td>C</td>\n",
              "    </tr>\n",
              "    <tr>\n",
              "      <th>2</th>\n",
              "      <td>3</td>\n",
              "      <td>B</td>\n",
              "    </tr>\n",
              "    <tr>\n",
              "      <th>3</th>\n",
              "      <td>4</td>\n",
              "      <td>C</td>\n",
              "    </tr>\n",
              "    <tr>\n",
              "      <th>4</th>\n",
              "      <td>5</td>\n",
              "      <td>A</td>\n",
              "    </tr>\n",
              "  </tbody>\n",
              "</table>\n",
              "</div>"
            ],
            "text/plain": [
              "   user class\n",
              "0     1     C\n",
              "1     2     C\n",
              "2     3     B\n",
              "3     4     C\n",
              "4     5     A"
            ]
          },
          "metadata": {},
          "execution_count": 68
        }
      ]
    },
    {
      "cell_type": "markdown",
      "metadata": {
        "id": "CqJntUKIF-VN"
      },
      "source": [
        "'user'の列の値をキーに、2つのデータフレーム、`user_class`と`score`、を結合して新しいデータフレームを作成した上で、データフレームの`groupby`メソッドを使って、'class'をインデックス、'class'ごとの'sum'の最高値を列として持つシリーズオブジェクトを返す`score_by_class()`関数を完成させてください。"
      ]
    },
    {
      "cell_type": "code",
      "metadata": {
        "id": "dHiE6F9sF9Ty",
        "exercise_id": "q2_4",
        "inlinetests": {
          "InlineTest_2_4": "\nassert 'score_by_class' in globals(), f\"Have you defined the function 'score_by_class'?\"\nassert str(score_by_class.__class__) == \"<class 'function'>\", f\"Have you defined a function 'score_by_class'? Found a {score_by_class.__class__} instead\"\ntry:\n  ans = {'A': 361, 'B': 349, 'C': 359}\n  assert score_by_class(score, user_class).to_dict() == ans, f\"Your function 'score_by_class' returns {score_by_class(score, user_class).to_dict()}, while the expected answer is {ans}\"\nexcept AssertionError as e:\n    raise e\nexcept Exception as e:\n    assert False, f\"Your function raises an exception: {e}.\""
        }
      },
      "source": [
        "def score_by_class(df1, df2):\n",
        "  merged_df = pd.merge(df1, df2, on='user')\n",
        "  return merged_df.groupby('class')['sum'].max()"
      ],
      "execution_count": 79,
      "outputs": []
    },
    {
      "cell_type": "markdown",
      "metadata": {
        "id": "u3osQUPmHHvB"
      },
      "source": [
        "`score_by_class()`関数が完成したら、以下のセルを実行して動作を確認してください。"
      ]
    },
    {
      "cell_type": "code",
      "metadata": {
        "id": "nmoP7lH5HNOX",
        "colab": {
          "base_uri": "https://localhost:8080/"
        },
        "outputId": "e5e7a70c-1f28-4905-9200-d1bbd46dcc80"
      },
      "source": [
        "score_by_class(score, user_class).to_dict()"
      ],
      "execution_count": 80,
      "outputs": [
        {
          "output_type": "execute_result",
          "data": {
            "text/plain": [
              "{'A': 361, 'B': 349, 'C': 359}"
            ]
          },
          "metadata": {},
          "execution_count": 80
        }
      ]
    },
    {
      "cell_type": "markdown",
      "metadata": {
        "id": "pu8_gks5HN18"
      },
      "source": [
        "結果は、`{'A': 361, 'B': 349, 'C': 359}`、となります。結果が異なる場合は、作成した`score_by_class`関数に誤りがないか確認してください。"
      ]
    },
    {
      "cell_type": "markdown",
      "metadata": {
        "id": "9paB_oYvKq3J"
      },
      "source": [
        "## コードのテスト\n",
        "以下の実行ボタンを押してから、設問ごとにCheck関数でコードのテストをしてください。"
      ]
    },
    {
      "cell_type": "code",
      "metadata": {
        "id": "X8EGGkUnKsWL",
        "colab": {
          "base_uri": "https://localhost:8080/"
        },
        "outputId": "01e7df06-eec6-4542-f073-6d939253c3fa"
      },
      "source": [
        "# コードのテストの前にこのセルを実行してください\n",
        "!pip install prog_edu_assistant_tools\n",
        "import re\n",
        "import sys\n",
        "import jinja2\n",
        "from IPython.core import display\n",
        "from google.colab import _message as google_message\n",
        "from prog_edu_assistant_tools.magics import report, autotest, CaptureOutput\n",
        "from prog_edu_assistant_tools.check import Check"
      ],
      "execution_count": 81,
      "outputs": [
        {
          "output_type": "stream",
          "name": "stdout",
          "text": [
            "Collecting prog_edu_assistant_tools\n",
            "  Downloading prog_edu_assistant_tools-0.3.1-py3-none-any.whl (16 kB)\n",
            "Requirement already satisfied: Jinja2 in /usr/local/lib/python3.7/dist-packages (from prog_edu_assistant_tools) (2.11.3)\n",
            "Requirement already satisfied: IPython in /usr/local/lib/python3.7/dist-packages (from prog_edu_assistant_tools) (5.5.0)\n",
            "Requirement already satisfied: pickleshare in /usr/local/lib/python3.7/dist-packages (from IPython->prog_edu_assistant_tools) (0.7.5)\n",
            "Requirement already satisfied: traitlets>=4.2 in /usr/local/lib/python3.7/dist-packages (from IPython->prog_edu_assistant_tools) (5.1.0)\n",
            "Requirement already satisfied: prompt-toolkit<2.0.0,>=1.0.4 in /usr/local/lib/python3.7/dist-packages (from IPython->prog_edu_assistant_tools) (1.0.18)\n",
            "Requirement already satisfied: simplegeneric>0.8 in /usr/local/lib/python3.7/dist-packages (from IPython->prog_edu_assistant_tools) (0.8.1)\n",
            "Requirement already satisfied: pygments in /usr/local/lib/python3.7/dist-packages (from IPython->prog_edu_assistant_tools) (2.6.1)\n",
            "Requirement already satisfied: decorator in /usr/local/lib/python3.7/dist-packages (from IPython->prog_edu_assistant_tools) (4.4.2)\n",
            "Requirement already satisfied: setuptools>=18.5 in /usr/local/lib/python3.7/dist-packages (from IPython->prog_edu_assistant_tools) (57.4.0)\n",
            "Requirement already satisfied: pexpect in /usr/local/lib/python3.7/dist-packages (from IPython->prog_edu_assistant_tools) (4.8.0)\n",
            "Requirement already satisfied: wcwidth in /usr/local/lib/python3.7/dist-packages (from prompt-toolkit<2.0.0,>=1.0.4->IPython->prog_edu_assistant_tools) (0.2.5)\n",
            "Requirement already satisfied: six>=1.9.0 in /usr/local/lib/python3.7/dist-packages (from prompt-toolkit<2.0.0,>=1.0.4->IPython->prog_edu_assistant_tools) (1.15.0)\n",
            "Requirement already satisfied: MarkupSafe>=0.23 in /usr/local/lib/python3.7/dist-packages (from Jinja2->prog_edu_assistant_tools) (2.0.1)\n",
            "Requirement already satisfied: ptyprocess>=0.5 in /usr/local/lib/python3.7/dist-packages (from pexpect->IPython->prog_edu_assistant_tools) (0.7.0)\n",
            "Installing collected packages: prog-edu-assistant-tools\n",
            "Successfully installed prog-edu-assistant-tools-0.3.1\n"
          ]
        }
      ]
    },
    {
      "cell_type": "markdown",
      "metadata": {
        "id": "UBmME2BCK3pa"
      },
      "source": [
        "## Q1"
      ]
    },
    {
      "cell_type": "code",
      "metadata": {
        "id": "8--IsILXK24k",
        "colab": {
          "base_uri": "https://localhost:8080/",
          "height": 473
        },
        "outputId": "093b60d6-937c-4a1f-90d4-9acfcca62094"
      },
      "source": [
        "# Run this cell to check your solution.\n",
        "# If you get an error 'Check not defined', make sure you have run all preceding\n",
        "# cells once (Runtime -> Run before)\n",
        "Check('q1')"
      ],
      "execution_count": 82,
      "outputs": [
        {
          "output_type": "execute_result",
          "data": {
            "text/html": [
              "\n",
              "  <h4 style='color: #387;'>Your submission</h4>\n",
              "  <pre style='background: #F0F0F0; padding: 3pt; margin: 4pt; border: 1pt solid #DDD; border-radius: 3pt;'>def avg_med_var(nonnegative_int_list):\n",
              "  list_length = len(nonnegative_int_list)\n",
              "\n",
              "  average = sum(nonnegative_int_list) / list_length\n",
              "\n",
              "  median = 0\n",
              "  nonnegative_int_list.sort()\n",
              "  mid_index = list_length // 2\n",
              "  is_even_length = list_length % 2 == 0\n",
              "  if is_even_length:\n",
              "    median = (nonnegative_int_list[mid_index - 1] + nonnegative_int_list[mid_index]) / 2\n",
              "  else:\n",
              "    median = nonnegative_int_list[mid_index]\n",
              "\n",
              "  squared_error_sum = 0\n",
              "  for nonnegative_int in nonnegative_int_list:\n",
              "    squared_error_sum += (nonnegative_int - average) ** 2\n",
              "  variance = squared_error_sum / list_length\n",
              "\n",
              "  return [average, median, variance]</pre>\n",
              "  <h4 style='color: #387;'>Results</h4>\n",
              "  \n",
              "  &#x2705;\n",
              "  Looks OK.\n",
              "  "
            ],
            "text/plain": [
              "<IPython.core.display.HTML object>"
            ]
          },
          "metadata": {},
          "execution_count": 82
        }
      ]
    },
    {
      "cell_type": "markdown",
      "metadata": {
        "id": "ghtta35YLCCK"
      },
      "source": [
        "## Q2-1"
      ]
    },
    {
      "cell_type": "code",
      "metadata": {
        "id": "5weMT7X5LFMz",
        "colab": {
          "base_uri": "https://localhost:8080/",
          "height": 195
        },
        "outputId": "2b664869-e196-4e70-a60c-e81bf670be88"
      },
      "source": [
        "# Run this cell to check your solution.\n",
        "# If you get an error 'Check not defined', make sure you have run all preceding\n",
        "# cells once (Runtime -> Run before)\n",
        "Check('q2_1')"
      ],
      "execution_count": 83,
      "outputs": [
        {
          "output_type": "execute_result",
          "data": {
            "text/html": [
              "\n",
              "  <h4 style='color: #387;'>Your submission</h4>\n",
              "  <pre style='background: #F0F0F0; padding: 3pt; margin: 4pt; border: 1pt solid #DDD; border-radius: 3pt;'>def above_mean(df, subject):\n",
              "  # subjectは'kokugo','shakai','sugaku','rika'のいずれか\n",
              "  subject_mean = df[subject].mean()\n",
              "  return len(df[df[subject] > subject_mean])</pre>\n",
              "  <h4 style='color: #387;'>Results</h4>\n",
              "  \n",
              "  &#x2705;\n",
              "  Looks OK.\n",
              "  "
            ],
            "text/plain": [
              "<IPython.core.display.HTML object>"
            ]
          },
          "metadata": {},
          "execution_count": 83
        }
      ]
    },
    {
      "cell_type": "markdown",
      "metadata": {
        "id": "iqrZnK4mLLjz"
      },
      "source": [
        "## Q2-2"
      ]
    },
    {
      "cell_type": "code",
      "metadata": {
        "id": "Yuuzw3aoLM-C",
        "colab": {
          "base_uri": "https://localhost:8080/",
          "height": 247
        },
        "outputId": "5f22b94c-4e89-4dfd-a7b5-0b38a2302a4a"
      },
      "source": [
        "# Run this cell to check your solution.\n",
        "# If you get an error 'Check not defined', make sure you have run all preceding\n",
        "# cells once (Runtime -> Run before)\n",
        "Check('q2_2')"
      ],
      "execution_count": 84,
      "outputs": [
        {
          "output_type": "execute_result",
          "data": {
            "text/html": [
              "\n",
              "  <h4 style='color: #387;'>Your submission</h4>\n",
              "  <pre style='background: #F0F0F0; padding: 3pt; margin: 4pt; border: 1pt solid #DDD; border-radius: 3pt;'>def score_top3(df):\n",
              "  sorted_df = df.sort_values('sum', ascending=False)\n",
              "  return [\n",
              "    sorted_df.iloc[0, 0],\n",
              "    sorted_df.iloc[1, 0],\n",
              "    sorted_df.iloc[2, 0],\n",
              "  ]</pre>\n",
              "  <h4 style='color: #387;'>Results</h4>\n",
              "  \n",
              "  &#x2705;\n",
              "  Looks OK.\n",
              "  "
            ],
            "text/plain": [
              "<IPython.core.display.HTML object>"
            ]
          },
          "metadata": {},
          "execution_count": 84
        }
      ]
    },
    {
      "cell_type": "markdown",
      "metadata": {
        "id": "VA5SR1hBLQ0y"
      },
      "source": [
        "## Q2-3"
      ]
    },
    {
      "cell_type": "code",
      "metadata": {
        "id": "ydSwT6VjLSTb",
        "colab": {
          "base_uri": "https://localhost:8080/",
          "height": 404
        },
        "outputId": "08964aa4-386f-419a-9f6a-056e70846019"
      },
      "source": [
        "# Run this cell to check your solution.\n",
        "# If you get an error 'Check not defined', make sure you have run all preceding\n",
        "# cells once (Runtime -> Run before)\n",
        "Check('q2_3')"
      ],
      "execution_count": 85,
      "outputs": [
        {
          "output_type": "execute_result",
          "data": {
            "text/html": [
              "\n",
              "  <h4 style='color: #387;'>Your submission</h4>\n",
              "  <pre style='background: #F0F0F0; padding: 3pt; margin: 4pt; border: 1pt solid #DDD; border-radius: 3pt;'>def score_hist(df):\n",
              "  frequency_list = []\n",
              "  interval_min = 0\n",
              "  interval_max = 50\n",
              "\n",
              "  # 0以上、50以下の場合だけ階級幅が異なるため個別に処理\n",
              "  frequency = len(df[df['sum'].between(interval_min, interval_max)])\n",
              "  frequency_list.append(frequency)\n",
              "\n",
              "  for i in range(0, 7):\n",
              "    interval_min = 51 + i * 50\n",
              "    interval_max = 100 + i * 50\n",
              "    frequency = len(df[df['sum'].between(interval_min, interval_max)])\n",
              "    frequency_list.append(frequency)\n",
              " \n",
              "  return frequency_list</pre>\n",
              "  <h4 style='color: #387;'>Results</h4>\n",
              "  \n",
              "  &#x2705;\n",
              "  Looks OK.\n",
              "  "
            ],
            "text/plain": [
              "<IPython.core.display.HTML object>"
            ]
          },
          "metadata": {},
          "execution_count": 85
        }
      ]
    },
    {
      "cell_type": "markdown",
      "metadata": {
        "id": "f1sEH6YBLUIy"
      },
      "source": [
        "## Q2-4"
      ]
    },
    {
      "cell_type": "code",
      "metadata": {
        "id": "YaK2X8uYLWCT",
        "colab": {
          "base_uri": "https://localhost:8080/",
          "height": 178
        },
        "outputId": "3f0f66ab-a51a-4716-89c7-89e196116bf2"
      },
      "source": [
        "# Run this cell to check your solution.\n",
        "# If you get an error 'Check not defined', make sure you have run all preceding\n",
        "# cells once (Runtime -> Run before)\n",
        "Check('q2_4')"
      ],
      "execution_count": 86,
      "outputs": [
        {
          "output_type": "execute_result",
          "data": {
            "text/html": [
              "\n",
              "  <h4 style='color: #387;'>Your submission</h4>\n",
              "  <pre style='background: #F0F0F0; padding: 3pt; margin: 4pt; border: 1pt solid #DDD; border-radius: 3pt;'>def score_by_class(df1, df2):\n",
              "  merged_df = pd.merge(df1, df2, on='user')\n",
              "  return merged_df.groupby('class')['sum'].max()</pre>\n",
              "  <h4 style='color: #387;'>Results</h4>\n",
              "  \n",
              "  &#x2705;\n",
              "  Looks OK.\n",
              "  "
            ],
            "text/plain": [
              "<IPython.core.display.HTML object>"
            ]
          },
          "metadata": {},
          "execution_count": 86
        }
      ]
    }
  ]
}