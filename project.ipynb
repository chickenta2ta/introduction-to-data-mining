{
  "cells": [
    {
      "cell_type": "markdown",
      "metadata": {
        "id": "S0STxdZQOsgj"
      },
      "source": [
        "# プロジェクト"
      ]
    },
    {
      "cell_type": "code",
      "execution_count": null,
      "metadata": {
        "id": "CyMjylZAOsgn"
      },
      "outputs": [],
      "source": [
        "import pandas as pd\n",
        "import numpy as np\n",
        "import seaborn as sns\n",
        "\n",
        "from collections import Counter\n",
        "\n",
        "from sklearn.preprocessing import StandardScaler\n",
        "from sklearn.preprocessing import PolynomialFeatures\n",
        "from sklearn.linear_model import LogisticRegression\n",
        "from sklearn.svm import SVC\n",
        "from sklearn.tree import DecisionTreeClassifier\n",
        "from sklearn.ensemble import RandomForestClassifier\n",
        "from sklearn.decomposition import PCA\n",
        "from sklearn.pipeline import make_pipeline\n",
        "from sklearn.model_selection import train_test_split\n",
        "from sklearn.model_selection import GridSearchCV\n",
        "from sklearn.metrics import confusion_matrix,  accuracy_score, precision_score, recall_score, f1_score\n",
        "\n",
        "%matplotlib inline"
      ]
    },
    {
      "cell_type": "markdown",
      "metadata": {
        "id": "f2wyXvIAOsgo"
      },
      "source": [
        "あなたは酒造会社のデータ分析部門の責任者です。ワインの理化学検査結果からワインの品質を予測するシステムの検討を行ってほしいとの依頼をCTO（最高技術責任者）から受けました。\n",
        "\n",
        "部門の新人で最近データ分析を勉強した部下が次のような分析を行い、実データ（UCI Machine Learning Repositoryに公開されているワインの品質データセットを使います）を用いて、ワインの理化学検査結果に基づく特徴量からワインの品質予測を以下のように試行しました。\n",
        "\n",
        "***白ワイン***のデータセットを使用する。（赤ワインのデータセットではないことに注意してください）\n",
        "\n",
        "[Wine Quality Data Set ](https://archive.ics.uci.edu/ml/datasets/wine+quality)\n",
        "\n",
        "各ワインのデータは以下の11種類の特徴量からなる。\n",
        "- 1 - fixed acidity \n",
        "- 2 - volatile acidity \n",
        "- 3 - citric acid \n",
        "- 4 - residual sugar \n",
        "- 5 - chlorides \n",
        "- 6 - free sulfur dioxide \n",
        "- 7 - total sulfur dioxide \n",
        "- 8 - density \n",
        "- 9 - pH \n",
        "- 10 - sulphates \n",
        "- 11 - alcohol \n",
        "\n",
        "各ワインには0から10の品質スコアが付与されており、11種類の特徴量を元にワインの品質を高品質（ワインのqualityが6以上）、低品質（ワインのqualityが6未満）の2値にして予測する2クラス分類問題を考える。"
      ]
    },
    {
      "cell_type": "code",
      "execution_count": null,
      "metadata": {
        "id": "1MpidDieOsgp",
        "outputId": "2bf36137-5b0d-4d1d-d778-9dc546853d9f",
        "colab": {
          "base_uri": "https://localhost:8080/"
        }
      },
      "outputs": [
        {
          "output_type": "stream",
          "name": "stdout",
          "text": [
            "--2022-01-16 10:26:58--  https://raw.githubusercontent.com/UTDataMining/2021S/master/project/winequality-white.csv\n",
            "Resolving raw.githubusercontent.com (raw.githubusercontent.com)... 185.199.108.133, 185.199.109.133, 185.199.110.133, ...\n",
            "Connecting to raw.githubusercontent.com (raw.githubusercontent.com)|185.199.108.133|:443... connected.\n",
            "HTTP request sent, awaiting response... 200 OK\n",
            "Length: 264426 (258K) [text/plain]\n",
            "Saving to: ‘winequality-white.csv.1’\n",
            "\n",
            "\rwinequality-white.c   0%[                    ]       0  --.-KB/s               \rwinequality-white.c 100%[===================>] 258.23K  --.-KB/s    in 0.02s   \n",
            "\n",
            "2022-01-16 10:26:58 (11.5 MB/s) - ‘winequality-white.csv.1’ saved [264426/264426]\n",
            "\n"
          ]
        }
      ],
      "source": [
        "# Colaboratoryでは以下を実行して必要なファイルをダウンロード\n",
        "!wget https://raw.githubusercontent.com/UTDataMining/2021S/master/project/winequality-white.csv"
      ]
    },
    {
      "cell_type": "code",
      "execution_count": null,
      "metadata": {
        "id": "PWXf36u1Osgq"
      },
      "outputs": [],
      "source": [
        "# 白ワインデータセットの読み込み\n",
        "wine = pd.read_csv(\"winequality-white.csv\", sep=\";\")"
      ]
    },
    {
      "cell_type": "code",
      "execution_count": null,
      "metadata": {
        "id": "TDOtW5ThOsgq",
        "outputId": "d6a3e38b-87dd-47cb-c4ef-a61572fa2131",
        "colab": {
          "base_uri": "https://localhost:8080/"
        }
      },
      "outputs": [
        {
          "output_type": "stream",
          "name": "stdout",
          "text": [
            "3258\n",
            "1640\n"
          ]
        }
      ],
      "source": [
        "# 特徴量\n",
        "X=wine[ ['fixed acidity','volatile acidity','citric acid','residual sugar','chlorides','free sulfur dioxide', 'total sulfur dioxide', 'density', 'pH', 'sulphates','alcohol']].values\n",
        "\n",
        "# 正解ラベルを1（高品質：ワインのqualityが6以上）か0（低品質：ワインのqualityが6未満）とする\n",
        "y=wine['quality'].values\n",
        "y = (y>=6).astype(np.int) \n",
        "print(np.sum(y==1, axis=0)) # 高品質ワインデータの数\n",
        "print(np.sum(y==0, axis=0)) # 低品質ワインデータの数"
      ]
    },
    {
      "cell_type": "code",
      "execution_count": null,
      "metadata": {
        "id": "tokwSCu_Osgr",
        "outputId": "dff81aea-9d81-440c-a377-13aea2c0d852",
        "colab": {
          "base_uri": "https://localhost:8080/",
          "height": 191
        }
      },
      "outputs": [
        {
          "output_type": "stream",
          "name": "stdout",
          "text": [
            "[[158 170]\n",
            " [ 75 577]]\n",
            "0.75\n",
            "0.7724230254350736\n",
            "0.8849693251533742\n",
            "0.8248749106504645\n"
          ]
        },
        {
          "output_type": "execute_result",
          "data": {
            "text/html": [
              "\n",
              "  <div id=\"df-772231d8-e291-4b54-b433-fad71ca9c550\">\n",
              "    <div class=\"colab-df-container\">\n",
              "      <div>\n",
              "<style scoped>\n",
              "    .dataframe tbody tr th:only-of-type {\n",
              "        vertical-align: middle;\n",
              "    }\n",
              "\n",
              "    .dataframe tbody tr th {\n",
              "        vertical-align: top;\n",
              "    }\n",
              "\n",
              "    .dataframe thead th {\n",
              "        text-align: right;\n",
              "    }\n",
              "</style>\n",
              "<table border=\"1\" class=\"dataframe\">\n",
              "  <thead>\n",
              "    <tr style=\"text-align: right;\">\n",
              "      <th></th>\n",
              "      <th>fixed acidity</th>\n",
              "      <th>volatile acidity</th>\n",
              "      <th>citric acid</th>\n",
              "      <th>residual sugar</th>\n",
              "      <th>chlorides</th>\n",
              "      <th>free sulfur dioxide</th>\n",
              "      <th>total sulfur dioxide</th>\n",
              "      <th>density</th>\n",
              "      <th>pH</th>\n",
              "      <th>sulphates</th>\n",
              "      <th>alcohol</th>\n",
              "    </tr>\n",
              "  </thead>\n",
              "  <tbody>\n",
              "    <tr>\n",
              "      <th>weight</th>\n",
              "      <td>-0.195072</td>\n",
              "      <td>-5.553155</td>\n",
              "      <td>-0.159136</td>\n",
              "      <td>0.057788</td>\n",
              "      <td>-0.441644</td>\n",
              "      <td>0.008894</td>\n",
              "      <td>-0.001888</td>\n",
              "      <td>-2.718552</td>\n",
              "      <td>-0.581467</td>\n",
              "      <td>0.957013</td>\n",
              "      <td>0.97454</td>\n",
              "    </tr>\n",
              "  </tbody>\n",
              "</table>\n",
              "</div>\n",
              "      <button class=\"colab-df-convert\" onclick=\"convertToInteractive('df-772231d8-e291-4b54-b433-fad71ca9c550')\"\n",
              "              title=\"Convert this dataframe to an interactive table.\"\n",
              "              style=\"display:none;\">\n",
              "        \n",
              "  <svg xmlns=\"http://www.w3.org/2000/svg\" height=\"24px\"viewBox=\"0 0 24 24\"\n",
              "       width=\"24px\">\n",
              "    <path d=\"M0 0h24v24H0V0z\" fill=\"none\"/>\n",
              "    <path d=\"M18.56 5.44l.94 2.06.94-2.06 2.06-.94-2.06-.94-.94-2.06-.94 2.06-2.06.94zm-11 1L8.5 8.5l.94-2.06 2.06-.94-2.06-.94L8.5 2.5l-.94 2.06-2.06.94zm10 10l.94 2.06.94-2.06 2.06-.94-2.06-.94-.94-2.06-.94 2.06-2.06.94z\"/><path d=\"M17.41 7.96l-1.37-1.37c-.4-.4-.92-.59-1.43-.59-.52 0-1.04.2-1.43.59L10.3 9.45l-7.72 7.72c-.78.78-.78 2.05 0 2.83L4 21.41c.39.39.9.59 1.41.59.51 0 1.02-.2 1.41-.59l7.78-7.78 2.81-2.81c.8-.78.8-2.07 0-2.86zM5.41 20L4 18.59l7.72-7.72 1.47 1.35L5.41 20z\"/>\n",
              "  </svg>\n",
              "      </button>\n",
              "      \n",
              "  <style>\n",
              "    .colab-df-container {\n",
              "      display:flex;\n",
              "      flex-wrap:wrap;\n",
              "      gap: 12px;\n",
              "    }\n",
              "\n",
              "    .colab-df-convert {\n",
              "      background-color: #E8F0FE;\n",
              "      border: none;\n",
              "      border-radius: 50%;\n",
              "      cursor: pointer;\n",
              "      display: none;\n",
              "      fill: #1967D2;\n",
              "      height: 32px;\n",
              "      padding: 0 0 0 0;\n",
              "      width: 32px;\n",
              "    }\n",
              "\n",
              "    .colab-df-convert:hover {\n",
              "      background-color: #E2EBFA;\n",
              "      box-shadow: 0px 1px 2px rgba(60, 64, 67, 0.3), 0px 1px 3px 1px rgba(60, 64, 67, 0.15);\n",
              "      fill: #174EA6;\n",
              "    }\n",
              "\n",
              "    [theme=dark] .colab-df-convert {\n",
              "      background-color: #3B4455;\n",
              "      fill: #D2E3FC;\n",
              "    }\n",
              "\n",
              "    [theme=dark] .colab-df-convert:hover {\n",
              "      background-color: #434B5C;\n",
              "      box-shadow: 0px 1px 3px 1px rgba(0, 0, 0, 0.15);\n",
              "      filter: drop-shadow(0px 1px 2px rgba(0, 0, 0, 0.3));\n",
              "      fill: #FFFFFF;\n",
              "    }\n",
              "  </style>\n",
              "\n",
              "      <script>\n",
              "        const buttonEl =\n",
              "          document.querySelector('#df-772231d8-e291-4b54-b433-fad71ca9c550 button.colab-df-convert');\n",
              "        buttonEl.style.display =\n",
              "          google.colab.kernel.accessAllowed ? 'block' : 'none';\n",
              "\n",
              "        async function convertToInteractive(key) {\n",
              "          const element = document.querySelector('#df-772231d8-e291-4b54-b433-fad71ca9c550');\n",
              "          const dataTable =\n",
              "            await google.colab.kernel.invokeFunction('convertToInteractive',\n",
              "                                                     [key], {});\n",
              "          if (!dataTable) return;\n",
              "\n",
              "          const docLinkHtml = 'Like what you see? Visit the ' +\n",
              "            '<a target=\"_blank\" href=https://colab.research.google.com/notebooks/data_table.ipynb>data table notebook</a>'\n",
              "            + ' to learn more about interactive tables.';\n",
              "          element.innerHTML = '';\n",
              "          dataTable['output_type'] = 'display_data';\n",
              "          await google.colab.output.renderOutput(dataTable, element);\n",
              "          const docLink = document.createElement('div');\n",
              "          docLink.innerHTML = docLinkHtml;\n",
              "          element.appendChild(docLink);\n",
              "        }\n",
              "      </script>\n",
              "    </div>\n",
              "  </div>\n",
              "  "
            ],
            "text/plain": [
              "        fixed acidity  volatile acidity  ...  sulphates  alcohol\n",
              "weight      -0.195072         -5.553155  ...   0.957013  0.97454\n",
              "\n",
              "[1 rows x 11 columns]"
            ]
          },
          "metadata": {},
          "execution_count": 49
        }
      ],
      "source": [
        "# 訓練データとテストデータに分割\n",
        "X_train, X_test, y_train, y_test = train_test_split(X, y, test_size=0.2, random_state=0, stratify=y) \n",
        "\n",
        "# ロジスティック回帰モデル\n",
        "lr=LogisticRegression(solver='liblinear',  multi_class='auto') \n",
        "lr.fit(X_train, y_train) # 訓練データで学習\n",
        "y_pred = lr.predict(X_test) # テストデータで予測\n",
        "\n",
        "print(confusion_matrix(y_test, y_pred)) # 混同行列\n",
        "print(accuracy_score(y_test, y_pred)) # accuracy\n",
        "print(precision_score(y_test, y_pred)) # precision\n",
        "print(recall_score(y_test, y_pred)) # recall\n",
        "print(f1_score(y_test, y_pred))  # f値\n",
        "\n",
        "# 特徴量ごとのパラメータ重み\n",
        "pd.DataFrame(lr.coef_, index=['weight'], columns=wine.drop(\"quality\", axis=1).columns.values)"
      ]
    },
    {
      "cell_type": "markdown",
      "metadata": {
        "id": "Pja765NYOsgs"
      },
      "source": [
        "部下は、この分析を元にワインの品質予測の（2クラス分類としての）accuracyは75%となりそうです、と報告してきました。駆け出しのデータサイエンティストである部下の上司であり指導的立場にあるあなたはこの分析は適切と考えますか？\n",
        "\n",
        "**上記のワインの理化学検査結果からの品質予測について、あなた自身で（部下に対して模範となるような）分析を行い、その分析の過程と結果についてレポートとしてまとめたものを作成して提出してください。**\n",
        "\n",
        "なお、レポートは定められた様式に従って図表を含めて最大3ページまでとし、少なくとも1ページ以上は本文で構成してください（図表だけを貼り付けただけで説明がないものは不可）。\n",
        "\n",
        "レポートと合わせて分析に用いたコードも提出してください。\n",
        "\n",
        "授業で未習の内容を取り入れてもらっても構いませんが、それを持って大きく加点することはありません。むしろ、授業で学んだ内容を元にまず、適切に分析を行っているか、その上で独自の創意工夫があるか、を主に評価します。"
      ]
    },
    {
      "cell_type": "markdown",
      "source": [
        "# 分析に用いたコード\n",
        "まず、特徴量選択のため主成分分析による次元削減を行う。"
      ],
      "metadata": {
        "id": "kg8ri-Ve_cFt"
      }
    },
    {
      "cell_type": "code",
      "execution_count": null,
      "metadata": {
        "id": "iPXGRQ_9Osgs"
      },
      "outputs": [],
      "source": [
        "# 累積寄与率が90%以上となるように、特徴量をi次元に縮約する関数\n",
        "def reduce_dimension(X):\n",
        "  for i in range(1, X.shape[1]):\n",
        "    pca = PCA(n_components=i, random_state=0)\n",
        "    pca.fit(X)\n",
        "    if np.sum(pca.explained_variance_ratio_) >= 0.9:\n",
        "      X = pca.transform(X)\n",
        "      return X\n",
        "\n",
        "# 標準化\n",
        "scaler = StandardScaler()\n",
        "scaler.fit(X)\n",
        "norm_X = scaler.transform(X)\n",
        "\n",
        "# 主成分分析による次元削減（8次元に縮約）\n",
        "norm_X = reduce_dimension(norm_X)"
      ]
    },
    {
      "cell_type": "markdown",
      "source": [
        "PCA で8次元に削減した特徴量を用いて、ロジスティック回帰モデルによる予測を行う。"
      ],
      "metadata": {
        "id": "3m7NLf5oEG8h"
      }
    },
    {
      "cell_type": "code",
      "source": [
        "# 訓練データとテストデータに分割\n",
        "norm_X_train, norm_X_test, y_train, y_test = train_test_split(norm_X, y, test_size=0.2, random_state=0, stratify=y) \n",
        "\n",
        "lr = LogisticRegression(solver='liblinear', multi_class='auto') \n",
        "lr.fit(norm_X_train, y_train)\n",
        "y_pred = lr.predict(norm_X_test)\n",
        "\n",
        "print(confusion_matrix(y_test, y_pred))  # 混同行列\n",
        "print(accuracy_score(y_test, y_pred))  # accuracy\n",
        "print(precision_score(y_test, y_pred))  # precision\n",
        "print(recall_score(y_test, y_pred))  # recall\n",
        "print(f1_score(y_test, y_pred))  # f値"
      ],
      "metadata": {
        "colab": {
          "base_uri": "https://localhost:8080/"
        },
        "id": "mauQzfZyEWAm",
        "outputId": "67ec3b4f-5fb8-4b98-dd1a-76d83df8bd4a"
      },
      "execution_count": null,
      "outputs": [
        {
          "output_type": "stream",
          "name": "stdout",
          "text": [
            "[[126 202]\n",
            " [ 71 581]]\n",
            "0.7214285714285714\n",
            "0.7420178799489144\n",
            "0.8911042944785276\n",
            "0.8097560975609756\n"
          ]
        }
      ]
    },
    {
      "cell_type": "markdown",
      "source": [
        "recall 以外の評価指標が落ちてしまったので、次元数は削減しないで分析を続ける。\n",
        "\n",
        "外れ値を除外してからモデルの学習を行うことを考える。"
      ],
      "metadata": {
        "id": "FTNeIUngFgbJ"
      }
    },
    {
      "cell_type": "code",
      "source": [
        "wine = pd.read_csv(\"winequality-white.csv\", sep=\";\")\n",
        "\n",
        "\n",
        "# 四分位範囲を基準として、外れ値が2つ以上ある行を削除する関数\n",
        "def remove_outliers(df):\n",
        "  outlier_indices = []\n",
        "\n",
        "  for column_name in df.columns.values:\n",
        "    if(column_name == 'quality'):\n",
        "      continue\n",
        "    \n",
        "    q1 = df[column_name].describe()['25%']\n",
        "    q3 = df[column_name].describe()['75%']\n",
        "    iqr = q3 - q1\n",
        "\n",
        "    min = q1 - (iqr * 1.5)\n",
        "    max = q3 + (iqr * 1.5)\n",
        "\n",
        "    outlier_indices.extend(\n",
        "        df[(df[column_name] < min) | (df[column_name] > max)].index\n",
        "    )\n",
        "\n",
        "  outlier_indices = Counter(outlier_indices)\n",
        "  rows_to_be_removed = list(k for k, v in outlier_indices.items() if v >= 2)\n",
        "\n",
        "  return df.drop(rows_to_be_removed)\n",
        "\n",
        "\n",
        "# 白ワインデータセットから外れ値を含む行を除外\n",
        "wine = remove_outliers(wine)\n",
        "\n",
        "X = wine[['fixed acidity','volatile acidity','citric acid','residual sugar','chlorides','free sulfur dioxide', 'total sulfur dioxide', 'density', 'pH', 'sulphates','alcohol']].values\n",
        "y = wine['quality'].values\n",
        "y = (y >= 6).astype(np.int)\n",
        "print(np.sum(y==1, axis=0))\n",
        "print(np.sum(y==0, axis=0))\n",
        "\n",
        "# 訓練データとテストデータに分割\n",
        "X_train, X_test, y_train, y_test = train_test_split(X, y, test_size=0.2, random_state=0, stratify=y) \n",
        "\n",
        "# 標準化\n",
        "scaler = StandardScaler()\n",
        "scaler.fit(X_train)\n",
        "norm_X_train = scaler.transform(X_train)\n",
        "norm_X_test = scaler.transform(X_test)\n",
        "\n",
        "lr = LogisticRegression(solver='liblinear', multi_class='auto') \n",
        "lr.fit(norm_X_train, y_train)\n",
        "y_pred = lr.predict(norm_X_test)\n",
        "\n",
        "print(confusion_matrix(y_test, y_pred))  # 混同行列\n",
        "print(accuracy_score(y_test, y_pred))  # accuracy\n",
        "print(precision_score(y_test, y_pred))  # precision\n",
        "print(recall_score(y_test, y_pred))  # recall\n",
        "print(f1_score(y_test, y_pred))  # f値"
      ],
      "metadata": {
        "colab": {
          "base_uri": "https://localhost:8080/"
        },
        "id": "eUESIS6WGAyt",
        "outputId": "d7378047-f884-4e1d-ac01-b606dae0ab97"
      },
      "execution_count": null,
      "outputs": [
        {
          "output_type": "stream",
          "name": "stdout",
          "text": [
            "3194\n",
            "1545\n",
            "[[147 162]\n",
            " [ 74 565]]\n",
            "0.7510548523206751\n",
            "0.7771664374140302\n",
            "0.8841940532081377\n",
            "0.8272327964860907\n"
          ]
        }
      ]
    },
    {
      "cell_type": "markdown",
      "source": [
        "recall 以外の評価指標がわずかに向上したため、外れ値は削除して分析を続ける。\n",
        "次にモデルの正則化を考える。5分割交差検証によりaccuracy を評価指標として最適な正則化項の係数を決定する。"
      ],
      "metadata": {
        "id": "1IjWXDHbLTF8"
      }
    },
    {
      "cell_type": "code",
      "source": [
        "def model_selection1(X_train, y_train):\n",
        "  pipe = make_pipeline(StandardScaler(), LogisticRegression(solver='liblinear', multi_class='auto'))\n",
        "  param_grid = {'logisticregression__C': [10, 100, 1000, 10000, 100000]}\n",
        "  grid = GridSearchCV(pipe, param_grid=param_grid, scoring=\"accuracy\", cv=5)\n",
        "  grid.fit(X_train, y_train)\n",
        "  return grid.best_params_['logisticregression__C'], grid.best_score_\n",
        "\n",
        "model_selection1(X_train, y_train)"
      ],
      "metadata": {
        "colab": {
          "base_uri": "https://localhost:8080/"
        },
        "id": "cyJQoEq4nh6D",
        "outputId": "7b48c352-7616-45ab-f5d1-b861cd71383e"
      },
      "execution_count": null,
      "outputs": [
        {
          "output_type": "execute_result",
          "data": {
            "text/plain": [
              "(1000, 0.7562662300416114)"
            ]
          },
          "metadata": {},
          "execution_count": 58
        }
      ]
    },
    {
      "cell_type": "markdown",
      "source": [
        "交差検証の結果、最適な正則化項の係数は0.001、そのときのaccuracy は0.75...となることがわかった。続いて、多項式を用いた特徴量生成によりモデルを複雑化することを考える。5分割交差検証により、accuracy を評価指標として最適な正則化項の係数と多項式の次数の組み合わせを決定する（かなり時間がかかります）。"
      ],
      "metadata": {
        "id": "CK8f5Nv0sRNl"
      }
    },
    {
      "cell_type": "code",
      "source": [
        "def model_selection2(X_train, y_train):\n",
        "    pipe = make_pipeline(PolynomialFeatures(), StandardScaler(), LogisticRegression(solver='liblinear', multi_class='auto', max_iter=10000))\n",
        "    param_grid = {'logisticregression__C': [0.01, 0.1, 1], 'polynomialfeatures__degree': [3, 4, 5]}\n",
        "    grid = GridSearchCV(pipe, param_grid=param_grid, scoring=\"accuracy\", cv=5)\n",
        "    grid.fit(X_train, y_train)\n",
        "    return grid.best_params_['logisticregression__C'], grid.best_params_['polynomialfeatures__degree'], grid.best_score_\n",
        "\n",
        "optimal_C, optimal_degree, valid_accuracy = model_selection2(X_train, y_train)\n",
        "print(optimal_C, optimal_degree, valid_accuracy)"
      ],
      "metadata": {
        "colab": {
          "base_uri": "https://localhost:8080/"
        },
        "id": "qxKYfiB7uMYb",
        "outputId": "3b2cf921-3305-4471-8522-13b53029a6d3"
      },
      "execution_count": null,
      "outputs": [
        {
          "output_type": "stream",
          "name": "stdout",
          "text": [
            "0.1 4 0.7831722061732386\n"
          ]
        }
      ]
    },
    {
      "cell_type": "markdown",
      "source": [
        "最適な正則化項の係数と多項式の次数の組み合わせは10と4であり、そのときのaccuracy は0.7831722061732386となることが分かった。この正則化項の係数と多項式の次数によりロジスティック回帰モデルを学習し、テストデータで評価を行う。"
      ],
      "metadata": {
        "id": "JTZpjmf07Z_u"
      }
    },
    {
      "cell_type": "code",
      "source": [
        "pipe = make_pipeline(PolynomialFeatures(degree=optimal_degree), StandardScaler(), LogisticRegression(solver='liblinear',  multi_class='auto', C=optimal_C))\n",
        "pipe.fit(X_train,y_train)\n",
        "y_pred = pipe.predict(X_test)\n",
        "\n",
        "print(confusion_matrix(y_test, y_pred)) # 混同行列\n",
        "print(accuracy_score(y_test, y_pred)) # accuracy\n",
        "print(precision_score(y_test, y_pred)) # precision\n",
        "print(recall_score(y_test, y_pred)) # recall\n",
        "print(f1_score(y_test, y_pred))  # f値"
      ],
      "metadata": {
        "colab": {
          "base_uri": "https://localhost:8080/"
        },
        "id": "uuxeWmGT79Wh",
        "outputId": "47b773ad-ebfd-4c09-9a58-cff8ae35a0c3"
      },
      "execution_count": null,
      "outputs": [
        {
          "output_type": "stream",
          "name": "stdout",
          "text": [
            "[[170 139]\n",
            " [ 88 551]]\n",
            "0.760548523206751\n",
            "0.7985507246376812\n",
            "0.8622848200312989\n",
            "0.8291948833709555\n"
          ]
        }
      ]
    },
    {
      "cell_type": "markdown",
      "source": [
        "当初の分析結果に比べ、recall 以外の評価指標については（わずかではあるが）予測精度を向上することができた。しかしながら、依然高精度の予測ができているとは言えないため、別の機械学習モデルを使用することを考える。まずはSVM を使用する。"
      ],
      "metadata": {
        "id": "jXC9nvPN-LzA"
      }
    },
    {
      "cell_type": "code",
      "source": [
        "svc = SVC(kernel='rbf', random_state=0)\n",
        "svc.fit(norm_X_train, y_train)\n",
        "y_pred = svc.predict(norm_X_test)\n",
        "\n",
        "print(confusion_matrix(y_test, y_pred))  # 混同行列\n",
        "print(accuracy_score(y_test, y_pred))  # accuracy\n",
        "print(precision_score(y_test, y_pred))  # precision\n",
        "print(recall_score(y_test, y_pred))  # recall\n",
        "print(f1_score(y_test, y_pred))  # f値"
      ],
      "metadata": {
        "colab": {
          "base_uri": "https://localhost:8080/"
        },
        "id": "uNxuQDoUEGqD",
        "outputId": "7dc488cd-f0a9-43ba-bde4-57a1fc3d8d9c"
      },
      "execution_count": null,
      "outputs": [
        {
          "output_type": "stream",
          "name": "stdout",
          "text": [
            "[[174 135]\n",
            " [ 80 559]]\n",
            "0.7732067510548524\n",
            "0.8054755043227666\n",
            "0.8748043818466353\n",
            "0.8387096774193549\n"
          ]
        }
      ]
    },
    {
      "cell_type": "markdown",
      "source": [
        "決定木による予測も行う。"
      ],
      "metadata": {
        "id": "3siQCvm0N1Jk"
      }
    },
    {
      "cell_type": "code",
      "source": [
        "dtc = DecisionTreeClassifier(random_state=0)\n",
        "dtc = dtc.fit(norm_X_train, y_train)\n",
        "y_pred = dtc.predict(norm_X_test)\n",
        "\n",
        "print(confusion_matrix(y_test, y_pred))  # 混同行列\n",
        "print(accuracy_score(y_test, y_pred))  # accuracy\n",
        "print(precision_score(y_test, y_pred))  # precision\n",
        "print(recall_score(y_test, y_pred))  # recall\n",
        "print(f1_score(y_test, y_pred))  # f値"
      ],
      "metadata": {
        "colab": {
          "base_uri": "https://localhost:8080/"
        },
        "id": "NCKvHntVOx0g",
        "outputId": "f43ec735-5ae9-4c70-d6e1-88666d3516f4"
      },
      "execution_count": null,
      "outputs": [
        {
          "output_type": "stream",
          "name": "stdout",
          "text": [
            "[[202 107]\n",
            " [ 91 548]]\n",
            "0.7911392405063291\n",
            "0.8366412213740458\n",
            "0.8575899843505478\n",
            "0.8469860896445133\n"
          ]
        }
      ]
    },
    {
      "cell_type": "markdown",
      "source": [
        "accuracy に関しては、決定木による予測が一番精度が高いことが分かった。\n",
        "よって、以降では決定木の予測精度を上げることを試みる。複数の決定木を使ったアンサンブル学習（ランダムフォレスト）により、訓練データを学習する。"
      ],
      "metadata": {
        "id": "MYKjDmtXPRR3"
      }
    },
    {
      "cell_type": "code",
      "source": [
        "rfc = RandomForestClassifier(random_state=0)\n",
        "rfc.fit(norm_X_train, y_train)\n",
        "y_pred = rfc.predict(norm_X_test)\n",
        "\n",
        "print(confusion_matrix(y_test, y_pred))  # 混同行列\n",
        "print(accuracy_score(y_test, y_pred))  # accuracy\n",
        "print(precision_score(y_test, y_pred))  # precision\n",
        "print(recall_score(y_test, y_pred))  # recall\n",
        "print(f1_score(y_test, y_pred))  # f値"
      ],
      "metadata": {
        "colab": {
          "base_uri": "https://localhost:8080/"
        },
        "id": "eB3ZqJIkQriy",
        "outputId": "719a19b8-ff5d-4012-a912-7bf38a7255b4"
      },
      "execution_count": null,
      "outputs": [
        {
          "output_type": "stream",
          "name": "stdout",
          "text": [
            "[[217  92]\n",
            " [ 72 567]]\n",
            "0.8270042194092827\n",
            "0.8603945371775418\n",
            "0.8873239436619719\n",
            "0.8736517719568568\n"
          ]
        }
      ]
    },
    {
      "cell_type": "markdown",
      "source": [
        "単一の決定木で学習したときよりaccuracy が向上した。ロジスティック回帰モデルのときと同様に、主成分分析による次元削減を行った上でランダムフォレストを使用して学習を行う。"
      ],
      "metadata": {
        "id": "AGB253gzUqio"
      }
    },
    {
      "cell_type": "code",
      "source": [
        "wine = pd.read_csv(\"winequality-white.csv\", sep=\";\")\n",
        "\n",
        "X = wine[['fixed acidity','volatile acidity','citric acid','residual sugar','chlorides','free sulfur dioxide', 'total sulfur dioxide', 'density', 'pH', 'sulphates','alcohol']].values\n",
        "y = wine['quality'].values\n",
        "y = (y >= 6).astype(np.int)\n",
        "print(np.sum(y==1, axis=0))\n",
        "print(np.sum(y==0, axis=0))\n",
        "\n",
        "scaler = StandardScaler()\n",
        "scaler.fit(X)\n",
        "norm_X = scaler.transform(X)\n",
        "\n",
        "# 主成分分析による次元削減（8次元に縮約）\n",
        "norm_X = reduce_dimension(norm_X)\n",
        "\n",
        "# 訓練データとテストデータに分割\n",
        "norm_X_train, norm_X_test, y_train, y_test = train_test_split(norm_X, y, test_size=0.2, random_state=0, stratify=y) \n",
        "\n",
        "rfc = RandomForestClassifier(random_state=0)\n",
        "rfc.fit(norm_X_train, y_train)\n",
        "y_pred = rfc.predict(norm_X_test)\n",
        "\n",
        "print(confusion_matrix(y_test, y_pred))  # 混同行列\n",
        "print(accuracy_score(y_test, y_pred))  # accuracy\n",
        "print(precision_score(y_test, y_pred))  # precision\n",
        "print(recall_score(y_test, y_pred))  # recall\n",
        "print(f1_score(y_test, y_pred))  # f値"
      ],
      "metadata": {
        "colab": {
          "base_uri": "https://localhost:8080/"
        },
        "id": "ADctQpMiTFTa",
        "outputId": "5a17f3db-0984-4e9b-b3cd-68c70d1cdd33"
      },
      "execution_count": null,
      "outputs": [
        {
          "output_type": "stream",
          "name": "stdout",
          "text": [
            "3258\n",
            "1640\n",
            "[[216 112]\n",
            " [ 52 600]]\n",
            "0.8326530612244898\n",
            "0.8426966292134831\n",
            "0.9202453987730062\n",
            "0.8797653958944281\n"
          ]
        }
      ]
    },
    {
      "cell_type": "markdown",
      "source": [
        "PCA による次元削減によって、accuracy がさらに向上した。続いて、外れ値を除外してからランダムフォレストによる学習を行う。"
      ],
      "metadata": {
        "id": "iJVdKY-xWOLS"
      }
    },
    {
      "cell_type": "code",
      "source": [
        "# 白ワインデータセットから外れ値を含む行を除外\n",
        "wine = remove_outliers(wine)\n",
        "\n",
        "X = wine[['fixed acidity','volatile acidity','citric acid','residual sugar','chlorides','free sulfur dioxide', 'total sulfur dioxide', 'density', 'pH', 'sulphates','alcohol']].values\n",
        "y = wine['quality'].values\n",
        "y = (y >= 6).astype(np.int)\n",
        "print(np.sum(y==1, axis=0))\n",
        "print(np.sum(y==0, axis=0))\n",
        "\n",
        "scaler = StandardScaler()\n",
        "scaler.fit(X)\n",
        "norm_X = scaler.transform(X)\n",
        "\n",
        "# 主成分分析による次元削減（8次元に縮約）\n",
        "norm_X = reduce_dimension(norm_X)\n",
        "\n",
        "# 訓練データとテストデータに分割\n",
        "norm_X_train, norm_X_test, y_train, y_test = train_test_split(norm_X, y, test_size=0.2, random_state=0, stratify=y) \n",
        "\n",
        "rfc = RandomForestClassifier(random_state=0)\n",
        "rfc.fit(norm_X_train, y_train)\n",
        "y_pred = rfc.predict(norm_X_test)\n",
        "\n",
        "print(confusion_matrix(y_test, y_pred))  # 混同行列\n",
        "print(accuracy_score(y_test, y_pred))  # accuracy\n",
        "print(precision_score(y_test, y_pred))  # precision\n",
        "print(recall_score(y_test, y_pred))  # recall\n",
        "print(f1_score(y_test, y_pred))  # f値"
      ],
      "metadata": {
        "colab": {
          "base_uri": "https://localhost:8080/"
        },
        "id": "tddyZ87YW-CW",
        "outputId": "4e38b7f8-de6c-4811-9fd4-c1c1b2178f02"
      },
      "execution_count": null,
      "outputs": [
        {
          "output_type": "stream",
          "name": "stdout",
          "text": [
            "3187\n",
            "1538\n",
            "[[199 109]\n",
            " [ 65 572]]\n",
            "0.8158730158730159\n",
            "0.8399412628487518\n",
            "0.8979591836734694\n",
            "0.8679817905918057\n"
          ]
        }
      ]
    },
    {
      "cell_type": "markdown",
      "source": [
        "すべての評価指標が落ちてしまったので、外れ値は削除しない方針で分析を続ける。3分割交差検証によりaccuracy を評価指標として最適な決定木の数（n_estimators）と決定木の深さ（max_depth）の組み合わせを決定する。"
      ],
      "metadata": {
        "id": "ogU26XfmgS2Z"
      }
    },
    {
      "cell_type": "code",
      "source": [
        "wine = pd.read_csv(\"winequality-white.csv\", sep=\";\")\n",
        "\n",
        "X = wine[['fixed acidity','volatile acidity','citric acid','residual sugar','chlorides','free sulfur dioxide', 'total sulfur dioxide', 'density', 'pH', 'sulphates','alcohol']].values\n",
        "y = wine['quality'].values\n",
        "y = (y >= 6).astype(np.int)\n",
        "print(np.sum(y==1, axis=0))\n",
        "print(np.sum(y==0, axis=0))\n",
        "\n",
        "scaler = StandardScaler()\n",
        "scaler.fit(X)\n",
        "norm_X = scaler.transform(X)\n",
        "\n",
        "# 主成分分析による次元削減（8次元に縮約）\n",
        "norm_X = reduce_dimension(norm_X)\n",
        "\n",
        "# 訓練データとテストデータに分割\n",
        "norm_X_train, norm_X_test, y_train, y_test = train_test_split(norm_X, y, test_size=0.2, random_state=0, stratify=y) \n",
        "\n",
        "def model_selection3(X_train, y_train):\n",
        "    param_grid = {\"max_features\": [2, 3, 4, 5], \"n_estimators\":[500, 1000, 1500, 2000]}\n",
        "    grid = GridSearchCV(estimator=RandomForestClassifier(random_state=0), param_grid=param_grid, scoring=\"accuracy\", cv=3)\n",
        "    grid.fit(X_train, y_train)\n",
        "    return grid.best_params_['max_features'], grid.best_params_['n_estimators'], grid.best_score_, grid.cv_results_\n",
        "\n",
        "optimal_feature, optimal_estimator, valid_accuracy, cv_result = model_selection3(norm_X_train, y_train)\n",
        "\n",
        "# GridSearchCV 結果の可視化\n",
        "cv_result = pd.DataFrame(cv_result)\n",
        "cv_result = cv_result[['param_max_features', 'param_n_estimators', 'mean_test_score']]\n",
        "cv_result_pivot_table = cv_result.pivot_table('mean_test_score', 'param_max_features', 'param_n_estimators')\n",
        "heatmap = sns.heatmap(cv_result_pivot_table, cmap='Reds', annot=True)"
      ],
      "metadata": {
        "colab": {
          "base_uri": "https://localhost:8080/",
          "height": 317
        },
        "id": "wgvtvPxdh018",
        "outputId": "c89c5186-a53a-419c-cdc4-248c3ac4add6"
      },
      "execution_count": null,
      "outputs": [
        {
          "output_type": "stream",
          "name": "stdout",
          "text": [
            "3258\n",
            "1640\n"
          ]
        },
        {
          "output_type": "display_data",
          "data": {
            "image/png": "[encoded data removed]",
            "text/plain": [
              "<Figure size 432x288 with 2 Axes>"
            ]
          },
          "metadata": {
            "needs_background": "light"
          }
        }
      ]
    },
    {
      "cell_type": "markdown",
      "source": [
        "最適な決定木の数は1500、決定木の深さは4であることが分かった。この決定木の数と決定木の深さでランダムフォレストモデルを学習させ、テストデータによる評価を行う。"
      ],
      "metadata": {
        "id": "H7oKk1o5RF_N"
      }
    },
    {
      "cell_type": "code",
      "source": [
        "rfc = RandomForestClassifier(random_state=0, max_features=4, n_estimators=1500)\n",
        "rfc.fit(norm_X_train, y_train)\n",
        "y_pred = rfc.predict(norm_X_test)\n",
        "\n",
        "print(confusion_matrix(y_test, y_pred))  # 混同行列\n",
        "print(accuracy_score(y_test, y_pred))  # accuracy\n",
        "print(precision_score(y_test, y_pred))  # precision\n",
        "print(recall_score(y_test, y_pred))  # recall\n",
        "print(f1_score(y_test, y_pred))  # f値"
      ],
      "metadata": {
        "colab": {
          "base_uri": "https://localhost:8080/"
        },
        "id": "zAwjHjjNAVul",
        "outputId": "30f9ba9c-7b4a-414a-bd20-9c9711a95ce0"
      },
      "execution_count": null,
      "outputs": [
        {
          "output_type": "stream",
          "name": "stdout",
          "text": [
            "[[220 108]\n",
            " [ 54 598]]\n",
            "0.8346938775510204\n",
            "0.8470254957507082\n",
            "0.9171779141104295\n",
            "0.8807069219440353\n"
          ]
        }
      ]
    },
    {
      "cell_type": "markdown",
      "source": [
        "最終的なaccuracy は83%となった。"
      ],
      "metadata": {
        "id": "v5kT4yFHRbnH"
      }
    }
  ],
  "metadata": {
    "kernelspec": {
      "display_name": "Python 3",
      "language": "python",
      "name": "python3"
    },
    "language_info": {
      "codemirror_mode": {
        "name": "ipython",
        "version": 3
      },
      "file_extension": ".py",
      "mimetype": "text/x-python",
      "name": "python",
      "nbconvert_exporter": "python",
      "pygments_lexer": "ipython3",
      "version": "3.7.3"
    },
    "colab": {
      "name": "project.ipynb",
      "provenance": [],
      "collapsed_sections": []
    }
  },
  "nbformat": 4,
  "nbformat_minor": 0
}