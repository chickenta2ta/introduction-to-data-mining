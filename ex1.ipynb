{
  "nbformat": 4,
  "nbformat_minor": 0,
  "metadata": {
    "colab": {
      "name": "ex1.ipynb",
      "provenance": [],
      "collapsed_sections": []
    },
    "kernelspec": {
      "name": "python3",
      "display_name": "Python 3"
    },
    "language_info": {
      "name": "python"
    }
  },
  "cells": [
    {
      "cell_type": "markdown",
      "metadata": {
        "id": "2WVIxtiCgy6L"
      },
      "source": [
        "# 課題1 データの基本的な記述統計の計算\n",
        "データの特徴を指標（統計値）によって記述することを記述統計と呼びます。データ分析の過程で、記述統計は分析対象のデータを観察し、理解するのに用いられます。\n",
        "\n",
        "記述統計により対象データを理解することは、データの前処理（欠損値、外れ値、異常値の処理）の準備にもなります。\n",
        "\n",
        "記述統計および前処理について次回以降の授業で詳しく説明します。\n",
        "\n",
        "代表的な記述統計に平均があります。平均はデータの中心傾向を記述するための指標で、データが$n$個の数値要素からなる場合、平均は以下のように計算できます。$x_{i}$はデータの各要素を表しています。\n",
        "\n",
        "$\\frac{1}{n}\\Sigma^{n}_{i=1}x_{i}$\n",
        "\n",
        "以下では、Pythonの基礎で学んだ内容を元にして、数値データの平均に加えて最大値、最小値を求めるPythonコードを実装します。\n",
        "\n",
        "配点\n",
        "- Q1 5P\n",
        "- Q2 5P"
      ]
    },
    {
      "cell_type": "markdown",
      "metadata": {
        "id": "aN6b5pLGhN2z"
      },
      "source": [
        "## Q1\n",
        "非負の整数（最大でも10,000,000とする）を要素とする任意の長さのリストを引数で入力として受け取り、以下を要素とするリストを返す`avg_max_min`関数を完成させてください。\n",
        "- 入力リストの全ての要素の平均値\n",
        "- 入力リストの全ての要素の中で最大の値\n",
        "- 入力リストの全ての要素の中で最小の値"
      ]
    },
    {
      "cell_type": "code",
      "metadata": {
        "id": "Ak00hVu7hThE",
        "exercise_id": "q1",
        "inlinetests": {
          "InlineTest_1": "\nassert 'avg_max_min' in globals(), f\"Have you defined the function 'avg_max_min'?\"\nassert str(avg_max_min.__class__) == \"<class 'function'>\", f\"Have you defined a function 'avg_max_min'? Found a {avg_max_min.__class__} instead\"\ntry:\n    lst = [30,39,29,95,70,67,29,56,45,68]\n    assert avg_max_min(lst) == [sum(lst)/len(lst), max(lst), min(lst)], f\"Your function 'avg_max_min' returns {avg_max_min(lst)}, while the expected answer is {[sum(lst)/len(lst), max(lst), min(lst)]}\"\nexcept AssertionError as e:\n    raise e\nexcept Exception as e:\n    assert False, f\"Your function 'avg_max_min' does not accept 'input_list' and raises an exception: {e}. Please try to pass `input_list` to your function.\""
        }
      },
      "source": [
        "def avg_max_min(nonnegative_int_list):\n",
        "    # 課題の意図と異なりますが、組み込み関数を再実装したくなかったので以下のようにしました\n",
        "    avg = sum(nonnegative_int_list) / len(nonnegative_int_list)\n",
        "    max_ = max(nonnegative_int_list)\n",
        "    min_ = min(nonnegative_int_list)\n",
        "\n",
        "    return [avg, max_, min_]"
      ],
      "execution_count": 45,
      "outputs": []
    },
    {
      "cell_type": "markdown",
      "metadata": {
        "id": "ejUJ4nxijTh-"
      },
      "source": [
        "`avg_max_min`関数が完成したら、以下のセルを実行して動作を確認してください。"
      ]
    },
    {
      "cell_type": "code",
      "metadata": {
        "id": "zXtK0MUPjWMq",
        "colab": {
          "base_uri": "https://localhost:8080/"
        },
        "outputId": "0b9dadbc-9788-4b66-b546-f5b7294b65fb"
      },
      "source": [
        "avg_max_min([30,39,29,95,70,67,29,56,45,68])"
      ],
      "execution_count": 46,
      "outputs": [
        {
          "output_type": "execute_result",
          "data": {
            "text/plain": [
              "[52.8, 95, 29]"
            ]
          },
          "metadata": {},
          "execution_count": 46
        }
      ]
    },
    {
      "cell_type": "markdown",
      "metadata": {
        "id": "xT6PvVTNjcB2"
      },
      "source": [
        "結果は`[52.8, 95, 29]`となります。結果が異なる場合は、作成した`avg_max_min`関数に誤りがないか確認してください。"
      ]
    },
    {
      "cell_type": "markdown",
      "metadata": {
        "id": "PanoCZkIj4oI"
      },
      "source": [
        "## Q2\n",
        "以下のような形式の\"SSDSE.csv\"ファイルを読み込み、\"人口総数\", \"人口総数(男)\", \"人口総数(女)\"、の各列に対応するキーを、\"total\", \"male\", \"female\"、として、各列の平均値、最大値、最小値のリストを値に持つ以下のような辞書を返す`population_stat`関数を完成させてください。その際、先に作成した`avg_max_min`関数を利用してください。\n",
        "```Python\n",
        "## SSDSE.csvファイル\n",
        "code, prefecture, municipality, A1101,\tA110101, A110102, ...\n",
        "地域コード, 都道府県, 市区町村, 人口総数, 人口総数（男）, 人口総数（女）, ...\n",
        "R01100, 北海道, 札幌市, 1952356, 910614, 1041742\n",
        "R01202, 北海道, 函館市, 265979, 120376, 145603\n",
        "R01203, 北海道, 小樽市, 121924, 54985, 66939\n",
        "...\n",
        "\n",
        "## 結果の辞書\n",
        "{'total': ['人口総数の平均', '人口総数の最大値', '人口総数の最小値'],\n",
        " 'male': ['人口総数（男）の平均', '人口総数（男）の最大値', '人口総数（男）の最小値'],\n",
        " 'female': ['人口総数（女）の平均', '人口総数（女）の最大値', '人口総数（女）の最小値']}\n",
        "```\n",
        "\n",
        "### 参考\n",
        "\n",
        "- [教育用標準データセット](https://www.nstac.go.jp/SSDSE/)"
      ]
    },
    {
      "cell_type": "code",
      "metadata": {
        "id": "vEvQVmIIj3oU",
        "colab": {
          "base_uri": "https://localhost:8080/"
        },
        "outputId": "80012874-9964-4b70-91e4-d5c4ab84dcca"
      },
      "source": [
        "# Colaboratoryでは以下を実行して必要なファイルをダウンロード\n",
        "!wget https://raw.githubusercontent.com/UTDataMining/2020A/master/ex1/SSDSE.csv"
      ],
      "execution_count": null,
      "outputs": [
        {
          "output_type": "stream",
          "name": "stdout",
          "text": [
            "--2021-10-14 13:44:58--  https://raw.githubusercontent.com/UTDataMining/2020A/master/ex1/SSDSE.csv\n",
            "Resolving raw.githubusercontent.com (raw.githubusercontent.com)... 185.199.108.133, 185.199.109.133, 185.199.110.133, ...\n",
            "Connecting to raw.githubusercontent.com (raw.githubusercontent.com)|185.199.108.133|:443... connected.\n",
            "HTTP request sent, awaiting response... 200 OK\n",
            "Length: 867732 (847K) [text/plain]\n",
            "Saving to: ‘SSDSE.csv’\n",
            "\n",
            "\rSSDSE.csv             0%[                    ]       0  --.-KB/s               \rSSDSE.csv           100%[===================>] 847.39K  --.-KB/s    in 0.05s   \n",
            "\n",
            "2021-10-14 13:44:58 (17.2 MB/s) - ‘SSDSE.csv’ saved [867732/867732]\n",
            "\n"
          ]
        }
      ]
    },
    {
      "cell_type": "code",
      "metadata": {
        "id": "24OikpbPkBfW",
        "exercise_id": "q2",
        "inlinetests": {
          "InlineTest_2": "\nassert 'population_stat' in globals(), f\"Have you defined the function 'petal_corr'?\"\nassert str(population_stat.__class__) == \"<class 'function'>\", f\"Have you defined a function 'population_stat'? Found a {population_stat.__class__} instead\"\ntry:\n  import pandas as pd\n  stat = pd.read_csv('SSDSE.csv',  skiprows=[1])\n  ans = {\"total\":[stat['A1101'].mean(), stat['A1101'].max(), stat['A1101'].min()], \"male\":[stat['A110101'].mean(), stat['A110101'].max(), stat['A110101'].min()], \"female\":[stat['A110102'].mean(), stat['A110102'].max(), stat['A110102'].min()]}\n  assert population_stat() == ans, f\"Your function 'population_stat' returns {population_stat()}, while the expected answer is {ans}\"\nexcept AssertionError as e:\n    raise e\nexcept Exception as e:\n    assert False, f\"Your function raises an exception: {e}.\""
        }
      },
      "source": [
        "import csv\n",
        "\n",
        "def population_stat():\n",
        "    population_total_list = []\n",
        "    population_male_list = []\n",
        "    population_female_list = []\n",
        "    \n",
        "    with open('SSDSE.csv', 'r', encoding=\"utf-8\") as handler:\n",
        "        csv_reader = csv.reader(handler) \n",
        "        for row in csv_reader:\n",
        "            if csv_reader.line_num > 2:\n",
        "                population_total_list.append(int(row[3]))\n",
        "                population_male_list.append(int(row[4]))\n",
        "                population_female_list.append(int(row[5]))\n",
        "    \n",
        "        population_total_stat = avg_max_min(population_total_list)\n",
        "        population_male_stat = avg_max_min(population_male_list)\n",
        "        population_female_stat = avg_max_min(population_female_list)\n",
        "    \n",
        "    return {\n",
        "        \"total\": population_total_stat,\n",
        "        \"male\": population_male_stat,\n",
        "        \"female\": population_female_stat,\n",
        "        }"
      ],
      "execution_count": 47,
      "outputs": []
    },
    {
      "cell_type": "markdown",
      "metadata": {
        "id": "D9S-TgSult7I"
      },
      "source": [
        "`poplation_stat`関数が完成したら、以下のセルを実行して動作を確認してください。"
      ]
    },
    {
      "cell_type": "code",
      "metadata": {
        "id": "b3Hy-Flkl1Ff",
        "colab": {
          "base_uri": "https://localhost:8080/"
        },
        "outputId": "5ace6aa5-f201-4a1d-c4ac-0b3fce926eca"
      },
      "source": [
        "population_stat()"
      ],
      "execution_count": 48,
      "outputs": [
        {
          "output_type": "execute_result",
          "data": {
            "text/plain": [
              "{'female': [37480.18782309018, 1868859, 0],\n",
              " 'male': [35520.814474439976, 1855985, 0],\n",
              " 'total': [73001.00229753015, 3724844, 0]}"
            ]
          },
          "metadata": {},
          "execution_count": 48
        }
      ]
    },
    {
      "cell_type": "markdown",
      "metadata": {
        "id": "NeRqoGxvmDlS"
      },
      "source": [
        "結果は`{'total': [73001.00229753015, 3724844, 0],\n",
        " 'male': [35520.814474439976, 1855985, 0],\n",
        " 'female': [37480.18782309018, 1868859, 0]}`となります。結果が異なる場合は、作成した`population_stat`関数に誤りがないか確認してください。"
      ]
    },
    {
      "cell_type": "markdown",
      "metadata": {
        "id": "9uNQmVQCmTi-"
      },
      "source": [
        "# 作成したコードのテスト"
      ]
    },
    {
      "cell_type": "code",
      "metadata": {
        "id": "EImwWFwUgr2-",
        "colab": {
          "base_uri": "https://localhost:8080/"
        },
        "outputId": "866d86de-9ece-4df5-faf7-ee36e966a600"
      },
      "source": [
        "# コードのテストの前にこのセルを実行してください\n",
        "!pip install prog_edu_assistant_tools\n",
        "import re\n",
        "import sys\n",
        "import jinja2\n",
        "from IPython.core import display\n",
        "from google.colab import _message as google_message\n",
        "from prog_edu_assistant_tools.magics import report, autotest, CaptureOutput\n",
        "from prog_edu_assistant_tools.check import Check"
      ],
      "execution_count": null,
      "outputs": [
        {
          "output_type": "stream",
          "name": "stdout",
          "text": [
            "Collecting prog_edu_assistant_tools\n",
            "  Downloading prog_edu_assistant_tools-0.3.1-py3-none-any.whl (16 kB)\n",
            "Requirement already satisfied: IPython in /usr/local/lib/python3.7/dist-packages (from prog_edu_assistant_tools) (5.5.0)\n",
            "Requirement already satisfied: Jinja2 in /usr/local/lib/python3.7/dist-packages (from prog_edu_assistant_tools) (2.11.3)\n",
            "Requirement already satisfied: simplegeneric>0.8 in /usr/local/lib/python3.7/dist-packages (from IPython->prog_edu_assistant_tools) (0.8.1)\n",
            "Requirement already satisfied: pexpect in /usr/local/lib/python3.7/dist-packages (from IPython->prog_edu_assistant_tools) (4.8.0)\n",
            "Requirement already satisfied: prompt-toolkit<2.0.0,>=1.0.4 in /usr/local/lib/python3.7/dist-packages (from IPython->prog_edu_assistant_tools) (1.0.18)\n",
            "Requirement already satisfied: pickleshare in /usr/local/lib/python3.7/dist-packages (from IPython->prog_edu_assistant_tools) (0.7.5)\n",
            "Requirement already satisfied: setuptools>=18.5 in /usr/local/lib/python3.7/dist-packages (from IPython->prog_edu_assistant_tools) (57.4.0)\n",
            "Requirement already satisfied: decorator in /usr/local/lib/python3.7/dist-packages (from IPython->prog_edu_assistant_tools) (4.4.2)\n",
            "Requirement already satisfied: traitlets>=4.2 in /usr/local/lib/python3.7/dist-packages (from IPython->prog_edu_assistant_tools) (5.1.0)\n",
            "Requirement already satisfied: pygments in /usr/local/lib/python3.7/dist-packages (from IPython->prog_edu_assistant_tools) (2.6.1)\n",
            "Requirement already satisfied: six>=1.9.0 in /usr/local/lib/python3.7/dist-packages (from prompt-toolkit<2.0.0,>=1.0.4->IPython->prog_edu_assistant_tools) (1.15.0)\n",
            "Requirement already satisfied: wcwidth in /usr/local/lib/python3.7/dist-packages (from prompt-toolkit<2.0.0,>=1.0.4->IPython->prog_edu_assistant_tools) (0.2.5)\n",
            "Requirement already satisfied: MarkupSafe>=0.23 in /usr/local/lib/python3.7/dist-packages (from Jinja2->prog_edu_assistant_tools) (2.0.1)\n",
            "Requirement already satisfied: ptyprocess>=0.5 in /usr/local/lib/python3.7/dist-packages (from pexpect->IPython->prog_edu_assistant_tools) (0.7.0)\n",
            "Installing collected packages: prog-edu-assistant-tools\n",
            "Successfully installed prog-edu-assistant-tools-0.3.1\n"
          ]
        }
      ]
    },
    {
      "cell_type": "markdown",
      "metadata": {
        "id": "8uK76x5anMpX"
      },
      "source": [
        "## Q1"
      ]
    },
    {
      "cell_type": "code",
      "metadata": {
        "id": "TdDp1LLfmy7I",
        "colab": {
          "base_uri": "https://localhost:8080/",
          "height": 247
        },
        "outputId": "8e639acd-d596-44f6-87f3-ea5577619649"
      },
      "source": [
        "# Run this cell to check your solution.\n",
        "# If you get an error 'Check not defined', make sure you have run all preceding\n",
        "# cells once (Runtime -> Run before)\n",
        "Check('q1')"
      ],
      "execution_count": 49,
      "outputs": [
        {
          "output_type": "execute_result",
          "data": {
            "text/html": [
              "\n",
              "  <h4 style='color: #387;'>Your submission</h4>\n",
              "  <pre style='background: #F0F0F0; padding: 3pt; margin: 4pt; border: 1pt solid #DDD; border-radius: 3pt;'>def avg_max_min(nonnegative_int_list):\n",
              "    # 課題の意図と異なりますが、組み込み関数を再実装したくなかったので以下のようにしました\n",
              "    avg = sum(nonnegative_int_list) / len(nonnegative_int_list)\n",
              "    max_ = max(nonnegative_int_list)\n",
              "    min_ = min(nonnegative_int_list)\n",
              "\n",
              "    return [avg, max_, min_]</pre>\n",
              "  <h4 style='color: #387;'>Results</h4>\n",
              "  \n",
              "  &#x2705;\n",
              "  Looks OK.\n",
              "  "
            ],
            "text/plain": [
              "<IPython.core.display.HTML object>"
            ]
          },
          "metadata": {},
          "execution_count": 49
        }
      ]
    },
    {
      "cell_type": "markdown",
      "metadata": {
        "id": "rBbzkn-GnUW8"
      },
      "source": [
        "## Q2"
      ]
    },
    {
      "cell_type": "code",
      "metadata": {
        "id": "hZiCuyQpm_o1",
        "colab": {
          "base_uri": "https://localhost:8080/",
          "height": 542
        },
        "outputId": "af519438-762d-4153-a7b1-ef23ea48ec6d"
      },
      "source": [
        "# Run this cell to check your solution.\n",
        "# If you get an error 'Check not defined', make sure you have run all preceding\n",
        "# cells once (Runtime -> Run before)\n",
        "Check('q2')"
      ],
      "execution_count": 50,
      "outputs": [
        {
          "output_type": "execute_result",
          "data": {
            "text/html": [
              "\n",
              "  <h4 style='color: #387;'>Your submission</h4>\n",
              "  <pre style='background: #F0F0F0; padding: 3pt; margin: 4pt; border: 1pt solid #DDD; border-radius: 3pt;'>import csv\n",
              "\n",
              "def population_stat():\n",
              "    population_total_list = []\n",
              "    population_male_list = []\n",
              "    population_female_list = []\n",
              "    \n",
              "    with open('SSDSE.csv', 'r', encoding=\"utf-8\") as handler:\n",
              "        csv_reader = csv.reader(handler) \n",
              "        for row in csv_reader:\n",
              "            if csv_reader.line_num > 2:\n",
              "                population_total_list.append(int(row[3]))\n",
              "                population_male_list.append(int(row[4]))\n",
              "                population_female_list.append(int(row[5]))\n",
              "    \n",
              "        population_total_stat = avg_max_min(population_total_list)\n",
              "        population_male_stat = avg_max_min(population_male_list)\n",
              "        population_female_stat = avg_max_min(population_female_list)\n",
              "    \n",
              "    return {\n",
              "        \"total\": population_total_stat,\n",
              "        \"male\": population_male_stat,\n",
              "        \"female\": population_female_stat,\n",
              "        }</pre>\n",
              "  <h4 style='color: #387;'>Results</h4>\n",
              "  \n",
              "  &#x2705;\n",
              "  Looks OK.\n",
              "  "
            ],
            "text/plain": [
              "<IPython.core.display.HTML object>"
            ]
          },
          "metadata": {},
          "execution_count": 50
        }
      ]
    }
  ]
}