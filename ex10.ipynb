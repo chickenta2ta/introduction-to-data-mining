{
  "nbformat": 4,
  "nbformat_minor": 0,
  "metadata": {
    "colab": {
      "name": "ex10.ipynb",
      "provenance": [],
      "collapsed_sections": []
    },
    "kernelspec": {
      "name": "python3",
      "display_name": "Python 3"
    },
    "language_info": {
      "name": "python"
    }
  },
  "cells": [
    {
      "cell_type": "markdown",
      "source": [
        "# モデル評価と選択の演習\n",
        "\n",
        "\n"
      ],
      "metadata": {
        "id": "28L69hGhYbAz"
      }
    },
    {
      "cell_type": "code",
      "source": [
        "import pandas as pd\n",
        "import numpy as  np\n",
        "import csv\n",
        "import seaborn as sns\n",
        "from sklearn.preprocessing import StandardScaler\n",
        "from sklearn.preprocessing import PolynomialFeatures\n",
        "from sklearn.linear_model import LogisticRegression\n",
        "from sklearn.pipeline import make_pipeline\n",
        "from sklearn.model_selection import train_test_split\n",
        "from sklearn.model_selection import cross_val_score, cross_validate\n",
        "from sklearn.model_selection import StratifiedKFold\n",
        "from sklearn.model_selection import GridSearchCV\n",
        "from sklearn.model_selection import learning_curve\n",
        "from sklearn.model_selection import validation_curve\n",
        "from sklearn.metrics import precision_recall_curve\n",
        "from sklearn.metrics import confusion_matrix,  accuracy_score, precision_score, recall_score, f1_score\n",
        "import matplotlib.pyplot  as plt\n",
        "%matplotlib inline"
      ],
      "metadata": {
        "id": "A5JlowCoYX-A"
      },
      "execution_count": null,
      "outputs": []
    },
    {
      "cell_type": "code",
      "source": [
        "# Colaboratoryでは以下を実行して必要なファイルをダウンロード\n",
        "!wget https://raw.githubusercontent.com/UTDataMining/2021S/master/ex10/winequality-red.csv"
      ],
      "metadata": {
        "id": "-P_wmYK_YqAN"
      },
      "execution_count": null,
      "outputs": []
    },
    {
      "cell_type": "markdown",
      "source": [
        "UCI Machine Learning Repositoryに公開されているワインの品質データセットを用いて、ワインの理化学検査結果に基づく特徴量からワインの品質を予測することを考えます。\n",
        "\n",
        "以下では赤ワインのデータセットを使用します。\n",
        "\n",
        "[Wine Quality Data Set ](https://archive.ics.uci.edu/ml/datasets/wine+quality)\n",
        "\n",
        "各ワインのデータは以下の11種類の特徴量からなります。\n",
        "- 1 - fixed acidity \n",
        "- 2 - volatile acidity \n",
        "- 3 - citric acid \n",
        "- 4 - residual sugar \n",
        "- 5 - chlorides \n",
        "- 6 - free sulfur dioxide \n",
        "- 7 - total sulfur dioxide \n",
        "- 8 - density \n",
        "- 9 - pH \n",
        "- 10 - sulphates \n",
        "- 11 - alcohol \n",
        "\n",
        "また、各ワインには0から10の品質スコアが付与さています。11種類の特徴量を元にワインの品質を高品質（ワインのqualityが6以上）、低品質（ワインのqualityが6未満）の2値にして予測する2クラス分類問題を考えます。"
      ],
      "metadata": {
        "id": "1QaKdCcPZAl4"
      }
    },
    {
      "cell_type": "code",
      "source": [
        "df = pd.read_csv(\"winequality-red.csv\", sep=\";\")\n",
        "df.head()"
      ],
      "metadata": {
        "id": "pDEBvSLDZEuL"
      },
      "execution_count": null,
      "outputs": []
    },
    {
      "cell_type": "code",
      "source": [
        "# 特徴量\n",
        "X=df[ ['fixed acidity','volatile acidity','citric acid','residual sugar','chlorides','free sulfur dioxide', 'total sulfur dioxide', 'density', 'pH', 'sulphates','alcohol']].values\n",
        "\n",
        "# 正解ラベルを1（高品質：ワインのqualityが6以上）か0（低品質：ワインのqualityが6未満）とする\n",
        "y=df['quality'].values\n",
        "y = (y>=6).astype(np.int) \n",
        "print(np.sum(y==1, axis=0)) # 高品質ワインデータの数\n",
        "print(np.sum(y==0, axis=0)) # 低品質ワインデータの数"
      ],
      "metadata": {
        "id": "RVkbRkWrZJvL"
      },
      "execution_count": null,
      "outputs": []
    },
    {
      "cell_type": "code",
      "source": [
        "# 訓練データとテストデータに分割\n",
        "X_train, X_test, y_train, y_test = train_test_split(X, y, test_size=0.2, random_state=8, stratify=y) "
      ],
      "metadata": {
        "id": "7kfPQe-wZRID"
      },
      "execution_count": null,
      "outputs": []
    },
    {
      "cell_type": "markdown",
      "source": [
        "まず、すべての特徴量を使ってロジスティック回帰によりワイン品質の分類をしてみます\n",
        "\n",
        "[LogisticRegression](https://scikit-learn.org/stable/modules/generated/sklearn.linear_model.LogisticRegression.html)"
      ],
      "metadata": {
        "id": "eFNOZ6h8ZccT"
      }
    },
    {
      "cell_type": "code",
      "source": [
        "# 標準化\n",
        "sc = StandardScaler()\n",
        "sc.fit(X_train)\n",
        "norm_X_train =  sc.transform(X_train)\n",
        "norm_X_test =  sc.transform(X_test)\n",
        "\n",
        "# ロジスティック回帰モデル\n",
        "lr=LogisticRegression(solver='liblinear',  multi_class='auto') \n",
        "\n",
        "lr.fit(norm_X_train, y_train)    \n",
        "y_pred = lr.predict(norm_X_test)\n",
        "\n",
        "print(confusion_matrix(y_test, y_pred)) # 混同行列\n",
        "print(accuracy_score(y_test, y_pred)) # accuracy\n",
        "print(precision_score(y_test, y_pred)) # precision\n",
        "print(recall_score(y_test, y_pred)) # recall\n",
        "print(f1_score(y_test, y_pred))  # f値\n",
        "\n",
        "# 特徴量ごとのパラメータ重み\n",
        "pd.DataFrame(lr.coef_, index=['weight'], columns=df.drop(\"quality\", axis=1).columns.values)"
      ],
      "metadata": {
        "id": "i1KPHG1dZVa8"
      },
      "execution_count": null,
      "outputs": []
    },
    {
      "cell_type": "markdown",
      "source": [
        "## Q1\n",
        "先のモデルについて、訓練データを用いた**5分割**交差検証により**F値**を評価指標として最適な正則化項の係数を決定する以下の`model_selection1`関数を作成してください。`model_selection1`関数は訓練データの入力、訓練データの出力をそれぞれ引数に受け取り、交差検証に基づいてハイパーパラメータ`C`の最適な値（`C`の値の逆数が正則化項の係数）を返します。\n",
        "\n",
        "- `C`は、 `0.01`, `0.1`, `1`, `10`, `100`のいずれかとします。"
      ],
      "metadata": {
        "id": "H4Ik20jeZs45"
      }
    },
    {
      "cell_type": "code",
      "source": [
        "def model_selection1(X_train, y_train):\n",
        "    pipe = make_pipeline(StandardScaler(), LogisticRegression(solver='liblinear', multi_class='auto'))\n",
        "    param_grid = {'logisticregression__C': [0.01, 0.1, 1, 10, 100]}\n",
        "    grid = GridSearchCV(..., param_grid=..., scoring=\"...\", cv=...)\n",
        "    grid.fit(..., ...)\n",
        "    return grid.best_params_['logisticregression__C'], grid.best_score_"
      ],
      "metadata": {
        "id": "C6Nm3vWBZiiy",
        "exercise_id": "q1",
        "inlinetests": {
          "InlineTest_1": "\nassert 'model_selection1' in globals(), f\"Have you defined the function 'model_selection1'?\"\nassert str(model_selection1.__class__) == \"<class 'function'>\", f\"Have you defined a function 'model_selection1'? Found a {model_selection1.__class__} instead\"\ntry:\n    cv_results = model_selection1(X_train, y_train)\n    assert cv_results[0] == 10, f\"Your function 'model_selection1' returns {model_selection1(X_train, y_train)}, while the expected (10, 0.7614...)\"\nexcept AssertionError as e:\n    raise e\nexcept Exception as e:\n    assert False, f\"Your function 'model_selection1' does not accept 'X_train, y_train' and raises an exception: {e}. Please try to pass 'X_train, y_train' to your function.\""
        }
      },
      "execution_count": null,
      "outputs": []
    },
    {
      "cell_type": "markdown",
      "source": [
        "関数が完成したら以下のセルを実行して動作を確認してください。交差検証の結果、最適な`C`の値は10、その時のF値は0.7614...となります。"
      ],
      "metadata": {
        "id": "skAH21aYkWTU"
      }
    },
    {
      "cell_type": "code",
      "source": [
        "model_selection1(X_train, y_train)"
      ],
      "metadata": {
        "id": "4RGWUy8Kd0zc"
      },
      "execution_count": null,
      "outputs": []
    },
    {
      "cell_type": "markdown",
      "source": [
        "## Q2\n",
        "Q1のモデルについて、さらに多項式を用いた特徴量生成によりモデルを複雑化することを考えます。訓練データを用いた**5分割**交差検証により**F値**を評価指標として最適な正則化項の係数と多項式の次数の組み合わせ決定する以下の`model_selection2`関数を作成してください。`model_selection2`関数は訓練データの入力、訓練データの出力をそれぞれ引数に受け取り、交差検証に基づいてハイパーパラメータ`C`と次数`degree`の最適な値を返します。\n",
        "\n",
        "- `C`は、 `0.01`, `0.1`, `1`, `10`, `100`のいずれかとします。\n",
        "- 多項式の次数`degree`は、`1`, `2`, `3`のいずれかとします。\n"
      ],
      "metadata": {
        "id": "eezRUlv8mO3p"
      }
    },
    {
      "cell_type": "code",
      "source": [
        "def model_selection2(X_train, y_train):\n",
        "    pipe = make_pipeline(PolynomialFeatures(), StandardScaler(), LogisticRegression(solver='liblinear', multi_class='auto'))\n",
        "    param_grid = {'logisticregression__C': ..., 'polynomialfeatures__degree': ...}\n",
        "    grid = GridSearchCV(..., param_grid=..., scoring=\"...\", cv=...)\n",
        "    grid.fit(..., ...)\n",
        "    return grid.best_params_['logisticregression__C'], grid.best_params_['polynomialfeatures__degree'], grid.best_score_"
      ],
      "metadata": {
        "id": "s53vGvvam2Q1",
        "exercise_id": "q2",
        "inlinetests": {
          "InlineTest_2": "\nassert 'model_selection2' in globals(), f\"Have you defined the function 'model_selection2'?\"\nassert str(model_selection2.__class__) == \"<class 'function'>\", f\"Have you defined a function 'model_selection2'? Found a {model_selection1.__class__} instead\"\ntry:\n    cv_results = model_selection2(X_train, y_train)\n    assert cv_results[0] == 0.1, f\"Your function 'model_selection1' returns {model_selection2(X_train, y_train)}, while the expected (0.1, 3, 0.7664...)\"\n    assert cv_results[1] == 3, f\"Your function 'model_selection1' returns {model_selection2(X_train, y_train)}, while the expected (0.1, 3, 0.7664...)\"\nexcept AssertionError as e:\n    raise e\nexcept Exception as e:\n    assert False, f\"Your function 'model_selection2' does not accept 'X_train, y_train' and raises an exception: {e}. Please try to pass 'X_train, y_train' to your function.\""
        }
      },
      "execution_count": null,
      "outputs": []
    },
    {
      "cell_type": "markdown",
      "source": [
        "関数が完成したら以下のセルを実行して動作を確認してください（少し時間がかかります）。交差検証の結果、最適な`C`の値は0.1、`degree`の値は3、その時のF値は0.7664...となります。"
      ],
      "metadata": {
        "id": "PVUHpw6_n3g7"
      }
    },
    {
      "cell_type": "code",
      "source": [
        "optimal_C, optimal_degree, valid_f1 = model_selection2(X_train, y_train)\n",
        "print(optimal_C, optimal_degree, valid_f1)"
      ],
      "metadata": {
        "id": "YxbHNmLTn423"
      },
      "execution_count": null,
      "outputs": []
    },
    {
      "cell_type": "markdown",
      "source": [
        "Q2の交差検証で決定した正則化項の係数と多項式の次数により訓練データからロジスティック回帰モデルを学習し、テストデータで評価を行ってみます。モデル選択をする前と比べた予測精度の変化を確認してください。"
      ],
      "metadata": {
        "id": "L-18GnIIqQJX"
      }
    },
    {
      "cell_type": "code",
      "source": [
        "pipe = make_pipeline(PolynomialFeatures(degree=optimal_degree), StandardScaler(), LogisticRegression(solver='liblinear',  multi_class='auto', C=optimal_C))\n",
        "pipe.fit(X_train,y_train)\n",
        "y_pred = pipe.predict(X_test)\n",
        "\n",
        "print(confusion_matrix(y_test, y_pred)) # 混同行列\n",
        "print(accuracy_score(y_test, y_pred)) # accuracy\n",
        "print(precision_score(y_test, y_pred)) # precision\n",
        "print(recall_score(y_test, y_pred)) # recall\n",
        "print(f1_score(y_test, y_pred))  # f値"
      ],
      "metadata": {
        "id": "F24Ww2PJwdLN"
      },
      "execution_count": null,
      "outputs": []
    },
    {
      "cell_type": "markdown",
      "source": [
        "## Q3\n",
        "上記のロジスティック回帰モデルによるワイン品質の分類問題について、独自に特徴量の前処理、変換、選択、作成などを行い、その時のテストデータの精度を確認してください。"
      ],
      "metadata": {
        "id": "1YYiPufUrrur"
      }
    },
    {
      "cell_type": "code",
      "source": [
        "X=df[ ['fixed acidity','volatile acidity','citric acid','residual sugar','chlorides','free sulfur dioxide', 'total sulfur dioxide', 'density', 'pH', 'sulphates','alcohol']].values\n",
        "y=df['quality'].values\n",
        "y = (y>=6).astype(np.int)\n",
        "X_train, X_test, y_train, y_test = train_test_split(X, y, test_size=0.2, random_state=8, stratify=y)\n",
        "\n",
        "...\n",
        "X_train = # your own X_train here \n",
        "X_test = # your own X_test here\n",
        "\n",
        "lr = LogisticRegression(...) \n",
        "lr.fit(X_train, y_train)     \n",
        "y_pred = lr.predict(X_test)\n",
        "\n",
        "print(confusion_matrix(y_test, y_pred)) # 混同行列\n",
        "print(accuracy_score(y_test, y_pred)) # accuracy\n",
        "print(precision_score(y_test, y_pred)) # precision\n",
        "print(recall_score(y_test, y_pred)) # recall\n",
        "print(f1_score(y_test, y_pred))  # f値"
      ],
      "metadata": {
        "id": "bE1sjIegrp2r"
      },
      "execution_count": null,
      "outputs": []
    },
    {
      "cell_type": "markdown",
      "source": [
        "## コードのテスト"
      ],
      "metadata": {
        "id": "FRJi1O44aOm_"
      }
    },
    {
      "cell_type": "code",
      "source": [
        "## コードのテストの前にこのセルを実行してください\n",
        "!pip install prog_edu_assistant_tools\n",
        "import re\n",
        "import sys\n",
        "import jinja2\n",
        "from IPython.core import display\n",
        "from google.colab import _message as google_message\n",
        "from prog_edu_assistant_tools.magics import report, autotest, CaptureOutput\n",
        "from prog_edu_assistant_tools.check import Check"
      ],
      "metadata": {
        "id": "95pH5O5LaSq7"
      },
      "execution_count": null,
      "outputs": []
    },
    {
      "cell_type": "markdown",
      "source": [
        "## Q1"
      ],
      "metadata": {
        "id": "opnewwwYacFj"
      }
    },
    {
      "cell_type": "code",
      "source": [
        "# Run this cell to check your solution.\n",
        "# If you get an error 'Check not defined', make sure you have run all preceding\n",
        "# cells once (Runtime -> Run before)\n",
        "X=df[ ['fixed acidity','volatile acidity','citric acid','residual sugar','chlorides','free sulfur dioxide', 'total sulfur dioxide', 'density', 'pH', 'sulphates','alcohol']].values\n",
        "y=df['quality'].values\n",
        "y = (y>=6).astype(np.int)\n",
        "X_train, X_test, y_train, y_test = train_test_split(X, y, test_size=0.2, random_state=8, stratify=y) \n",
        "Check('q1')"
      ],
      "metadata": {
        "id": "bQU6fKfTafuh"
      },
      "execution_count": null,
      "outputs": []
    },
    {
      "cell_type": "markdown",
      "source": [
        "## Q2\n",
        "少し時間がかかります"
      ],
      "metadata": {
        "id": "GAiAArQdaiXP"
      }
    },
    {
      "cell_type": "code",
      "source": [
        "# Run this cell to check your solution.\n",
        "# If you get an error 'Check not defined', make sure you have run all preceding\n",
        "# cells once (Runtime -> Run before)\n",
        "X=df[ ['fixed acidity','volatile acidity','citric acid','residual sugar','chlorides','free sulfur dioxide', 'total sulfur dioxide', 'density', 'pH', 'sulphates','alcohol']].values\n",
        "y=df['quality'].values\n",
        "y = (y>=6).astype(np.int)\n",
        "X_train, X_test, y_train, y_test = train_test_split(X, y, test_size=0.2, random_state=8, stratify=y)\n",
        "Check('q2')"
      ],
      "metadata": {
        "id": "vxHMyApdajIJ"
      },
      "execution_count": null,
      "outputs": []
    },
    {
      "cell_type": "code",
      "source": [
        ""
      ],
      "metadata": {
        "id": "zc8GYiTWvdw2"
      },
      "execution_count": null,
      "outputs": []
    }
  ]
}