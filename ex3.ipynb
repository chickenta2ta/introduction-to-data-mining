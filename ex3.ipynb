{
  "nbformat": 4,
  "nbformat_minor": 0,
  "metadata": {
    "colab": {
      "name": "ex3.ipynb",
      "provenance": [],
      "collapsed_sections": []
    },
    "kernelspec": {
      "name": "python3",
      "display_name": "Python 3"
    },
    "language_info": {
      "name": "python"
    }
  },
  "cells": [
    {
      "cell_type": "markdown",
      "metadata": {
        "id": "k4Wkvd4votda"
      },
      "source": [
        "# 課題3 データの前処理と可視化\n",
        "\n",
        "配点\n",
        "- Q1, 1P\n",
        "- Q2, 1P\n",
        "- Q3, 2P\n",
        "- Q4, 3P\n",
        "- Q5, 3P\n"
      ]
    },
    {
      "cell_type": "code",
      "metadata": {
        "id": "zE9BHJEnosaM"
      },
      "source": [
        "# 必要なモジュールの読み込み\n",
        "import pandas as pd\n",
        "import numpy as np\n",
        "import matplotlib.pyplot as plt\n",
        "%matplotlib inline"
      ],
      "execution_count": 50,
      "outputs": []
    },
    {
      "cell_type": "markdown",
      "metadata": {
        "id": "up9EkMIBo52Z"
      },
      "source": [
        "## Q1 欠損値の処理\n",
        "### 欠損値の検出\n",
        "pandasのシリーズやデータフレームではデータに欠損値（例えば数値データ内の空値）が含まれる場合、欠損値が`NaN`となります。以下では欠損値（空値）を含む得点データのcsvファイル, 'score_missing.csv', を読み込み、データフレーム`score`を作成します。"
      ]
    },
    {
      "cell_type": "code",
      "metadata": {
        "id": "jAtn4CQTpCqH",
        "colab": {
          "base_uri": "https://localhost:8080/"
        },
        "outputId": "a7b31412-0322-447f-c3c3-0a4350ce4e12"
      },
      "source": [
        "# Colaboratoryでは以下を実行して必要なファイルをダウンロード\n",
        "!wget https://raw.githubusercontent.com/UTDataMining/2020A/master/ex3/score_missing.csv"
      ],
      "execution_count": 51,
      "outputs": [
        {
          "output_type": "stream",
          "name": "stdout",
          "text": [
            "--2021-10-31 20:55:26--  https://raw.githubusercontent.com/UTDataMining/2020A/master/ex3/score_missing.csv\n",
            "Resolving raw.githubusercontent.com (raw.githubusercontent.com)... 185.199.108.133, 185.199.111.133, 185.199.109.133, ...\n",
            "Connecting to raw.githubusercontent.com (raw.githubusercontent.com)|185.199.108.133|:443... connected.\n",
            "HTTP request sent, awaiting response... 200 OK\n",
            "Length: 141 [text/plain]\n",
            "Saving to: ‘score_missing.csv’\n",
            "\n",
            "\rscore_missing.csv     0%[                    ]       0  --.-KB/s               \rscore_missing.csv   100%[===================>]     141  --.-KB/s    in 0s      \n",
            "\n",
            "2021-10-31 20:55:26 (10.5 MB/s) - ‘score_missing.csv’ saved [141/141]\n",
            "\n"
          ]
        }
      ]
    },
    {
      "cell_type": "code",
      "metadata": {
        "id": "bwXktMcWo6Vn",
        "colab": {
          "base_uri": "https://localhost:8080/",
          "height": 363
        },
        "outputId": "fa1f502b-7bf4-427c-ad46-6b41e802af58"
      },
      "source": [
        "score = pd.read_csv('score_missing.csv')\n",
        "score"
      ],
      "execution_count": 52,
      "outputs": [
        {
          "output_type": "execute_result",
          "data": {
            "text/html": [
              "<div>\n",
              "<style scoped>\n",
              "    .dataframe tbody tr th:only-of-type {\n",
              "        vertical-align: middle;\n",
              "    }\n",
              "\n",
              "    .dataframe tbody tr th {\n",
              "        vertical-align: top;\n",
              "    }\n",
              "\n",
              "    .dataframe thead th {\n",
              "        text-align: right;\n",
              "    }\n",
              "</style>\n",
              "<table border=\"1\" class=\"dataframe\">\n",
              "  <thead>\n",
              "    <tr style=\"text-align: right;\">\n",
              "      <th></th>\n",
              "      <th>kokugo</th>\n",
              "      <th>shakai</th>\n",
              "      <th>sugaku</th>\n",
              "      <th>rika</th>\n",
              "    </tr>\n",
              "  </thead>\n",
              "  <tbody>\n",
              "    <tr>\n",
              "      <th>0</th>\n",
              "      <td>30.0</td>\n",
              "      <td>43.0</td>\n",
              "      <td>51</td>\n",
              "      <td>NaN</td>\n",
              "    </tr>\n",
              "    <tr>\n",
              "      <th>1</th>\n",
              "      <td>39.0</td>\n",
              "      <td>21.0</td>\n",
              "      <td>50</td>\n",
              "      <td>56.0</td>\n",
              "    </tr>\n",
              "    <tr>\n",
              "      <th>2</th>\n",
              "      <td>NaN</td>\n",
              "      <td>NaN</td>\n",
              "      <td>23</td>\n",
              "      <td>57.0</td>\n",
              "    </tr>\n",
              "    <tr>\n",
              "      <th>3</th>\n",
              "      <td>29.0</td>\n",
              "      <td>87.0</td>\n",
              "      <td>77</td>\n",
              "      <td>100.0</td>\n",
              "    </tr>\n",
              "    <tr>\n",
              "      <th>4</th>\n",
              "      <td>70.0</td>\n",
              "      <td>71.0</td>\n",
              "      <td>78</td>\n",
              "      <td>67.0</td>\n",
              "    </tr>\n",
              "    <tr>\n",
              "      <th>5</th>\n",
              "      <td>66.0</td>\n",
              "      <td>NaN</td>\n",
              "      <td>53</td>\n",
              "      <td>NaN</td>\n",
              "    </tr>\n",
              "    <tr>\n",
              "      <th>6</th>\n",
              "      <td>29.0</td>\n",
              "      <td>26.0</td>\n",
              "      <td>44</td>\n",
              "      <td>52.0</td>\n",
              "    </tr>\n",
              "    <tr>\n",
              "      <th>7</th>\n",
              "      <td>NaN</td>\n",
              "      <td>54.0</td>\n",
              "      <td>37</td>\n",
              "      <td>59.0</td>\n",
              "    </tr>\n",
              "    <tr>\n",
              "      <th>8</th>\n",
              "      <td>45.0</td>\n",
              "      <td>NaN</td>\n",
              "      <td>7</td>\n",
              "      <td>44.0</td>\n",
              "    </tr>\n",
              "    <tr>\n",
              "      <th>9</th>\n",
              "      <td>68.0</td>\n",
              "      <td>41.0</td>\n",
              "      <td>29</td>\n",
              "      <td>81.0</td>\n",
              "    </tr>\n",
              "  </tbody>\n",
              "</table>\n",
              "</div>"
            ],
            "text/plain": [
              "   kokugo  shakai  sugaku   rika\n",
              "0    30.0    43.0      51    NaN\n",
              "1    39.0    21.0      50   56.0\n",
              "2     NaN     NaN      23   57.0\n",
              "3    29.0    87.0      77  100.0\n",
              "4    70.0    71.0      78   67.0\n",
              "5    66.0     NaN      53    NaN\n",
              "6    29.0    26.0      44   52.0\n",
              "7     NaN    54.0      37   59.0\n",
              "8    45.0     NaN       7   44.0\n",
              "9    68.0    41.0      29   81.0"
            ]
          },
          "metadata": {},
          "execution_count": 52
        }
      ]
    },
    {
      "cell_type": "markdown",
      "metadata": {
        "id": "7buvx45_pJCo"
      },
      "source": [
        "データフレームに欠損値が含まれるかどうかはpandasの`isnull()`メソッドを使うと調べることができます。`isnull()`メソッドはデータフレームの各要素の値について、欠損値であれば`True`、欠損値でなければ`False`を要素としたデータフレームを返します。\n",
        "\n",
        "`isnull()`メソッドの詳細は以下を参照してください。\n",
        "\n",
        "[isnull()](https://pandas.pydata.org/pandas-docs/stable/reference/api/pandas.isnull.html)"
      ]
    },
    {
      "cell_type": "code",
      "metadata": {
        "id": "9DIg7B4KpJfH",
        "colab": {
          "base_uri": "https://localhost:8080/",
          "height": 363
        },
        "outputId": "4971217f-b2f6-45de-a20e-b21efea14a3b"
      },
      "source": [
        "score.isnull()"
      ],
      "execution_count": 53,
      "outputs": [
        {
          "output_type": "execute_result",
          "data": {
            "text/html": [
              "<div>\n",
              "<style scoped>\n",
              "    .dataframe tbody tr th:only-of-type {\n",
              "        vertical-align: middle;\n",
              "    }\n",
              "\n",
              "    .dataframe tbody tr th {\n",
              "        vertical-align: top;\n",
              "    }\n",
              "\n",
              "    .dataframe thead th {\n",
              "        text-align: right;\n",
              "    }\n",
              "</style>\n",
              "<table border=\"1\" class=\"dataframe\">\n",
              "  <thead>\n",
              "    <tr style=\"text-align: right;\">\n",
              "      <th></th>\n",
              "      <th>kokugo</th>\n",
              "      <th>shakai</th>\n",
              "      <th>sugaku</th>\n",
              "      <th>rika</th>\n",
              "    </tr>\n",
              "  </thead>\n",
              "  <tbody>\n",
              "    <tr>\n",
              "      <th>0</th>\n",
              "      <td>False</td>\n",
              "      <td>False</td>\n",
              "      <td>False</td>\n",
              "      <td>True</td>\n",
              "    </tr>\n",
              "    <tr>\n",
              "      <th>1</th>\n",
              "      <td>False</td>\n",
              "      <td>False</td>\n",
              "      <td>False</td>\n",
              "      <td>False</td>\n",
              "    </tr>\n",
              "    <tr>\n",
              "      <th>2</th>\n",
              "      <td>True</td>\n",
              "      <td>True</td>\n",
              "      <td>False</td>\n",
              "      <td>False</td>\n",
              "    </tr>\n",
              "    <tr>\n",
              "      <th>3</th>\n",
              "      <td>False</td>\n",
              "      <td>False</td>\n",
              "      <td>False</td>\n",
              "      <td>False</td>\n",
              "    </tr>\n",
              "    <tr>\n",
              "      <th>4</th>\n",
              "      <td>False</td>\n",
              "      <td>False</td>\n",
              "      <td>False</td>\n",
              "      <td>False</td>\n",
              "    </tr>\n",
              "    <tr>\n",
              "      <th>5</th>\n",
              "      <td>False</td>\n",
              "      <td>True</td>\n",
              "      <td>False</td>\n",
              "      <td>True</td>\n",
              "    </tr>\n",
              "    <tr>\n",
              "      <th>6</th>\n",
              "      <td>False</td>\n",
              "      <td>False</td>\n",
              "      <td>False</td>\n",
              "      <td>False</td>\n",
              "    </tr>\n",
              "    <tr>\n",
              "      <th>7</th>\n",
              "      <td>True</td>\n",
              "      <td>False</td>\n",
              "      <td>False</td>\n",
              "      <td>False</td>\n",
              "    </tr>\n",
              "    <tr>\n",
              "      <th>8</th>\n",
              "      <td>False</td>\n",
              "      <td>True</td>\n",
              "      <td>False</td>\n",
              "      <td>False</td>\n",
              "    </tr>\n",
              "    <tr>\n",
              "      <th>9</th>\n",
              "      <td>False</td>\n",
              "      <td>False</td>\n",
              "      <td>False</td>\n",
              "      <td>False</td>\n",
              "    </tr>\n",
              "  </tbody>\n",
              "</table>\n",
              "</div>"
            ],
            "text/plain": [
              "   kokugo  shakai  sugaku   rika\n",
              "0   False   False   False   True\n",
              "1   False   False   False  False\n",
              "2    True    True   False  False\n",
              "3   False   False   False  False\n",
              "4   False   False   False  False\n",
              "5   False    True   False   True\n",
              "6   False   False   False  False\n",
              "7    True   False   False  False\n",
              "8   False    True   False  False\n",
              "9   False   False   False  False"
            ]
          },
          "metadata": {},
          "execution_count": 53
        }
      ]
    },
    {
      "cell_type": "markdown",
      "metadata": {
        "id": "jhfr8w4npUE7"
      },
      "source": [
        "`isnull()`メソッドで返された上記のデータフレームの`any()`メソッド使うと、データフレームにおいて欠損値を含む行または列を調べることができます。以下では、列ごとに欠損値を含むかどうかを示すシリーズオブジェクトを返します。"
      ]
    },
    {
      "cell_type": "code",
      "metadata": {
        "id": "KazX6mBJpSSP",
        "colab": {
          "base_uri": "https://localhost:8080/"
        },
        "outputId": "5448f5f0-d806-4d32-e0d7-4b7a3eba20c9"
      },
      "source": [
        "# 列ごとに欠損値があるか調べる\n",
        "score.isnull().any()"
      ],
      "execution_count": 54,
      "outputs": [
        {
          "output_type": "execute_result",
          "data": {
            "text/plain": [
              "kokugo     True\n",
              "shakai     True\n",
              "sugaku    False\n",
              "rika       True\n",
              "dtype: bool"
            ]
          },
          "metadata": {},
          "execution_count": 54
        }
      ]
    },
    {
      "cell_type": "markdown",
      "metadata": {
        "id": "vZPmCuhUpcPX"
      },
      "source": [
        "上記で`any()メソッド`の引数`axis`を1とすると、行ごとに欠損値を含むかどうかを示すシリーズオブジェクトを返します。"
      ]
    },
    {
      "cell_type": "code",
      "metadata": {
        "id": "9ygZnBzepbDX",
        "colab": {
          "base_uri": "https://localhost:8080/"
        },
        "outputId": "a4c031f8-c477-4162-c479-1b53106367af"
      },
      "source": [
        "# 行ごとに欠損値があるか調べる\n",
        "score.isnull().any(axis=1)"
      ],
      "execution_count": 55,
      "outputs": [
        {
          "output_type": "execute_result",
          "data": {
            "text/plain": [
              "0     True\n",
              "1    False\n",
              "2     True\n",
              "3    False\n",
              "4    False\n",
              "5     True\n",
              "6    False\n",
              "7     True\n",
              "8     True\n",
              "9    False\n",
              "dtype: bool"
            ]
          },
          "metadata": {},
          "execution_count": 55
        }
      ]
    },
    {
      "cell_type": "markdown",
      "metadata": {
        "id": "9Xrcrkbnpk_D"
      },
      "source": [
        "上記のシリーズオブジェクトを以下のようデータフレーム抽出の条件として用いると、元のデータフレームから欠損値を含む行または列からなるデータフレームを抽出できます。"
      ]
    },
    {
      "cell_type": "code",
      "metadata": {
        "id": "HzJyQBuBpgOv",
        "colab": {
          "base_uri": "https://localhost:8080/",
          "height": 206
        },
        "outputId": "ab740547-a93b-4f79-8630-31073f303c25"
      },
      "source": [
        "# データフレームから欠損値を含む行を抽出\n",
        "score[score.isnull().any(axis=1)]"
      ],
      "execution_count": 56,
      "outputs": [
        {
          "output_type": "execute_result",
          "data": {
            "text/html": [
              "<div>\n",
              "<style scoped>\n",
              "    .dataframe tbody tr th:only-of-type {\n",
              "        vertical-align: middle;\n",
              "    }\n",
              "\n",
              "    .dataframe tbody tr th {\n",
              "        vertical-align: top;\n",
              "    }\n",
              "\n",
              "    .dataframe thead th {\n",
              "        text-align: right;\n",
              "    }\n",
              "</style>\n",
              "<table border=\"1\" class=\"dataframe\">\n",
              "  <thead>\n",
              "    <tr style=\"text-align: right;\">\n",
              "      <th></th>\n",
              "      <th>kokugo</th>\n",
              "      <th>shakai</th>\n",
              "      <th>sugaku</th>\n",
              "      <th>rika</th>\n",
              "    </tr>\n",
              "  </thead>\n",
              "  <tbody>\n",
              "    <tr>\n",
              "      <th>0</th>\n",
              "      <td>30.0</td>\n",
              "      <td>43.0</td>\n",
              "      <td>51</td>\n",
              "      <td>NaN</td>\n",
              "    </tr>\n",
              "    <tr>\n",
              "      <th>2</th>\n",
              "      <td>NaN</td>\n",
              "      <td>NaN</td>\n",
              "      <td>23</td>\n",
              "      <td>57.0</td>\n",
              "    </tr>\n",
              "    <tr>\n",
              "      <th>5</th>\n",
              "      <td>66.0</td>\n",
              "      <td>NaN</td>\n",
              "      <td>53</td>\n",
              "      <td>NaN</td>\n",
              "    </tr>\n",
              "    <tr>\n",
              "      <th>7</th>\n",
              "      <td>NaN</td>\n",
              "      <td>54.0</td>\n",
              "      <td>37</td>\n",
              "      <td>59.0</td>\n",
              "    </tr>\n",
              "    <tr>\n",
              "      <th>8</th>\n",
              "      <td>45.0</td>\n",
              "      <td>NaN</td>\n",
              "      <td>7</td>\n",
              "      <td>44.0</td>\n",
              "    </tr>\n",
              "  </tbody>\n",
              "</table>\n",
              "</div>"
            ],
            "text/plain": [
              "   kokugo  shakai  sugaku  rika\n",
              "0    30.0    43.0      51   NaN\n",
              "2     NaN     NaN      23  57.0\n",
              "5    66.0     NaN      53   NaN\n",
              "7     NaN    54.0      37  59.0\n",
              "8    45.0     NaN       7  44.0"
            ]
          },
          "metadata": {},
          "execution_count": 56
        }
      ]
    },
    {
      "cell_type": "code",
      "metadata": {
        "id": "ck0eVmg1pkHn",
        "colab": {
          "base_uri": "https://localhost:8080/",
          "height": 363
        },
        "outputId": "8e89a175-7a67-4acc-8c04-aacc94e7b0ab"
      },
      "source": [
        "# データフレームから欠損値を含む列を抽出\n",
        "score.loc[:, score.isnull().any()]"
      ],
      "execution_count": 57,
      "outputs": [
        {
          "output_type": "execute_result",
          "data": {
            "text/html": [
              "<div>\n",
              "<style scoped>\n",
              "    .dataframe tbody tr th:only-of-type {\n",
              "        vertical-align: middle;\n",
              "    }\n",
              "\n",
              "    .dataframe tbody tr th {\n",
              "        vertical-align: top;\n",
              "    }\n",
              "\n",
              "    .dataframe thead th {\n",
              "        text-align: right;\n",
              "    }\n",
              "</style>\n",
              "<table border=\"1\" class=\"dataframe\">\n",
              "  <thead>\n",
              "    <tr style=\"text-align: right;\">\n",
              "      <th></th>\n",
              "      <th>kokugo</th>\n",
              "      <th>shakai</th>\n",
              "      <th>rika</th>\n",
              "    </tr>\n",
              "  </thead>\n",
              "  <tbody>\n",
              "    <tr>\n",
              "      <th>0</th>\n",
              "      <td>30.0</td>\n",
              "      <td>43.0</td>\n",
              "      <td>NaN</td>\n",
              "    </tr>\n",
              "    <tr>\n",
              "      <th>1</th>\n",
              "      <td>39.0</td>\n",
              "      <td>21.0</td>\n",
              "      <td>56.0</td>\n",
              "    </tr>\n",
              "    <tr>\n",
              "      <th>2</th>\n",
              "      <td>NaN</td>\n",
              "      <td>NaN</td>\n",
              "      <td>57.0</td>\n",
              "    </tr>\n",
              "    <tr>\n",
              "      <th>3</th>\n",
              "      <td>29.0</td>\n",
              "      <td>87.0</td>\n",
              "      <td>100.0</td>\n",
              "    </tr>\n",
              "    <tr>\n",
              "      <th>4</th>\n",
              "      <td>70.0</td>\n",
              "      <td>71.0</td>\n",
              "      <td>67.0</td>\n",
              "    </tr>\n",
              "    <tr>\n",
              "      <th>5</th>\n",
              "      <td>66.0</td>\n",
              "      <td>NaN</td>\n",
              "      <td>NaN</td>\n",
              "    </tr>\n",
              "    <tr>\n",
              "      <th>6</th>\n",
              "      <td>29.0</td>\n",
              "      <td>26.0</td>\n",
              "      <td>52.0</td>\n",
              "    </tr>\n",
              "    <tr>\n",
              "      <th>7</th>\n",
              "      <td>NaN</td>\n",
              "      <td>54.0</td>\n",
              "      <td>59.0</td>\n",
              "    </tr>\n",
              "    <tr>\n",
              "      <th>8</th>\n",
              "      <td>45.0</td>\n",
              "      <td>NaN</td>\n",
              "      <td>44.0</td>\n",
              "    </tr>\n",
              "    <tr>\n",
              "      <th>9</th>\n",
              "      <td>68.0</td>\n",
              "      <td>41.0</td>\n",
              "      <td>81.0</td>\n",
              "    </tr>\n",
              "  </tbody>\n",
              "</table>\n",
              "</div>"
            ],
            "text/plain": [
              "   kokugo  shakai   rika\n",
              "0    30.0    43.0    NaN\n",
              "1    39.0    21.0   56.0\n",
              "2     NaN     NaN   57.0\n",
              "3    29.0    87.0  100.0\n",
              "4    70.0    71.0   67.0\n",
              "5    66.0     NaN    NaN\n",
              "6    29.0    26.0   52.0\n",
              "7     NaN    54.0   59.0\n",
              "8    45.0     NaN   44.0\n",
              "9    68.0    41.0   81.0"
            ]
          },
          "metadata": {},
          "execution_count": 57
        }
      ]
    },
    {
      "cell_type": "markdown",
      "metadata": {
        "id": "kHU5A_AcpuAr"
      },
      "source": [
        "### 欠損値の削除\n",
        "pandasの`dropna()`メソッドを使うと欠損値を含む行を削除したデータフレーム を返すことができます。`dropna()`メソッドでは、この他にもさまざまな方法で欠損値を削除することができます。詳細は以下を参照してください。\n",
        "\n",
        "[dropna()](https://pandas.pydata.org/pandas-docs/stable/reference/api/pandas.DataFrame.dropna.html)"
      ]
    },
    {
      "cell_type": "code",
      "metadata": {
        "id": "maLPAIFVpp2H",
        "colab": {
          "base_uri": "https://localhost:8080/",
          "height": 206
        },
        "outputId": "eea61ed7-7aca-449c-e86b-34380a5b8a9e"
      },
      "source": [
        "score.dropna()"
      ],
      "execution_count": 58,
      "outputs": [
        {
          "output_type": "execute_result",
          "data": {
            "text/html": [
              "<div>\n",
              "<style scoped>\n",
              "    .dataframe tbody tr th:only-of-type {\n",
              "        vertical-align: middle;\n",
              "    }\n",
              "\n",
              "    .dataframe tbody tr th {\n",
              "        vertical-align: top;\n",
              "    }\n",
              "\n",
              "    .dataframe thead th {\n",
              "        text-align: right;\n",
              "    }\n",
              "</style>\n",
              "<table border=\"1\" class=\"dataframe\">\n",
              "  <thead>\n",
              "    <tr style=\"text-align: right;\">\n",
              "      <th></th>\n",
              "      <th>kokugo</th>\n",
              "      <th>shakai</th>\n",
              "      <th>sugaku</th>\n",
              "      <th>rika</th>\n",
              "    </tr>\n",
              "  </thead>\n",
              "  <tbody>\n",
              "    <tr>\n",
              "      <th>1</th>\n",
              "      <td>39.0</td>\n",
              "      <td>21.0</td>\n",
              "      <td>50</td>\n",
              "      <td>56.0</td>\n",
              "    </tr>\n",
              "    <tr>\n",
              "      <th>3</th>\n",
              "      <td>29.0</td>\n",
              "      <td>87.0</td>\n",
              "      <td>77</td>\n",
              "      <td>100.0</td>\n",
              "    </tr>\n",
              "    <tr>\n",
              "      <th>4</th>\n",
              "      <td>70.0</td>\n",
              "      <td>71.0</td>\n",
              "      <td>78</td>\n",
              "      <td>67.0</td>\n",
              "    </tr>\n",
              "    <tr>\n",
              "      <th>6</th>\n",
              "      <td>29.0</td>\n",
              "      <td>26.0</td>\n",
              "      <td>44</td>\n",
              "      <td>52.0</td>\n",
              "    </tr>\n",
              "    <tr>\n",
              "      <th>9</th>\n",
              "      <td>68.0</td>\n",
              "      <td>41.0</td>\n",
              "      <td>29</td>\n",
              "      <td>81.0</td>\n",
              "    </tr>\n",
              "  </tbody>\n",
              "</table>\n",
              "</div>"
            ],
            "text/plain": [
              "   kokugo  shakai  sugaku   rika\n",
              "1    39.0    21.0      50   56.0\n",
              "3    29.0    87.0      77  100.0\n",
              "4    70.0    71.0      78   67.0\n",
              "6    29.0    26.0      44   52.0\n",
              "9    68.0    41.0      29   81.0"
            ]
          },
          "metadata": {},
          "execution_count": 58
        }
      ]
    },
    {
      "cell_type": "markdown",
      "metadata": {
        "id": "oPL16p1YqKq_"
      },
      "source": [
        "### 欠損値の補完\n",
        "pandasの`fillna()`メソッドを使うと欠損値を補完したデータフレーム を返すことができます。以下では、欠損値が含まれる列の欠損がない要素の値の平均値でその列にある欠損値を補完しています。`fillna()`メソッドでは、この他にもさまざまな方法で欠損値を補完することができます。詳細は以下を参照してください。\n",
        "\n",
        "[fillna()](https://pandas.pydata.org/pandas-docs/stable/reference/api/pandas.DataFrame.fillna.html)"
      ]
    },
    {
      "cell_type": "code",
      "metadata": {
        "id": "RMWHKkoDp2EH",
        "colab": {
          "base_uri": "https://localhost:8080/",
          "height": 363
        },
        "outputId": "dbd07021-4281-4f13-fbeb-09f07427adcc"
      },
      "source": [
        "score = pd.read_csv('score_missing.csv')\n",
        "score.fillna(score.mean())"
      ],
      "execution_count": 59,
      "outputs": [
        {
          "output_type": "execute_result",
          "data": {
            "text/html": [
              "<div>\n",
              "<style scoped>\n",
              "    .dataframe tbody tr th:only-of-type {\n",
              "        vertical-align: middle;\n",
              "    }\n",
              "\n",
              "    .dataframe tbody tr th {\n",
              "        vertical-align: top;\n",
              "    }\n",
              "\n",
              "    .dataframe thead th {\n",
              "        text-align: right;\n",
              "    }\n",
              "</style>\n",
              "<table border=\"1\" class=\"dataframe\">\n",
              "  <thead>\n",
              "    <tr style=\"text-align: right;\">\n",
              "      <th></th>\n",
              "      <th>kokugo</th>\n",
              "      <th>shakai</th>\n",
              "      <th>sugaku</th>\n",
              "      <th>rika</th>\n",
              "    </tr>\n",
              "  </thead>\n",
              "  <tbody>\n",
              "    <tr>\n",
              "      <th>0</th>\n",
              "      <td>30.0</td>\n",
              "      <td>43.0</td>\n",
              "      <td>51</td>\n",
              "      <td>64.5</td>\n",
              "    </tr>\n",
              "    <tr>\n",
              "      <th>1</th>\n",
              "      <td>39.0</td>\n",
              "      <td>21.0</td>\n",
              "      <td>50</td>\n",
              "      <td>56.0</td>\n",
              "    </tr>\n",
              "    <tr>\n",
              "      <th>2</th>\n",
              "      <td>47.0</td>\n",
              "      <td>49.0</td>\n",
              "      <td>23</td>\n",
              "      <td>57.0</td>\n",
              "    </tr>\n",
              "    <tr>\n",
              "      <th>3</th>\n",
              "      <td>29.0</td>\n",
              "      <td>87.0</td>\n",
              "      <td>77</td>\n",
              "      <td>100.0</td>\n",
              "    </tr>\n",
              "    <tr>\n",
              "      <th>4</th>\n",
              "      <td>70.0</td>\n",
              "      <td>71.0</td>\n",
              "      <td>78</td>\n",
              "      <td>67.0</td>\n",
              "    </tr>\n",
              "    <tr>\n",
              "      <th>5</th>\n",
              "      <td>66.0</td>\n",
              "      <td>49.0</td>\n",
              "      <td>53</td>\n",
              "      <td>64.5</td>\n",
              "    </tr>\n",
              "    <tr>\n",
              "      <th>6</th>\n",
              "      <td>29.0</td>\n",
              "      <td>26.0</td>\n",
              "      <td>44</td>\n",
              "      <td>52.0</td>\n",
              "    </tr>\n",
              "    <tr>\n",
              "      <th>7</th>\n",
              "      <td>47.0</td>\n",
              "      <td>54.0</td>\n",
              "      <td>37</td>\n",
              "      <td>59.0</td>\n",
              "    </tr>\n",
              "    <tr>\n",
              "      <th>8</th>\n",
              "      <td>45.0</td>\n",
              "      <td>49.0</td>\n",
              "      <td>7</td>\n",
              "      <td>44.0</td>\n",
              "    </tr>\n",
              "    <tr>\n",
              "      <th>9</th>\n",
              "      <td>68.0</td>\n",
              "      <td>41.0</td>\n",
              "      <td>29</td>\n",
              "      <td>81.0</td>\n",
              "    </tr>\n",
              "  </tbody>\n",
              "</table>\n",
              "</div>"
            ],
            "text/plain": [
              "   kokugo  shakai  sugaku   rika\n",
              "0    30.0    43.0      51   64.5\n",
              "1    39.0    21.0      50   56.0\n",
              "2    47.0    49.0      23   57.0\n",
              "3    29.0    87.0      77  100.0\n",
              "4    70.0    71.0      78   67.0\n",
              "5    66.0    49.0      53   64.5\n",
              "6    29.0    26.0      44   52.0\n",
              "7    47.0    54.0      37   59.0\n",
              "8    45.0    49.0       7   44.0\n",
              "9    68.0    41.0      29   81.0"
            ]
          },
          "metadata": {},
          "execution_count": 59
        }
      ]
    },
    {
      "cell_type": "markdown",
      "metadata": {
        "id": "5smU3EvNqgFY"
      },
      "source": [
        "## Q1\n",
        "欠損値（空値）を含む得点データのcsvファイル, 'score_missing.csv', を読み込み作成したデータフレームを受け取り、各列の欠損値をその列の欠損がない要素の値の中央値で補完したデータフレームを返す`fill_median()`関数を完成させてください。"
      ]
    },
    {
      "cell_type": "code",
      "metadata": {
        "id": "g2SCSpN_qjUt",
        "exercise_id": "q1",
        "inlinetests": {
          "InlineTest_1": "\ntry:\n  import pandas as pd\n  score = pd.read_csv('score_missing.csv')\n  assert 2013 == fill_median(score).sum().sum(), f\"'fill_median(score).sum().sum()' returns {fill_median(score).sum().sum()}, while the expected answer is {2013}\"\n  assert 42 == fill_median(score).loc[2,'kokugo'], f\"'fill_median(score).loc[2,'kokugo']' returns {fill_median(score).loc[2,'kokugo']}, while the expected answer is {42}\"\nexcept AssertionError as e:\n    raise e\nexcept Exception as e:\n    assert False, f\"Your function raises an exception: {e}.\""
        }
      },
      "source": [
        "def fill_median(df):\n",
        "  return df.fillna(df.median())"
      ],
      "execution_count": 60,
      "outputs": []
    },
    {
      "cell_type": "code",
      "metadata": {
        "id": "sYHimAexv55P",
        "colab": {
          "base_uri": "https://localhost:8080/",
          "height": 363
        },
        "outputId": "f63242c2-dc43-4560-8d68-bc188141f1c1"
      },
      "source": [
        "score = pd.read_csv('score_missing.csv') # csvファイル読み込み\n",
        "fill_median(score) # 欠損値補完されたデータフレームを表示"
      ],
      "execution_count": 61,
      "outputs": [
        {
          "output_type": "execute_result",
          "data": {
            "text/html": [
              "<div>\n",
              "<style scoped>\n",
              "    .dataframe tbody tr th:only-of-type {\n",
              "        vertical-align: middle;\n",
              "    }\n",
              "\n",
              "    .dataframe tbody tr th {\n",
              "        vertical-align: top;\n",
              "    }\n",
              "\n",
              "    .dataframe thead th {\n",
              "        text-align: right;\n",
              "    }\n",
              "</style>\n",
              "<table border=\"1\" class=\"dataframe\">\n",
              "  <thead>\n",
              "    <tr style=\"text-align: right;\">\n",
              "      <th></th>\n",
              "      <th>kokugo</th>\n",
              "      <th>shakai</th>\n",
              "      <th>sugaku</th>\n",
              "      <th>rika</th>\n",
              "    </tr>\n",
              "  </thead>\n",
              "  <tbody>\n",
              "    <tr>\n",
              "      <th>0</th>\n",
              "      <td>30.0</td>\n",
              "      <td>43.0</td>\n",
              "      <td>51</td>\n",
              "      <td>58.0</td>\n",
              "    </tr>\n",
              "    <tr>\n",
              "      <th>1</th>\n",
              "      <td>39.0</td>\n",
              "      <td>21.0</td>\n",
              "      <td>50</td>\n",
              "      <td>56.0</td>\n",
              "    </tr>\n",
              "    <tr>\n",
              "      <th>2</th>\n",
              "      <td>42.0</td>\n",
              "      <td>43.0</td>\n",
              "      <td>23</td>\n",
              "      <td>57.0</td>\n",
              "    </tr>\n",
              "    <tr>\n",
              "      <th>3</th>\n",
              "      <td>29.0</td>\n",
              "      <td>87.0</td>\n",
              "      <td>77</td>\n",
              "      <td>100.0</td>\n",
              "    </tr>\n",
              "    <tr>\n",
              "      <th>4</th>\n",
              "      <td>70.0</td>\n",
              "      <td>71.0</td>\n",
              "      <td>78</td>\n",
              "      <td>67.0</td>\n",
              "    </tr>\n",
              "    <tr>\n",
              "      <th>5</th>\n",
              "      <td>66.0</td>\n",
              "      <td>43.0</td>\n",
              "      <td>53</td>\n",
              "      <td>58.0</td>\n",
              "    </tr>\n",
              "    <tr>\n",
              "      <th>6</th>\n",
              "      <td>29.0</td>\n",
              "      <td>26.0</td>\n",
              "      <td>44</td>\n",
              "      <td>52.0</td>\n",
              "    </tr>\n",
              "    <tr>\n",
              "      <th>7</th>\n",
              "      <td>42.0</td>\n",
              "      <td>54.0</td>\n",
              "      <td>37</td>\n",
              "      <td>59.0</td>\n",
              "    </tr>\n",
              "    <tr>\n",
              "      <th>8</th>\n",
              "      <td>45.0</td>\n",
              "      <td>43.0</td>\n",
              "      <td>7</td>\n",
              "      <td>44.0</td>\n",
              "    </tr>\n",
              "    <tr>\n",
              "      <th>9</th>\n",
              "      <td>68.0</td>\n",
              "      <td>41.0</td>\n",
              "      <td>29</td>\n",
              "      <td>81.0</td>\n",
              "    </tr>\n",
              "  </tbody>\n",
              "</table>\n",
              "</div>"
            ],
            "text/plain": [
              "   kokugo  shakai  sugaku   rika\n",
              "0    30.0    43.0      51   58.0\n",
              "1    39.0    21.0      50   56.0\n",
              "2    42.0    43.0      23   57.0\n",
              "3    29.0    87.0      77  100.0\n",
              "4    70.0    71.0      78   67.0\n",
              "5    66.0    43.0      53   58.0\n",
              "6    29.0    26.0      44   52.0\n",
              "7    42.0    54.0      37   59.0\n",
              "8    45.0    43.0       7   44.0\n",
              "9    68.0    41.0      29   81.0"
            ]
          },
          "metadata": {},
          "execution_count": 61
        }
      ]
    },
    {
      "cell_type": "markdown",
      "metadata": {
        "id": "1t0NrELLqw68"
      },
      "source": [
        "`fill_median()`関数が完成したら、以下のセルを実行して動作を確認してください。"
      ]
    },
    {
      "cell_type": "code",
      "metadata": {
        "id": "g9gruw8FrUnm",
        "colab": {
          "base_uri": "https://localhost:8080/"
        },
        "outputId": "dd164d10-d9a3-4e4e-df1f-d43b1d2c2156"
      },
      "source": [
        "df = fill_median(score) \n",
        "df.loc[2, 'kokugo']"
      ],
      "execution_count": 62,
      "outputs": [
        {
          "output_type": "execute_result",
          "data": {
            "text/plain": [
              "42.0"
            ]
          },
          "metadata": {},
          "execution_count": 62
        }
      ]
    },
    {
      "cell_type": "markdown",
      "metadata": {
        "id": "BBCaQNyXrjMT"
      },
      "source": [
        "結果は、`42.0`、となります。結果が異なる場合は、作成した`fill_median`関数に誤りがないか確認してください。"
      ]
    },
    {
      "cell_type": "markdown",
      "metadata": {
        "id": "AfPSpKzZueD6"
      },
      "source": [
        "## Q2\n",
        "整数を要素とする任意の長さの1次元配列を入力として受け取り、配列の要素の値の中で、以下の外れ値の基準にあてはまる要素からなる1次元配列を返す`find_outliers()`関数を完成させてください。なお、IQRは四分位範囲であり、第3四分位から第1四分位を引いた値です。\n",
        "- （第1四分位-1.5IQR）を値の下限としてそれより小さい値は外れ値とする\n",
        "- （第3四分位+1.5IQR）を値の上限としてそれより大きい値は外れ値とする\n",
        "\n",
        "配列の第1四分位と第3四分位は、NumPyの`percentile()`関数を用いて以下のように求められる。\n",
        "```Python\n",
        "第1四分位, 第3四分位=np.percentile(配列, [25, 75])\n",
        "```"
      ]
    },
    {
      "cell_type": "code",
      "metadata": {
        "id": "6LN7YhL-u7me",
        "exercise_id": "q2",
        "inlinetests": {
          "InlineTest_2": "\ntry:\n  import numpy as np\n  lst = [30,39,-100,29,95,70,67,200,29,1000,56,45,68]\n  assert set([-100,200,1000]) == set(find_outliers(np.array(lst))), f\"Your function returns {find_outliers(np.array(lst))}, while the expected answer is {np.array([-100, 200, 1000])}\"\nexcept AssertionError as e:\n    raise e\nexcept Exception as e:\n    assert False, f\"Your function raises an exception: {e}.\""
        }
      },
      "source": [
        "def find_outliers(input_array):\n",
        "  q1, q3 = np.percentile(input_array, [25, 75])\n",
        "  iqr = q3 - q1\n",
        "  max_ = q3 + 1.5 * iqr\n",
        "  min_ = q1 - 1.5 * iqr\n",
        "  return input_array[(input_array < min_) | (input_array > max_)]"
      ],
      "execution_count": 63,
      "outputs": []
    },
    {
      "cell_type": "markdown",
      "metadata": {
        "id": "yBkorOQ8vvwF"
      },
      "source": [
        "`find_outliers()`関数が完成したら、以下のセルを実行して動作を確認してください。"
      ]
    },
    {
      "cell_type": "code",
      "metadata": {
        "id": "8sM4UhLlvy_2",
        "colab": {
          "base_uri": "https://localhost:8080/"
        },
        "outputId": "285e57db-23f7-4f18-e727-3171d3d6f8c5"
      },
      "source": [
        "find_outliers(np.array([30,39,-100,29,95,70,67,200,29,1000,56,45,68]))"
      ],
      "execution_count": 10,
      "outputs": [
        {
          "output_type": "execute_result",
          "data": {
            "text/plain": [
              "array([-100,  200, 1000])"
            ]
          },
          "metadata": {},
          "execution_count": 10
        }
      ]
    },
    {
      "cell_type": "markdown",
      "metadata": {
        "id": "UFG9zguHv52D"
      },
      "source": [
        "結果は、`array([-100,  200, 1000])`、となります。結果が異なる場合は、作成した`find_outliers`関数に誤りがないか確認してください。"
      ]
    },
    {
      "cell_type": "markdown",
      "metadata": {
        "id": "9za5rkvLzDy7"
      },
      "source": [
        "## Q3\n",
        "以下のような形式の\"score_outlier.csv\"ファイルを読み込み、データフレーム`score`を作成します。\n",
        "```Python\n",
        "## score_outlier.csvファイル\n",
        "kokugo, shakai, sugaku, rika\n",
        "30, 43, 51, 63\n",
        "39, 21, 49, 56\n",
        "...\n",
        "```\n",
        "`score`を受け取り、各列ごとに、Q2.1と同様に四分位範囲, 第3四分位, 第1四分位を用いて外れ値を検出し、外れ値を含む行を除いたデータフレームを返す関数`drop_outliers()`を完成させてください。データフレームの各列の第1四分位と第3四分位は、pandasの`quantile()`メソッドを用いて以下のように求められる。\n",
        "```Python\n",
        "第1四分位 = データフレーム[列名].quantile(0.25)\n",
        "第3四分位 = データフレーム[列名].quantile(0.75)\n",
        "```"
      ]
    },
    {
      "cell_type": "code",
      "metadata": {
        "id": "W7y9KBL9zQwE",
        "colab": {
          "base_uri": "https://localhost:8080/"
        },
        "outputId": "b59ee50c-4a89-4855-bfb2-a428522541ed"
      },
      "source": [
        "# Colaboratoryでは以下を実行して必要なファイルをダウンロード\n",
        "!wget https://raw.githubusercontent.com/UTDataMining/2020A/master/ex3/score_outlier.csv"
      ],
      "execution_count": 64,
      "outputs": [
        {
          "output_type": "stream",
          "name": "stdout",
          "text": [
            "--2021-10-31 20:55:56--  https://raw.githubusercontent.com/UTDataMining/2020A/master/ex3/score_outlier.csv\n",
            "Resolving raw.githubusercontent.com (raw.githubusercontent.com)... 185.199.109.133, 185.199.108.133, 185.199.111.133, ...\n",
            "Connecting to raw.githubusercontent.com (raw.githubusercontent.com)|185.199.109.133|:443... connected.\n",
            "HTTP request sent, awaiting response... 200 OK\n",
            "Length: 2170 (2.1K) [text/plain]\n",
            "Saving to: ‘score_outlier.csv.2’\n",
            "\n",
            "\rscore_outlier.csv.2   0%[                    ]       0  --.-KB/s               \rscore_outlier.csv.2 100%[===================>]   2.12K  --.-KB/s    in 0s      \n",
            "\n",
            "2021-10-31 20:55:56 (40.3 MB/s) - ‘score_outlier.csv.2’ saved [2170/2170]\n",
            "\n"
          ]
        }
      ]
    },
    {
      "cell_type": "code",
      "metadata": {
        "id": "oMjoQCEfzSpj",
        "exercise_id": "q3",
        "inlinetests": {
          "InlineTest_3": "\ntry:\n  import pandas as pd\n  score = pd.read_csv('score_outlier.csv')\n  assert 155 == len(drop_outliers(score).index), f\"'len(drop_outliers(score).index)' returns {len(drop_outliers(score).index)}, while the expected answer is {155}\"\nexcept AssertionError as e:\n    raise e\nexcept Exception as e:\n    assert False, f\"Your function raises an exception: {e}.\""
        }
      },
      "source": [
        "def drop_outliers(df):\n",
        "  for c in df.columns:       \n",
        "    q1 = df[c].quantile(0.25)\n",
        "    q3 = df[c].quantile(0.75)\n",
        "    iqr = q3 - q1\n",
        "    max_ = q3 + 1.5 * iqr\n",
        "    min_ = q1 - 1.5 * iqr\n",
        "    df.loc[df[c] < min_, c] = None\n",
        "    df.loc[df[c] > max_, c] = None\n",
        "  return  df.dropna()"
      ],
      "execution_count": 65,
      "outputs": []
    },
    {
      "cell_type": "code",
      "metadata": {
        "id": "rDJfREhZwkeO",
        "colab": {
          "base_uri": "https://localhost:8080/",
          "height": 363
        },
        "outputId": "6af4b7ab-a504-4eba-ec4a-5e7a5abe79ee"
      },
      "source": [
        "score = pd.read_csv('score_outlier.csv') # csvファイル読み込み\n",
        "drop_outliers(score).head(10)  # 外れ値を含む行を除いたデータフレームを表示"
      ],
      "execution_count": 66,
      "outputs": [
        {
          "output_type": "execute_result",
          "data": {
            "text/html": [
              "<div>\n",
              "<style scoped>\n",
              "    .dataframe tbody tr th:only-of-type {\n",
              "        vertical-align: middle;\n",
              "    }\n",
              "\n",
              "    .dataframe tbody tr th {\n",
              "        vertical-align: top;\n",
              "    }\n",
              "\n",
              "    .dataframe thead th {\n",
              "        text-align: right;\n",
              "    }\n",
              "</style>\n",
              "<table border=\"1\" class=\"dataframe\">\n",
              "  <thead>\n",
              "    <tr style=\"text-align: right;\">\n",
              "      <th></th>\n",
              "      <th>kokugo</th>\n",
              "      <th>shakai</th>\n",
              "      <th>sugaku</th>\n",
              "      <th>rika</th>\n",
              "    </tr>\n",
              "  </thead>\n",
              "  <tbody>\n",
              "    <tr>\n",
              "      <th>0</th>\n",
              "      <td>30.0</td>\n",
              "      <td>43.0</td>\n",
              "      <td>51.0</td>\n",
              "      <td>63.0</td>\n",
              "    </tr>\n",
              "    <tr>\n",
              "      <th>1</th>\n",
              "      <td>39.0</td>\n",
              "      <td>21.0</td>\n",
              "      <td>49.0</td>\n",
              "      <td>56.0</td>\n",
              "    </tr>\n",
              "    <tr>\n",
              "      <th>2</th>\n",
              "      <td>29.0</td>\n",
              "      <td>30.0</td>\n",
              "      <td>23.0</td>\n",
              "      <td>57.0</td>\n",
              "    </tr>\n",
              "    <tr>\n",
              "      <th>3</th>\n",
              "      <td>95.0</td>\n",
              "      <td>87.0</td>\n",
              "      <td>77.0</td>\n",
              "      <td>100.0</td>\n",
              "    </tr>\n",
              "    <tr>\n",
              "      <th>4</th>\n",
              "      <td>70.0</td>\n",
              "      <td>71.0</td>\n",
              "      <td>78.0</td>\n",
              "      <td>67.0</td>\n",
              "    </tr>\n",
              "    <tr>\n",
              "      <th>5</th>\n",
              "      <td>67.0</td>\n",
              "      <td>53.0</td>\n",
              "      <td>56.0</td>\n",
              "      <td>61.0</td>\n",
              "    </tr>\n",
              "    <tr>\n",
              "      <th>6</th>\n",
              "      <td>29.0</td>\n",
              "      <td>26.0</td>\n",
              "      <td>44.0</td>\n",
              "      <td>52.0</td>\n",
              "    </tr>\n",
              "    <tr>\n",
              "      <th>7</th>\n",
              "      <td>56.0</td>\n",
              "      <td>54.0</td>\n",
              "      <td>37.0</td>\n",
              "      <td>59.0</td>\n",
              "    </tr>\n",
              "    <tr>\n",
              "      <th>8</th>\n",
              "      <td>45.0</td>\n",
              "      <td>21.0</td>\n",
              "      <td>7.0</td>\n",
              "      <td>44.0</td>\n",
              "    </tr>\n",
              "    <tr>\n",
              "      <th>9</th>\n",
              "      <td>68.0</td>\n",
              "      <td>41.0</td>\n",
              "      <td>29.0</td>\n",
              "      <td>81.0</td>\n",
              "    </tr>\n",
              "  </tbody>\n",
              "</table>\n",
              "</div>"
            ],
            "text/plain": [
              "   kokugo  shakai  sugaku   rika\n",
              "0    30.0    43.0    51.0   63.0\n",
              "1    39.0    21.0    49.0   56.0\n",
              "2    29.0    30.0    23.0   57.0\n",
              "3    95.0    87.0    77.0  100.0\n",
              "4    70.0    71.0    78.0   67.0\n",
              "5    67.0    53.0    56.0   61.0\n",
              "6    29.0    26.0    44.0   52.0\n",
              "7    56.0    54.0    37.0   59.0\n",
              "8    45.0    21.0     7.0   44.0\n",
              "9    68.0    41.0    29.0   81.0"
            ]
          },
          "metadata": {},
          "execution_count": 66
        }
      ]
    },
    {
      "cell_type": "markdown",
      "metadata": {
        "id": "i-o6NhmI0PQO"
      },
      "source": [
        "`drop_outliers()`関数が完成したら、以下のセルを実行して動作を確認してください。"
      ]
    },
    {
      "cell_type": "code",
      "metadata": {
        "id": "bdsS1GDC0jCP",
        "colab": {
          "base_uri": "https://localhost:8080/"
        },
        "outputId": "252eeaa9-eafd-4363-f7d4-4a38f62f5eec"
      },
      "source": [
        "len(drop_outliers(score).index)"
      ],
      "execution_count": 67,
      "outputs": [
        {
          "output_type": "execute_result",
          "data": {
            "text/plain": [
              "155"
            ]
          },
          "metadata": {},
          "execution_count": 67
        }
      ]
    },
    {
      "cell_type": "markdown",
      "metadata": {
        "id": "afq07CSG0jL3"
      },
      "source": [
        "外れ値を含む行を除いたデータフレームの行数は`155`となります。"
      ]
    },
    {
      "cell_type": "markdown",
      "metadata": {
        "id": "dc4R8MML16uG"
      },
      "source": [
        "## 外れ値と箱ひげ図の可視化"
      ]
    },
    {
      "cell_type": "markdown",
      "metadata": {
        "id": "_3kMPHxX2AxK"
      },
      "source": [
        "`matplotlib`では、以下のようにして複数の1次配列を入力として、それぞれを箱ひげ図として同時に可視化することができます。\n",
        "```Python\n",
        "plt.boxplot([配列1, 配列2, 配列3, ....], showmeans=True);\n",
        "```"
      ]
    },
    {
      "cell_type": "code",
      "metadata": {
        "id": "bHHvmHXt2EVz",
        "colab": {
          "base_uri": "https://localhost:8080/",
          "height": 265
        },
        "outputId": "abb1c80e-290c-45b9-bfef-f41fa7707eb1"
      },
      "source": [
        "score = np.loadtxt(\"score_outlier.csv\", delimiter=\",\", skiprows=1)\n",
        "plt.boxplot([score[:,0], score[:,1], score[:,2], score[:,3]], showmeans=True);"
      ],
      "execution_count": 68,
      "outputs": [
        {
          "output_type": "display_data",
          "data": {
            "image/png": "[encoded data removed]",
            "text/plain": [
              "<Figure size 432x288 with 1 Axes>"
            ]
          },
          "metadata": {
            "needs_background": "light"
          }
        }
      ]
    },
    {
      "cell_type": "markdown",
      "metadata": {
        "id": "xjsHVQDc2Skn"
      },
      "source": [
        "## ヒストグラムの可視化\n",
        "`matplotlib`では、以下のように1次配列を入力として、ヒストグラムを可視化することができます。\n",
        "```Python\n",
        "plt.hist(配列, bins=階級数);\n",
        "```"
      ]
    },
    {
      "cell_type": "code",
      "metadata": {
        "id": "V8WEONdz3AiJ",
        "colab": {
          "base_uri": "https://localhost:8080/"
        },
        "outputId": "677c0991-b178-4d99-9420-2882c8ff030d"
      },
      "source": [
        "# Colaboratoryでは以下を実行して必要なファイルをダウンロード\n",
        "!wget https://raw.githubusercontent.com/UTDataMining/2020A/master/ex3/exam_score.csv"
      ],
      "execution_count": 69,
      "outputs": [
        {
          "output_type": "stream",
          "name": "stdout",
          "text": [
            "--2021-10-31 20:56:07--  https://raw.githubusercontent.com/UTDataMining/2020A/master/ex3/exam_score.csv\n",
            "Resolving raw.githubusercontent.com (raw.githubusercontent.com)... 185.199.111.133, 185.199.109.133, 185.199.110.133, ...\n",
            "Connecting to raw.githubusercontent.com (raw.githubusercontent.com)|185.199.111.133|:443... connected.\n",
            "HTTP request sent, awaiting response... 200 OK\n",
            "Length: 1991 (1.9K) [text/plain]\n",
            "Saving to: ‘exam_score.csv.1’\n",
            "\n",
            "\rexam_score.csv.1      0%[                    ]       0  --.-KB/s               \rexam_score.csv.1    100%[===================>]   1.94K  --.-KB/s    in 0s      \n",
            "\n",
            "2021-10-31 20:56:07 (24.5 MB/s) - ‘exam_score.csv.1’ saved [1991/1991]\n",
            "\n"
          ]
        }
      ]
    },
    {
      "cell_type": "code",
      "metadata": {
        "id": "75X3_0Cz2ZHT",
        "colab": {
          "base_uri": "https://localhost:8080/",
          "height": 265
        },
        "outputId": "48a62c59-be4f-42b0-8b2e-947138cdb387"
      },
      "source": [
        "# 数学（3列目）の点数のヒストグラム\n",
        "score = np.loadtxt(\"exam_score.csv\", delimiter=\",\", skiprows=1)\n",
        "plt.hist(score[:,2], bins=20);"
      ],
      "execution_count": 70,
      "outputs": [
        {
          "output_type": "display_data",
          "data": {
            "image/png": "[encoded data removed]",
            "text/plain": [
              "<Figure size 432x288 with 1 Axes>"
            ]
          },
          "metadata": {
            "needs_background": "light"
          }
        }
      ]
    },
    {
      "cell_type": "code",
      "metadata": {
        "id": "2Q33m71Q3D_o",
        "colab": {
          "base_uri": "https://localhost:8080/",
          "height": 265
        },
        "outputId": "81498bbe-c560-432a-e8a8-c8d5c43e0299"
      },
      "source": [
        "# 平均=muと標準偏差=stdの時の正規分布に従うランダムな値からなる配列を入力とするヒストグラム\n",
        "mu, std = 50, 25\n",
        "nor = np.random.normal(mu, std,1000)\n",
        "plt.hist(nor, bins=20);"
      ],
      "execution_count": 71,
      "outputs": [
        {
          "output_type": "display_data",
          "data": {
            "image/png": "[encoded data removed]",
            "text/plain": [
              "<Figure size 432x288 with 1 Axes>"
            ]
          },
          "metadata": {
            "needs_background": "light"
          }
        }
      ]
    },
    {
      "cell_type": "markdown",
      "metadata": {
        "id": "A6y5BJ9q3mNl"
      },
      "source": [
        "## Q4\n",
        "### 散布図\n",
        "`matplotlib`では、以下のように2つの1次配列を入力として、散布図を可視化することができます。\n",
        "```Python\n",
        "plt.plot(配列1, 配列2, 'o');\n",
        "```"
      ]
    },
    {
      "cell_type": "code",
      "metadata": {
        "id": "Hr5IULTC3rvZ",
        "colab": {
          "base_uri": "https://localhost:8080/",
          "height": 265
        },
        "outputId": "6afe8bff-f8e5-48eb-ce27-28cfeaaa2431"
      },
      "source": [
        "# 数学と理科の点数の散布図\n",
        "score = np.loadtxt(\"exam_score.csv\", delimiter=\",\", skiprows=1)\n",
        "plt.plot(score[:,2], score[:,3], 'o');"
      ],
      "execution_count": 72,
      "outputs": [
        {
          "output_type": "display_data",
          "data": {
            "image/png": "[encoded data removed]",
            "text/plain": [
              "<Figure size 432x288 with 1 Axes>"
            ]
          },
          "metadata": {
            "needs_background": "light"
          }
        }
      ]
    },
    {
      "cell_type": "markdown",
      "metadata": {
        "id": "PFcC2qjw4OVC"
      },
      "source": [
        "整数を要素とする同じ長さの2つの1次元配列を入力として受け取り、それらの配列の要素の相関係数を返す`correlation()`関数を完成させてください。2つの配列は先頭から順にそれぞれの要素が対応するものとします。それぞれの配列の対応する要素の値を$x_{i}, y_{i}$とすると、相関係数は以下のように求められます。\n",
        "\n",
        "$\\frac{1}{n}\\Sigma^{n}_{i=1}(\\frac{x_{i}-\\overline{x}}{s_{x}})(\\frac{y_{i}-\\overline{y}}{s_{y}})$\n",
        "\n",
        "$\\overline{x}, \\overline{y}$は平均、$s_{x}, s_{y}$は標準偏差です。"
      ]
    },
    {
      "cell_type": "code",
      "metadata": {
        "id": "BuneOUM-5TNN",
        "exercise_id": "q4",
        "inlinetests": {
          "InlineTest_4": "\ntry:\n  import numpy as np\n  score = np.loadtxt(\"exam_score.csv\", delimiter=\",\", skiprows=1)\n  assert 81 == int(correlation(score[:,2], score[:,3])*100), f\"Your function returns {correlation(score[:,2], score[:,3])}, while the expected answer is {0.81}...\"\nexcept AssertionError as e:\n    raise e\nexcept Exception as e:\n    assert False, f\"Your function raises an exception: {e}.\""
        }
      },
      "source": [
        "def correlation(x, y):\n",
        "  x_mean, x_std = np.mean(x), np.std(x)\n",
        "  y_mean, y_std = np.mean(y), np.std(y)\n",
        "  return np.dot((x - x_mean) / x_std, (y - y_mean) / y_std) / len(x)"
      ],
      "execution_count": 73,
      "outputs": []
    },
    {
      "cell_type": "markdown",
      "metadata": {
        "id": "rg5COWFR5t7v"
      },
      "source": [
        "`correlation()`関数が完成したら、以下のセルを実行して動作を確認してください。"
      ]
    },
    {
      "cell_type": "code",
      "metadata": {
        "id": "kMpriQEr5uRi",
        "colab": {
          "base_uri": "https://localhost:8080/"
        },
        "outputId": "f6c6e1c2-4881-42b8-d94c-19fc19213b21"
      },
      "source": [
        "score = np.loadtxt(\"exam_score.csv\", delimiter=\",\", skiprows=1)\n",
        "correlation(score[:,2], score[:,3])"
      ],
      "execution_count": 74,
      "outputs": [
        {
          "output_type": "execute_result",
          "data": {
            "text/plain": [
              "0.8179470727376854"
            ]
          },
          "metadata": {},
          "execution_count": 74
        }
      ]
    },
    {
      "cell_type": "markdown",
      "metadata": {
        "id": "3-pGG8sT57vj"
      },
      "source": [
        "相関係数は、約`0.81`となります。"
      ]
    },
    {
      "cell_type": "markdown",
      "metadata": {
        "id": "ZsbeD8lQ7l4i"
      },
      "source": [
        "### 参考\n",
        "NumPyの`corrcoef()`関数を使うと2つの1次元配列の相関係数を以下のように求めることができます。"
      ]
    },
    {
      "cell_type": "code",
      "metadata": {
        "id": "IfjWtEGn7pgN",
        "colab": {
          "base_uri": "https://localhost:8080/"
        },
        "outputId": "632f88d2-519c-4c4a-d72a-dc2b3d443815"
      },
      "source": [
        "score = np.loadtxt(\"exam_score.csv\", delimiter=\",\", skiprows=1)\n",
        "np.corrcoef(score[:,2], score[:,3])"
      ],
      "execution_count": 75,
      "outputs": [
        {
          "output_type": "execute_result",
          "data": {
            "text/plain": [
              "array([[1.        , 0.81794707],\n",
              "       [0.81794707, 1.        ]])"
            ]
          },
          "metadata": {},
          "execution_count": 75
        }
      ]
    },
    {
      "cell_type": "markdown",
      "metadata": {
        "id": "Iu2EvDqX7yYt"
      },
      "source": [
        "pandasの`corr`メソッドを使うとデータフレームの列間の相関係数を以下のように求めることができます。"
      ]
    },
    {
      "cell_type": "code",
      "metadata": {
        "id": "4cGEbtSb7xdn",
        "colab": {
          "base_uri": "https://localhost:8080/",
          "height": 175
        },
        "outputId": "287a78e0-c78f-4068-854a-2e4d0d51f05c"
      },
      "source": [
        "score = pd.read_csv(\"exam_score.csv\", sep=\",\")\n",
        "score.corr(method='pearson')"
      ],
      "execution_count": 76,
      "outputs": [
        {
          "output_type": "execute_result",
          "data": {
            "text/html": [
              "<div>\n",
              "<style scoped>\n",
              "    .dataframe tbody tr th:only-of-type {\n",
              "        vertical-align: middle;\n",
              "    }\n",
              "\n",
              "    .dataframe tbody tr th {\n",
              "        vertical-align: top;\n",
              "    }\n",
              "\n",
              "    .dataframe thead th {\n",
              "        text-align: right;\n",
              "    }\n",
              "</style>\n",
              "<table border=\"1\" class=\"dataframe\">\n",
              "  <thead>\n",
              "    <tr style=\"text-align: right;\">\n",
              "      <th></th>\n",
              "      <th>kokugo</th>\n",
              "      <th>shakai</th>\n",
              "      <th>sugaku</th>\n",
              "      <th>rika</th>\n",
              "    </tr>\n",
              "  </thead>\n",
              "  <tbody>\n",
              "    <tr>\n",
              "      <th>kokugo</th>\n",
              "      <td>1.000000</td>\n",
              "      <td>0.782622</td>\n",
              "      <td>0.718526</td>\n",
              "      <td>0.717996</td>\n",
              "    </tr>\n",
              "    <tr>\n",
              "      <th>shakai</th>\n",
              "      <td>0.782622</td>\n",
              "      <td>1.000000</td>\n",
              "      <td>0.778242</td>\n",
              "      <td>0.834075</td>\n",
              "    </tr>\n",
              "    <tr>\n",
              "      <th>sugaku</th>\n",
              "      <td>0.718526</td>\n",
              "      <td>0.778242</td>\n",
              "      <td>1.000000</td>\n",
              "      <td>0.817947</td>\n",
              "    </tr>\n",
              "    <tr>\n",
              "      <th>rika</th>\n",
              "      <td>0.717996</td>\n",
              "      <td>0.834075</td>\n",
              "      <td>0.817947</td>\n",
              "      <td>1.000000</td>\n",
              "    </tr>\n",
              "  </tbody>\n",
              "</table>\n",
              "</div>"
            ],
            "text/plain": [
              "          kokugo    shakai    sugaku      rika\n",
              "kokugo  1.000000  0.782622  0.718526  0.717996\n",
              "shakai  0.782622  1.000000  0.778242  0.834075\n",
              "sugaku  0.718526  0.778242  1.000000  0.817947\n",
              "rika    0.717996  0.834075  0.817947  1.000000"
            ]
          },
          "metadata": {},
          "execution_count": 76
        }
      ]
    },
    {
      "cell_type": "markdown",
      "metadata": {
        "id": "Yw5Ju0SZ8uCE"
      },
      "source": [
        "これらの相関係数の大小に基づいて以下のように列間の相関の大小をヒートマップとして可視化することができます。"
      ]
    },
    {
      "cell_type": "code",
      "metadata": {
        "id": "x3eqbBab8tSx",
        "colab": {
          "base_uri": "https://localhost:8080/",
          "height": 269
        },
        "outputId": "e6c51339-50d2-4f28-dc7e-d994e88c8328"
      },
      "source": [
        "plt.colorbar(plt.imshow(score.corr(method='pearson')));"
      ],
      "execution_count": 77,
      "outputs": [
        {
          "output_type": "display_data",
          "data": {
            "image/png": "[encoded data removed]",
            "text/plain": [
              "<Figure size 432x288 with 2 Axes>"
            ]
          },
          "metadata": {
            "needs_background": "light"
          }
        }
      ]
    },
    {
      "cell_type": "markdown",
      "metadata": {
        "id": "N7CZtShl87yJ"
      },
      "source": [
        "## Q5\n",
        "以下のような形式の\"exam_score.csv\"ファイルを読み込み、作成したNumPyの配列を受け取り、各教科の点数をその教科の平均値と分散を用いて標準化した配列を返す`normalize_score()`関数を完成させてください。平均値と分散の計算には、NumPyの関数またはndarrayオブジェクトのメソッド、どちらを使ってもよいです。また、分散は標本分散としてください。\n",
        "```Python\n",
        "## exam_score.csvファイル\n",
        "kokugo, shakai, sugaku, rika\n",
        "30, 43, 51, 63\n",
        "39, 21, 49, 56\n",
        "...\n",
        "```\n",
        "\n",
        "配列の列ごとに関数やメソッドを適用するには以下のように`axis`引数を0とする。\n",
        "```Python\n",
        "np.mean(配列, axis=0)\n",
        "配列.mean(axis=0)\n",
        "```"
      ]
    },
    {
      "cell_type": "code",
      "metadata": {
        "id": "K10GoIHS9GDx",
        "exercise_id": "q5",
        "inlinetests": {
          "InlineTest_5": "\ntry:\n  import numpy as np\n  score = np.loadtxt(\"exam_score.csv\", delimiter=\",\", skiprows=1)\n  assert 1 == round(normalize_score(score)[:,0].var()), f\"'round(normalize_score(score)[:,0].var())' returns {round(normalize_score(score)[:,0].var())}, while the expected answer is {1}\"\n  assert 1 == round(normalize_score(score)[:,1].var()), f\"'round(normalize_score(score)[:,1].var())' returns {round(normalize_score(score)[:,1].var())}, while the expected answer is {1}\"\n  assert 1 == round(normalize_score(score)[:,2].var()), f\"'round(normalize_score(score)[:,2].var())' returns {round(normalize_score(score)[:,2].var())}, while the expected answer is {1}\"\n  assert 1 == round(normalize_score(score)[:,3].var()), f\"'round(normalize_score(score)[:,3].var())' returns {round(normalize_score(score)[:,3].var())}, while the expected answer is {1}\"\nexcept AssertionError as e:\n    raise e\nexcept Exception as e:\n    assert False, f\"Your function raises an exception: {e}.\""
        }
      },
      "source": [
        "def normalize_score(X):\n",
        "  return (X - np.mean(X, axis=0)) / np.std(X, axis=0)"
      ],
      "execution_count": 78,
      "outputs": []
    },
    {
      "cell_type": "markdown",
      "metadata": {
        "id": "eroCLdPv9sYr"
      },
      "source": [
        "`normalize_score()`関数が完成したら、以下のセルを実行して動作を確認してください。"
      ]
    },
    {
      "cell_type": "code",
      "metadata": {
        "id": "p_dVn6EK-Hi0",
        "colab": {
          "base_uri": "https://localhost:8080/"
        },
        "outputId": "0aae99ac-68a0-4e65-f8ab-3916aedeed0b"
      },
      "source": [
        "score = np.loadtxt(\"exam_score.csv\", delimiter=\",\", skiprows=1)\n",
        "print(round(normalize_score(score)[:,0].var()))\n",
        "print(round(normalize_score(score)[:,1].var()))\n",
        "print(round(normalize_score(score)[:,2].var()))\n",
        "print(round(normalize_score(score)[:,3].var()))"
      ],
      "execution_count": 79,
      "outputs": [
        {
          "output_type": "stream",
          "name": "stdout",
          "text": [
            "1\n",
            "1\n",
            "1\n",
            "1\n"
          ]
        }
      ]
    },
    {
      "cell_type": "markdown",
      "metadata": {
        "id": "9pyuQH93-g4D"
      },
      "source": [
        "各教科の点数の分散は、約`1`となります。"
      ]
    },
    {
      "cell_type": "markdown",
      "metadata": {
        "id": "VrxhWASUBO4p"
      },
      "source": [
        "### 参考\n",
        "pandasでは以下のようにしてデータフレームの各列をその列の平均値と分散を用いて標準化できます。"
      ]
    },
    {
      "cell_type": "code",
      "metadata": {
        "id": "IPCNc7i_BQon",
        "colab": {
          "base_uri": "https://localhost:8080/",
          "height": 206
        },
        "outputId": "93e4acce-85ce-4174-bb55-1889a9f89886"
      },
      "source": [
        "score_df = pd.read_csv('exam_score.csv')\n",
        "((score_df - score_df.mean()) / score_df.std(ddof=0)).head(5)"
      ],
      "execution_count": 80,
      "outputs": [
        {
          "output_type": "execute_result",
          "data": {
            "text/html": [
              "<div>\n",
              "<style scoped>\n",
              "    .dataframe tbody tr th:only-of-type {\n",
              "        vertical-align: middle;\n",
              "    }\n",
              "\n",
              "    .dataframe tbody tr th {\n",
              "        vertical-align: top;\n",
              "    }\n",
              "\n",
              "    .dataframe thead th {\n",
              "        text-align: right;\n",
              "    }\n",
              "</style>\n",
              "<table border=\"1\" class=\"dataframe\">\n",
              "  <thead>\n",
              "    <tr style=\"text-align: right;\">\n",
              "      <th></th>\n",
              "      <th>kokugo</th>\n",
              "      <th>shakai</th>\n",
              "      <th>sugaku</th>\n",
              "      <th>rika</th>\n",
              "    </tr>\n",
              "  </thead>\n",
              "  <tbody>\n",
              "    <tr>\n",
              "      <th>0</th>\n",
              "      <td>-1.025785</td>\n",
              "      <td>0.158828</td>\n",
              "      <td>0.222884</td>\n",
              "      <td>0.614446</td>\n",
              "    </tr>\n",
              "    <tr>\n",
              "      <th>1</th>\n",
              "      <td>-0.612372</td>\n",
              "      <td>-0.869612</td>\n",
              "      <td>0.140113</td>\n",
              "      <td>0.286478</td>\n",
              "    </tr>\n",
              "    <tr>\n",
              "      <th>2</th>\n",
              "      <td>-1.071720</td>\n",
              "      <td>-0.448887</td>\n",
              "      <td>-0.935912</td>\n",
              "      <td>0.333331</td>\n",
              "    </tr>\n",
              "    <tr>\n",
              "      <th>3</th>\n",
              "      <td>1.959977</td>\n",
              "      <td>2.215709</td>\n",
              "      <td>1.298908</td>\n",
              "      <td>2.347991</td>\n",
              "    </tr>\n",
              "    <tr>\n",
              "      <th>4</th>\n",
              "      <td>0.811607</td>\n",
              "      <td>1.467753</td>\n",
              "      <td>1.340294</td>\n",
              "      <td>0.801856</td>\n",
              "    </tr>\n",
              "  </tbody>\n",
              "</table>\n",
              "</div>"
            ],
            "text/plain": [
              "     kokugo    shakai    sugaku      rika\n",
              "0 -1.025785  0.158828  0.222884  0.614446\n",
              "1 -0.612372 -0.869612  0.140113  0.286478\n",
              "2 -1.071720 -0.448887 -0.935912  0.333331\n",
              "3  1.959977  2.215709  1.298908  2.347991\n",
              "4  0.811607  1.467753  1.340294  0.801856"
            ]
          },
          "metadata": {},
          "execution_count": 80
        }
      ]
    },
    {
      "cell_type": "markdown",
      "metadata": {
        "id": "_2E-gStbsO3c"
      },
      "source": [
        "## コードのテスト\n",
        "以下の実行ボタンを押してから、設問ごとにCheck関数でコードのテストをしてください。"
      ]
    },
    {
      "cell_type": "code",
      "metadata": {
        "id": "mzFSWMV7sDi2",
        "colab": {
          "base_uri": "https://localhost:8080/"
        },
        "outputId": "544d230f-aa41-4bd8-a71c-3ffc9eda5820"
      },
      "source": [
        "# コードのテストの前にこのセルを実行してください\n",
        "!pip install prog_edu_assistant_tools\n",
        "import re\n",
        "import sys\n",
        "import jinja2\n",
        "from IPython.core import display\n",
        "from google.colab import _message as google_message\n",
        "from prog_edu_assistant_tools.magics import report, autotest, CaptureOutput\n",
        "from prog_edu_assistant_tools.check import Check"
      ],
      "execution_count": 81,
      "outputs": [
        {
          "output_type": "stream",
          "name": "stdout",
          "text": [
            "Requirement already satisfied: prog_edu_assistant_tools in /usr/local/lib/python3.7/dist-packages (0.3.1)\n",
            "Requirement already satisfied: Jinja2 in /usr/local/lib/python3.7/dist-packages (from prog_edu_assistant_tools) (2.11.3)\n",
            "Requirement already satisfied: IPython in /usr/local/lib/python3.7/dist-packages (from prog_edu_assistant_tools) (5.5.0)\n",
            "Requirement already satisfied: simplegeneric>0.8 in /usr/local/lib/python3.7/dist-packages (from IPython->prog_edu_assistant_tools) (0.8.1)\n",
            "Requirement already satisfied: decorator in /usr/local/lib/python3.7/dist-packages (from IPython->prog_edu_assistant_tools) (4.4.2)\n",
            "Requirement already satisfied: setuptools>=18.5 in /usr/local/lib/python3.7/dist-packages (from IPython->prog_edu_assistant_tools) (57.4.0)\n",
            "Requirement already satisfied: pickleshare in /usr/local/lib/python3.7/dist-packages (from IPython->prog_edu_assistant_tools) (0.7.5)\n",
            "Requirement already satisfied: pygments in /usr/local/lib/python3.7/dist-packages (from IPython->prog_edu_assistant_tools) (2.6.1)\n",
            "Requirement already satisfied: pexpect in /usr/local/lib/python3.7/dist-packages (from IPython->prog_edu_assistant_tools) (4.8.0)\n",
            "Requirement already satisfied: prompt-toolkit<2.0.0,>=1.0.4 in /usr/local/lib/python3.7/dist-packages (from IPython->prog_edu_assistant_tools) (1.0.18)\n",
            "Requirement already satisfied: traitlets>=4.2 in /usr/local/lib/python3.7/dist-packages (from IPython->prog_edu_assistant_tools) (5.1.0)\n",
            "Requirement already satisfied: six>=1.9.0 in /usr/local/lib/python3.7/dist-packages (from prompt-toolkit<2.0.0,>=1.0.4->IPython->prog_edu_assistant_tools) (1.15.0)\n",
            "Requirement already satisfied: wcwidth in /usr/local/lib/python3.7/dist-packages (from prompt-toolkit<2.0.0,>=1.0.4->IPython->prog_edu_assistant_tools) (0.2.5)\n",
            "Requirement already satisfied: MarkupSafe>=0.23 in /usr/local/lib/python3.7/dist-packages (from Jinja2->prog_edu_assistant_tools) (2.0.1)\n",
            "Requirement already satisfied: ptyprocess>=0.5 in /usr/local/lib/python3.7/dist-packages (from pexpect->IPython->prog_edu_assistant_tools) (0.7.0)\n"
          ]
        }
      ]
    },
    {
      "cell_type": "markdown",
      "metadata": {
        "id": "CtlZONIWtgiY"
      },
      "source": [
        "## Q1"
      ]
    },
    {
      "cell_type": "code",
      "metadata": {
        "id": "2Gp8b0L_ti5r",
        "colab": {
          "base_uri": "https://localhost:8080/",
          "height": 160
        },
        "outputId": "e94e3e21-700f-49bb-f0e6-93f2bbf72fa0"
      },
      "source": [
        "# Run this cell to check your solution.\n",
        "# If you get an error 'Check not defined', make sure you have run all preceding\n",
        "# cells once (Runtime -> Run before)\n",
        "Check('q1')"
      ],
      "execution_count": 82,
      "outputs": [
        {
          "output_type": "execute_result",
          "data": {
            "text/html": [
              "\n",
              "  <h4 style='color: #387;'>Your submission</h4>\n",
              "  <pre style='background: #F0F0F0; padding: 3pt; margin: 4pt; border: 1pt solid #DDD; border-radius: 3pt;'>def fill_median(df):\n",
              "  return df.fillna(df.median())</pre>\n",
              "  <h4 style='color: #387;'>Results</h4>\n",
              "  \n",
              "  &#x2705;\n",
              "  Looks OK.\n",
              "  "
            ],
            "text/plain": [
              "<IPython.core.display.HTML object>"
            ]
          },
          "metadata": {},
          "execution_count": 82
        }
      ]
    },
    {
      "cell_type": "markdown",
      "metadata": {
        "id": "yDrSx1xExhgO"
      },
      "source": [
        "## Q2"
      ]
    },
    {
      "cell_type": "code",
      "metadata": {
        "id": "8dx-nzartkha",
        "colab": {
          "base_uri": "https://localhost:8080/",
          "height": 230
        },
        "outputId": "aa503344-97c0-4c5c-dc82-c37fa9522093"
      },
      "source": [
        "# Run this cell to check your solution.\n",
        "# If you get an error 'Check not defined', make sure you have run all preceding\n",
        "# cells once (Runtime -> Run before)\n",
        "Check('q2')"
      ],
      "execution_count": 83,
      "outputs": [
        {
          "output_type": "execute_result",
          "data": {
            "text/html": [
              "\n",
              "  <h4 style='color: #387;'>Your submission</h4>\n",
              "  <pre style='background: #F0F0F0; padding: 3pt; margin: 4pt; border: 1pt solid #DDD; border-radius: 3pt;'>def find_outliers(input_array):\n",
              "  q1, q3 = np.percentile(input_array, [25, 75])\n",
              "  iqr = q3 - q1\n",
              "  max_ = q3 + 1.5 * iqr\n",
              "  min_ = q1 - 1.5 * iqr\n",
              "  return input_array[(input_array < min_) | (input_array > max_)]</pre>\n",
              "  <h4 style='color: #387;'>Results</h4>\n",
              "  \n",
              "  &#x2705;\n",
              "  Looks OK.\n",
              "  "
            ],
            "text/plain": [
              "<IPython.core.display.HTML object>"
            ]
          },
          "metadata": {},
          "execution_count": 83
        }
      ]
    },
    {
      "cell_type": "markdown",
      "metadata": {
        "id": "GpaVE7GL1a2U"
      },
      "source": [
        "## Q3"
      ]
    },
    {
      "cell_type": "code",
      "metadata": {
        "id": "SMqVV4bixkqv",
        "colab": {
          "base_uri": "https://localhost:8080/",
          "height": 299
        },
        "outputId": "1a5f0c2b-0df2-4243-8076-fb4f06033f96"
      },
      "source": [
        "# Run this cell to check your solution.\n",
        "# If you get an error 'Check not defined', make sure you have run all preceding\n",
        "# cells once (Runtime -> Run before)\n",
        "Check('q3')"
      ],
      "execution_count": 84,
      "outputs": [
        {
          "output_type": "execute_result",
          "data": {
            "text/html": [
              "\n",
              "  <h4 style='color: #387;'>Your submission</h4>\n",
              "  <pre style='background: #F0F0F0; padding: 3pt; margin: 4pt; border: 1pt solid #DDD; border-radius: 3pt;'>def drop_outliers(df):\n",
              "  for c in df.columns:       \n",
              "    q1 = df[c].quantile(0.25)\n",
              "    q3 = df[c].quantile(0.75)\n",
              "    iqr = q3 - q1\n",
              "    max_ = q3 + 1.5 * iqr\n",
              "    min_ = q1 - 1.5 * iqr\n",
              "    df.loc[df[c] < min_, c] = None\n",
              "    df.loc[df[c] > max_, c] = None\n",
              "  return  df.dropna()</pre>\n",
              "  <h4 style='color: #387;'>Results</h4>\n",
              "  \n",
              "  &#x2705;\n",
              "  Looks OK.\n",
              "  "
            ],
            "text/plain": [
              "<IPython.core.display.HTML object>"
            ]
          },
          "metadata": {},
          "execution_count": 84
        }
      ]
    },
    {
      "cell_type": "markdown",
      "metadata": {
        "id": "2wAh_pMI7VW3"
      },
      "source": [
        "## Q4"
      ]
    },
    {
      "cell_type": "code",
      "metadata": {
        "id": "YJjnXGp71eDb",
        "colab": {
          "base_uri": "https://localhost:8080/",
          "height": 195
        },
        "outputId": "fc0fa864-e04d-4faf-bc11-cfd730c4953b"
      },
      "source": [
        "# Run this cell to check your solution.\n",
        "# If you get an error 'Check not defined', make sure you have run all preceding\n",
        "# cells once (Runtime -> Run before)\n",
        "Check('q4')"
      ],
      "execution_count": 85,
      "outputs": [
        {
          "output_type": "execute_result",
          "data": {
            "text/html": [
              "\n",
              "  <h4 style='color: #387;'>Your submission</h4>\n",
              "  <pre style='background: #F0F0F0; padding: 3pt; margin: 4pt; border: 1pt solid #DDD; border-radius: 3pt;'>def correlation(x, y):\n",
              "  x_mean, x_std = np.mean(x), np.std(x)\n",
              "  y_mean, y_std = np.mean(y), np.std(y)\n",
              "  return np.dot((x - x_mean) / x_std, (y - y_mean) / y_std) / len(x)</pre>\n",
              "  <h4 style='color: #387;'>Results</h4>\n",
              "  \n",
              "  &#x2705;\n",
              "  Looks OK.\n",
              "  "
            ],
            "text/plain": [
              "<IPython.core.display.HTML object>"
            ]
          },
          "metadata": {},
          "execution_count": 85
        }
      ]
    },
    {
      "cell_type": "markdown",
      "metadata": {
        "id": "jV_7uqJW_oW_"
      },
      "source": [
        "## Q5"
      ]
    },
    {
      "cell_type": "code",
      "metadata": {
        "id": "pNYGsygx7X8d",
        "colab": {
          "base_uri": "https://localhost:8080/",
          "height": 160
        },
        "outputId": "4248f660-0732-439b-ab0b-0b138aa47be1"
      },
      "source": [
        "# Run this cell to check your solution.\n",
        "# If you get an error 'Check not defined', make sure you have run all preceding\n",
        "# cells once (Runtime -> Run before)\n",
        "Check('q5')"
      ],
      "execution_count": 86,
      "outputs": [
        {
          "output_type": "execute_result",
          "data": {
            "text/html": [
              "\n",
              "  <h4 style='color: #387;'>Your submission</h4>\n",
              "  <pre style='background: #F0F0F0; padding: 3pt; margin: 4pt; border: 1pt solid #DDD; border-radius: 3pt;'>def normalize_score(X):\n",
              "  return (X - np.mean(X, axis=0)) / np.std(X, axis=0)</pre>\n",
              "  <h4 style='color: #387;'>Results</h4>\n",
              "  \n",
              "  &#x2705;\n",
              "  Looks OK.\n",
              "  "
            ],
            "text/plain": [
              "<IPython.core.display.HTML object>"
            ]
          },
          "metadata": {},
          "execution_count": 86
        }
      ]
    }
  ]
}